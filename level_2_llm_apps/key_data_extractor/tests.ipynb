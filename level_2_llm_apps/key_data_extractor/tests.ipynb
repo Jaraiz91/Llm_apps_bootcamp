{
 "cells": [
  {
   "cell_type": "code",
   "execution_count": 9,
   "metadata": {},
   "outputs": [],
   "source": [
    "import os\n",
    "from dotenv import find_dotenv, load_dotenv\n",
    "\n",
    "_ = load_dotenv(find_dotenv())\n",
    "groq_api_key = os.environ['GROQ_API_KEY']\n"
   ]
  },
  {
   "cell_type": "code",
   "execution_count": 12,
   "metadata": {},
   "outputs": [
    {
     "data": {
      "text/plain": [
       "'In Spain, Las Fallas is a unique grand Fiesta held every March in ValÈncia city. This unusual celebration consists of collecting beautiful gigantic sculptures for month-most, set then burned offering excitement joy or maybe fright to community displaying joy light warmth while.'"
      ]
     },
     "execution_count": 12,
     "metadata": {},
     "output_type": "execute_result"
    }
   ],
   "source": [
    "from langchain_groq import ChatGroq\n",
    "from langchain_core.prompts import ChatPromptTemplate\n",
    "from langchain_core.output_parsers import StrOutputParser\n",
    "\n",
    "llm = ChatGroq(model='llama-3.1-70b-versatile', api_key=groq_api_key, temperature=2)\n",
    "prompt = ChatPromptTemplate.from_template(\"\"\"Tell me a fun fact about {input}\"\"\")\n",
    "chain = prompt | llm | StrOutputParser()\n",
    "\n",
    "chain.invoke({'input':'Spain'})\n"
   ]
  },
  {
   "cell_type": "code",
   "execution_count": 34,
   "metadata": {},
   "outputs": [],
   "source": [
    "from langchain.document_loaders.generic import GenericLoader\n",
    "from langchain_community.document_loaders.parsers import (\n",
    "    OpenAIWhisperParser,\n",
    ")\n",
    "\n",
    "from langchain_core.documents.base import Blob\n",
    "\n",
    "\n",
    "from youtube_dl import YoutubeDL\n",
    "\n"
   ]
  },
  {
   "cell_type": "code",
   "execution_count": 36,
   "metadata": {},
   "outputs": [
    {
     "name": "stdout",
     "output_type": "stream",
     "text": [
      "[youtube] u08ieSVxkPk: Downloading webpage\n"
     ]
    },
    {
     "name": "stderr",
     "output_type": "stream",
     "text": [
      "ERROR: Unable to extract uploader id; please report this issue on https://yt-dl.org/bug . Make sure you are using the latest version; see  https://yt-dl.org/update  on how to update. Be sure to call youtube-dl with the --verbose flag and include its complete output.\n"
     ]
    },
    {
     "name": "stdout",
     "output_type": "stream",
     "text": [
      "Error al descargar el audio: ERROR: Unable to extract uploader id; please report this issue on https://yt-dl.org/bug . Make sure you are using the latest version; see  https://yt-dl.org/update  on how to update. Be sure to call youtube-dl with the --verbose flag and include its complete output.\n"
     ]
    },
    {
     "ename": "TypeError",
     "evalue": "Expected str or Path, got <class 'NoneType'>",
     "output_type": "error",
     "traceback": [
      "\u001b[1;31m---------------------------------------------------------------------------\u001b[0m",
      "\u001b[1;31mTypeError\u001b[0m                                 Traceback (most recent call last)",
      "Cell \u001b[1;32mIn[36], line 51\u001b[0m\n\u001b[0;32m     49\u001b[0m audio_path \u001b[38;5;241m=\u001b[39m download_audio(url, save_dir)\n\u001b[0;32m     50\u001b[0m \u001b[38;5;66;03m#blob = Blob(path=audio_path)\u001b[39;00m\n\u001b[1;32m---> 51\u001b[0m loader \u001b[38;5;241m=\u001b[39m \u001b[43mGenericLoader\u001b[49m\u001b[38;5;241;43m.\u001b[39;49m\u001b[43mfrom_filesystem\u001b[49m\u001b[43m(\u001b[49m\n\u001b[0;32m     52\u001b[0m \u001b[43m    \u001b[49m\u001b[43maudio_path\u001b[49m\u001b[43m,\u001b[49m\n\u001b[0;32m     53\u001b[0m \u001b[43m    \u001b[49m\u001b[43mparser\u001b[49m\u001b[38;5;241;43m=\u001b[39;49m\u001b[43mOpenAIWhisperParser\u001b[49m\u001b[43m(\u001b[49m\u001b[43m)\u001b[49m\n\u001b[0;32m     54\u001b[0m \u001b[43m)\u001b[49m\n\u001b[0;32m     55\u001b[0m docs \u001b[38;5;241m=\u001b[39m loader\u001b[38;5;241m.\u001b[39mload()\n",
      "File \u001b[1;32mc:\\Users\\jarai\\anaconda3\\envs\\llm\\lib\\site-packages\\langchain_community\\document_loaders\\generic.py:162\u001b[0m, in \u001b[0;36mGenericLoader.from_filesystem\u001b[1;34m(cls, path, glob, exclude, suffixes, show_progress, parser, parser_kwargs)\u001b[0m\n\u001b[0;32m    128\u001b[0m \u001b[38;5;129m@classmethod\u001b[39m\n\u001b[0;32m    129\u001b[0m \u001b[38;5;28;01mdef\u001b[39;00m \u001b[38;5;21mfrom_filesystem\u001b[39m(\n\u001b[0;32m    130\u001b[0m     \u001b[38;5;28mcls\u001b[39m,\n\u001b[1;32m   (...)\u001b[0m\n\u001b[0;32m    138\u001b[0m     parser_kwargs: Optional[\u001b[38;5;28mdict\u001b[39m] \u001b[38;5;241m=\u001b[39m \u001b[38;5;28;01mNone\u001b[39;00m,\n\u001b[0;32m    139\u001b[0m ) \u001b[38;5;241m-\u001b[39m\u001b[38;5;241m>\u001b[39m GenericLoader:\n\u001b[0;32m    140\u001b[0m \u001b[38;5;250m    \u001b[39m\u001b[38;5;124;03m\"\"\"Create a generic document loader using a filesystem blob loader.\u001b[39;00m\n\u001b[0;32m    141\u001b[0m \n\u001b[0;32m    142\u001b[0m \u001b[38;5;124;03m    Args:\u001b[39;00m\n\u001b[1;32m   (...)\u001b[0m\n\u001b[0;32m    160\u001b[0m \u001b[38;5;124;03m        A generic document loader.\u001b[39;00m\n\u001b[0;32m    161\u001b[0m \u001b[38;5;124;03m    \"\"\"\u001b[39;00m\n\u001b[1;32m--> 162\u001b[0m     blob_loader \u001b[38;5;241m=\u001b[39m \u001b[43mFileSystemBlobLoader\u001b[49m\u001b[43m(\u001b[49m\u001b[43m  \u001b[49m\u001b[38;5;66;43;03m# type: ignore[attr-defined, misc]\u001b[39;49;00m\n\u001b[0;32m    163\u001b[0m \u001b[43m        \u001b[49m\u001b[43mpath\u001b[49m\u001b[43m,\u001b[49m\n\u001b[0;32m    164\u001b[0m \u001b[43m        \u001b[49m\u001b[43mglob\u001b[49m\u001b[38;5;241;43m=\u001b[39;49m\u001b[43mglob\u001b[49m\u001b[43m,\u001b[49m\n\u001b[0;32m    165\u001b[0m \u001b[43m        \u001b[49m\u001b[43mexclude\u001b[49m\u001b[38;5;241;43m=\u001b[39;49m\u001b[43mexclude\u001b[49m\u001b[43m,\u001b[49m\n\u001b[0;32m    166\u001b[0m \u001b[43m        \u001b[49m\u001b[43msuffixes\u001b[49m\u001b[38;5;241;43m=\u001b[39;49m\u001b[43msuffixes\u001b[49m\u001b[43m,\u001b[49m\n\u001b[0;32m    167\u001b[0m \u001b[43m        \u001b[49m\u001b[43mshow_progress\u001b[49m\u001b[38;5;241;43m=\u001b[39;49m\u001b[43mshow_progress\u001b[49m\u001b[43m,\u001b[49m\n\u001b[0;32m    168\u001b[0m \u001b[43m    \u001b[49m\u001b[43m)\u001b[49m\n\u001b[0;32m    169\u001b[0m     \u001b[38;5;28;01mif\u001b[39;00m \u001b[38;5;28misinstance\u001b[39m(parser, \u001b[38;5;28mstr\u001b[39m):\n\u001b[0;32m    170\u001b[0m         \u001b[38;5;28;01mif\u001b[39;00m parser \u001b[38;5;241m==\u001b[39m \u001b[38;5;124m\"\u001b[39m\u001b[38;5;124mdefault\u001b[39m\u001b[38;5;124m\"\u001b[39m:\n",
      "File \u001b[1;32mc:\\Users\\jarai\\anaconda3\\envs\\llm\\lib\\site-packages\\langchain_community\\document_loaders\\blob_loaders\\file_system.py:107\u001b[0m, in \u001b[0;36mFileSystemBlobLoader.__init__\u001b[1;34m(self, path, glob, exclude, suffixes, show_progress)\u001b[0m\n\u001b[0;32m    105\u001b[0m     _path \u001b[38;5;241m=\u001b[39m Path(path)\n\u001b[0;32m    106\u001b[0m \u001b[38;5;28;01melse\u001b[39;00m:\n\u001b[1;32m--> 107\u001b[0m     \u001b[38;5;28;01mraise\u001b[39;00m \u001b[38;5;167;01mTypeError\u001b[39;00m(\u001b[38;5;124mf\u001b[39m\u001b[38;5;124m\"\u001b[39m\u001b[38;5;124mExpected str or Path, got \u001b[39m\u001b[38;5;132;01m{\u001b[39;00m\u001b[38;5;28mtype\u001b[39m(path)\u001b[38;5;132;01m}\u001b[39;00m\u001b[38;5;124m\"\u001b[39m)\n\u001b[0;32m    109\u001b[0m \u001b[38;5;28mself\u001b[39m\u001b[38;5;241m.\u001b[39mpath \u001b[38;5;241m=\u001b[39m _path\u001b[38;5;241m.\u001b[39mexpanduser()  \u001b[38;5;66;03m# Expand user to handle ~\u001b[39;00m\n\u001b[0;32m    110\u001b[0m \u001b[38;5;28mself\u001b[39m\u001b[38;5;241m.\u001b[39mglob \u001b[38;5;241m=\u001b[39m glob\n",
      "\u001b[1;31mTypeError\u001b[0m: Expected str or Path, got <class 'NoneType'>"
     ]
    }
   ],
   "source": [
    "import os\n",
    "import subprocess\n",
    "from pathlib import Path\n",
    "\n",
    "\n",
    "def download_audio(url, save_dir):\n",
    "    # Asegúrate de que el directorio existe\n",
    "    if not os.path.exists(save_dir):\n",
    "        os.makedirs(save_dir)\n",
    "    \n",
    "    # Definir el nombre del archivo de salida\n",
    "    output_template = os.path.join(save_dir, '%(title)s.%(ext)s')\n",
    "\n",
    "    # Configuración de opciones para yt_dlp\n",
    "    ydl_opts = {\n",
    "        'format': 'bestaudio/best',\n",
    "        'outtmpl': output_template,\n",
    "        'postprocessors': [{\n",
    "            'key': 'FFmpegExtractAudio',\n",
    "            'preferredcodec': 'mp3',\n",
    "            'preferredquality': '192',\n",
    "        }],\n",
    "    }\n",
    "\n",
    "    # Descargar el audio\n",
    "    try:\n",
    "        with YoutubeDL(ydl_opts) as ydl:\n",
    "            ydl.download([url])\n",
    "        print('Audio descargado exitosamente.')\n",
    "    except Exception as e:\n",
    "        print(f\"Error al descargar el audio: {e}\")\n",
    "        return None\n",
    "    \n",
    "    # Encuentra el archivo descargado\n",
    "    audio_files = list(Path(save_dir).glob('*.mp3'))\n",
    "    if audio_files:\n",
    "        return str(audio_files[0])\n",
    "    else:\n",
    "        print(\"No se encontró ningún archivo de audio descargado.\")\n",
    "        return None\n",
    "\n",
    "\n",
    "\n",
    "# URL del video de YouTube\n",
    "url = 'https://www.youtube.com/watch?v=u08ieSVxkPk'\n",
    "save_dir = '../data/youtube/'\n",
    "\n",
    "# Paso 1: Descargar el audio\n",
    "audio_path = download_audio(url, save_dir)\n",
    "#blob = Blob(path=audio_path)\n",
    "loader = GenericLoader.from_filesystem(\n",
    "    audio_path,\n",
    "    parser=OpenAIWhisperParser()\n",
    ")\n",
    "docs = loader.load()\n"
   ]
  }
 ],
 "metadata": {
  "kernelspec": {
   "display_name": "llm",
   "language": "python",
   "name": "python3"
  },
  "language_info": {
   "codemirror_mode": {
    "name": "ipython",
    "version": 3
   },
   "file_extension": ".py",
   "mimetype": "text/x-python",
   "name": "python",
   "nbconvert_exporter": "python",
   "pygments_lexer": "ipython3",
   "version": "3.10.14"
  }
 },
 "nbformat": 4,
 "nbformat_minor": 2
}

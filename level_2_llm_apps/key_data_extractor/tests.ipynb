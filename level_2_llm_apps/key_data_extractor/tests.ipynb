{
 "cells": [
  {
   "cell_type": "code",
   "execution_count": 9,
   "metadata": {},
   "outputs": [],
   "source": [
    "import os\n",
    "from dotenv import find_dotenv, load_dotenv\n",
    "\n",
    "_ = load_dotenv(find_dotenv())\n",
    "groq_api_key = os.environ['GROQ_API_KEY']\n"
   ]
  },
  {
   "cell_type": "code",
   "execution_count": 41,
   "metadata": {},
   "outputs": [
    {
     "data": {
      "text/plain": [
       "'A fun fact about Spain is that it\\'s home to La Nochevieja (also referred to as La Nochevieja Dobla del Mono). It means \"the Night of Giving the Glasses Twice to Grizzled Old Person as Money\". It translates practically that participants buying bunch barmium bottle p. Wine and dinner 00 is practically useless\\n\\n More to funny at about a minute prior midnight called luck of drink a raisin a to drop, where upon Spanish television like that do eat - \\'gapho for at twelve o a eating , because as prior gongs one gets up gets eain grapes all simultaneously no lein o by so therefore simultaneously those gongs of chim on get go can as for spained it take the go\\'s upon min go year there eat simultaneously twelve spain drink p grap according rais drink that would make there have one big drink e and pern it there called had gets go Spain .\\n\\n\\n Simpley upon \\'all goes cl time as strike year mininues good fortune sp per time struck  lucky those then also gives raise \\' to drink have an d this o go New drink then time upon also go take l . upon goes teir now midnight starts New them ye then had good makes New gives has the . each also it makes whole not by can midnight a few have t first not fun very r thing put for new do all for Span most which their to can get e also prior them an now for  gets, once e did lucky makes very think in re y gets no - on after first all also then a will goes.\\n\\n fun r things does when many even at thing just minutes sp what n n when midnight before Spain with you Spanish know tradition has go first  years at an twelve the from then went o has to no old has it who know not even really w did know w midnight has me lucky after person. eat a long then t out goes i really New g with no v s twelve got am h funny those re has thing in do had r its b who has got r been be before it very very can, re, p does on ch can h traditi h new things an what in drink a. make when had th does if so minutes grape . every will if Spain those c fun first from those years more re minute j - last for p can . Span its from this up some did each luck l , lucky or start so Span re eat does more no for  n like j s you its when Spanish think same give an be , simple an gets t this like me thing what s I n I the o f just i m of what \\' me \\n more good \\' s s new made gives grap before. with gives me , them whole i them for y it who it who f knows us how year b grape any very drink does or as drink no m is good get if when those more years \\n\\nThe reason Spain celebrates grapes : is is tradition prior grape an really is one good simple make years old started old one also start do is good so new are still is first went new and have thing their eat midnight tradition w so an grap by grape f drinks in   then last really before were many when at so this so some .'"
      ]
     },
     "execution_count": 41,
     "metadata": {},
     "output_type": "execute_result"
    },
    {
     "ename": "",
     "evalue": "",
     "output_type": "error",
     "traceback": [
      "\u001b[1;31mThe Kernel crashed while executing code in the current cell or a previous cell. \n",
      "\u001b[1;31mPlease review the code in the cell(s) to identify a possible cause of the failure. \n",
      "\u001b[1;31mClick <a href='https://aka.ms/vscodeJupyterKernelCrash'>here</a> for more info. \n",
      "\u001b[1;31mView Jupyter <a href='command:jupyter.viewOutput'>log</a> for further details."
     ]
    }
   ],
   "source": [
    "from langchain_groq import ChatGroq\n",
    "from langchain_core.prompts import ChatPromptTemplate\n",
    "from langchain_core.output_parsers import StrOutputParser\n",
    "\n",
    "llm = ChatGroq(model='llama-3.1-70b-versatile', api_key=groq_api_key, temperature=2)\n",
    "prompt = ChatPromptTemplate.from_template(\"\"\"Tell me a fun fact about {input}\"\"\")\n",
    "chain = prompt | llm | StrOutputParser()\n",
    "\n",
    "chain.invoke({'input':'Spain'})\n"
   ]
  },
  {
   "cell_type": "code",
   "execution_count": 40,
   "metadata": {},
   "outputs": [
    {
     "data": {
      "text/plain": [
       "'\\n\\n\\n\\nEl pánico se instala en Moncloa y Sánchez se atrinchera con sus fieles en el búnker - Libertad Digital\\n\\n\\n\\n\\n\\n\\n\\n\\n\\n\\n\\n\\n\\n\\n\\n\\n\\n\\n\\n\\n\\n\\n\\n\\n\\n\\n\\n\\n\\n\\n\\n\\n\\n\\n\\n\\n\\n\\n\\n\\n\\n\\n\\n\\n\\n\\n\\n\\n\\n\\n\\n\\n\\n\\n\\n\\n\\n\\n\\n\\n\\n\\n\\n\\n\\n\\n\\n\\n\\n\\n\\n\\n\\n\\n\\n\\n\\n\\n\\n\\n\\n\\n\\n\\n\\n\\n\\n\\n\\n\\n\\n\\n\\n\\n\\n\\n\\nMenú\\n\\n\\nLibertad Digital \\n \\n\\n\\nDirecto\\nesRadio\\n\\nColabora\\n\\nIniciar Sesión\\n\\n\\n\\n\\n\\n\\n\\n\\nAndalucía\\nMadrid\\nCanarias\\nCastilla y León\\nComunidad Valenciana\\nExtremadura\\nPolítica\\nEconomía\\n\\n\\n\\n\\n Inicio  España  Política  El pánico se instala en Moncloa y Sánchez se atrinchera con sus fieles en el búnker  \\n\\n\\n\\n\\n\\n\\n\\n\\n\\n\\n\\n\\nEl pánico se instala en Moncloa y Sánchez se atrinchera con sus fieles en el búnker\\nLa sensación de fin de ciclo se extiende en el PSOE mientras en el Gobierno ven que esto no es una tormenta pasajera tal y como les prometieron. \\n\\n\\nRubén Fernández Seguir a rubenfdez 12/10/2024 - 07:04 \\n\\nComentar\\nCompartir\\nTuitear\\nEnviar\\nEnviar\\n\\n\\n\\n\\n\\n\\n   Sánchez defiende que actuó de inmediato al apartar a Ábalos. | LD / AGENCIAS\\n\\n\\n\\nEn la Rusia soviética había un chiste recurrente sobre el momento tras la muerte de Stalin: \"Stalin ha muerto\", decía un funcionario, \"pues a ver quién se lo cuenta\", respondía otro. El ocaso de los líderes suele dejar imágenes de decadencia, de aquellos que no quieren asumir que están perdiendo el poder. Se atrincheran en sus búnkeres, con sus últimos leales, y mueven tropas imaginarias por los mapas creyendo que les funcionarán los trucos de antaño. A Pedro Sánchez le está empezando a pasar esto. En el PSOE se está instalando una sensación de fin de ciclo. Se ve en la mayoría de las federaciones. El aval de Ferraz a un candidato alternativa ya no infunde terror sino que se ve como una oportunidad para confrontar y venderse como outsider. Ya no hay temor, sino que se reta abiertamente a unas primarias a la dirección federal. A Sánchez ya sólo le quedan los fieles que permanecen en el Gobierno y que reproducen de manera mansa el argumentario que ha creado Francesc Vallés, secretario de Estado de Comunicación y exdiputado del PSC. Se vio este pasado martes cuando la ministra portavoz, Pilar Alegría, inmoló su credibilidad reproduciendo un argumentario plagado de inexactitudes y bulos sobre el auto de la Audiencia Provincial y la ley que reducirá penas a 41 etarras que cumplieron parte de su condena en Francia. El Gobierno miente de forma descarada acerca del auto de la Audiencia sobre Begoña GómezRubén Fernández Se instala la desconfianza En el partido empiezan a ver con desconfianza algunos de los argumentarios que les han llegado. Durante meses, se les repitió que el caso de Begoña Gómez quedaría archivado y la mayoría se lo creyó. También los ministros creían que no pasaría el filtro de la Audiencia de Madrid pero, lejos de archivarse, el auto ha avalado al juez Peinado para que siga investigando. Primer \"shock\" de la semana. Ahora, en privado, muchos prefieren reconocer que no saben qué pasará con la mujer del presidente, antes que augurar su archivo, aunque el argumentario oficial, y que seguirán repitiendo en Moncloa, es que la causa está próxima a su fin. De la catarata de mentiras de Pilar Alegría, sólo rectificarán el bulo que reprochaba al magistrado su \"investigación prospectiva\" y que no figura en las 23 páginas del auto. El resto, repiten que no es mentira, que es lo que ellos creen de veras que sucederá. El Gobierno mantendrá su estrategia de bulos y solo admite dos errores de AlegríaRubén Fernández El Gobierno, que durante meses tildó de \"bulos\" de \"la fachosfera\" alguna de las investigaciones periodísticas sobre la mujer del presidente o de exministros como Ábalos, empieza a ver cómo esos indicios salen ahora en informes de la UCO. En el seno del Ejecutivo hay quienes creen que fue \"excesivo\" arremeter contra el magistrado Peinado y contra los medios de manera tan abierta. Lamentan que esa estrategia, ideada por Vallés, les está pasando ahora factura. El búnker en el que se ha instalado el núcleo duro es tal que este jueves, cuando ya decenas de portadas adelantaban el informe de la UCO, en la Secretaría de Estado de Comunicación todavía estaban convencidos de que podrían esquivar el asunto en las tres ruedas de prensa que Ángel Víctor Torres tenía ese día, tras las reuniones de Sánchez con los presidentes de Canarias, Aragón y Navarra. \\nRelacionado\\n\\n\\r\\n                 Las acusaciones del caso Koldo piden la declaración de Sánchez y Calviño            \\n\\r\\n                 La izquierda mediática camufla como puede el informe del caso Koldo que acorrala a Sánchez            \\n\\nVídeo: Shock en el Gobierno: un noqueado Bolaños no acierta a responder sobre Delcy Rodríguez            \\n\\nVídeo: Pilar Alegría vuelve a mentir, ahora por Delcy Rodríguez: \"No se celebró esa no reunión\"            \\n\\n Ni siquiera le prepararon un argumentario al ministro hasta por la tarde. Ya a mediodía, en la segunda comparecencia, se coló una pregunta sobre Ábalos. El malestar en el Gobierno era evidente. Vallés, que había bajado a monitorizar la rueda de prensa, había dado orden de no dar turnos a medios críticos con el Ejecutivo, creyendo que el informe era una cosa que sólo interesaba a la fachosfera. No fue así y la primera en abrir la veda fue TVE, ante el pánico gubernamental. Pasadas las seis de la tarde, cuando ya todos los medios tenían en sus portadas las novedades, el Gobierno vio cómo la última rueda de prensa se convertía en monográfica sobre el informe de la UCO . Torres negaba \"la visita\" de Delcy, pese a que su avión tocó tierra y la vicepresidenta de Maduro llegó a ir a una sala VIP de Barajas. La conmoción en el Gobierno era total pero, para no dar sensación de caos, repetían que hay \"preocupación cero\" . No opinan lo mismo en el partido. Nadie quiere opinar pero creen que esto no ha hecho más que empezar y que veremos más novedades. Al día siguiente, para tratar de aparentar normalidad, cambiaron a última hora el formato de una declaración institucional de Sánchez desde el Vaticano. En principio, no iba a admitir preguntas y al final aceptaron tres cuestiones (dos sobre internacional y uno sobre la UCO). Sánchez, \"prendado\" El argumentario que recibieron este viernes los ministros era idéntico. \"No hubo ninguna reunión\" y \"la parada\" del avión de Delcy Rodríguez \"fue por cuestiones técnicas\" para que descansase la tripulación. Sólo una titubeante Pilar Alegría lo repetía aunque, a la primera repregunta sobre esta débil argumentación, la ministra se ponía nerviosa y decía que la suya era \"la verdad\". Otros, como Félix Bolaños u Óscar Puente, preferían improvisar, saltándose el argumentario. El ministro de Presidencia y Justicia, descolocado y en estado de \"shock\" apenas articulaba palabras. Su rostro parecía el del Comité \"Funeral\" del PSOE en el que Pedro Sánchez amagó con retirarse tras su \"periodo de reflexión\". Shock en el Gobierno: un noqueado Bolaños no acierta a responder sobre Delcy RodríguezLibertad Digital  En aquella ocasión, Bolaños se echó a llorar, pensando que era el fin de Pedro Sánchez. ¿Y qué hace ahora el líder socialista? El presidente del Gobierno sigue despachando con Vallés y con su flamante jefe de Gabinete, Diego Rubio, ideando nuevas estrategias y prometiéndole que esto es un bache pasajero. Sánchez sigue mostrando su preferencia por asuntos internacionales, creyendo que el \"ruido\" nacional será pasajero. El presidente está prendado del nivel intelectual y académico de Rubio, mientras en el Gobierno dudan de que este joven, sin aval del partido, sea capaz de dirigir la tormenta judicial que se avecina sobre Sánchez y el Gobierno. \\n\\nTemas\\n\\nPedro Sánchez\\nPSOE\\n\\n \\nCompartir\\nTuitear\\nEnviar\\nEnviar\\n \\n\\n\\n\\n\\nEn España\\n\\n  \\n\\n\\n\\n\\n\\n0 comentarios\\n\\n\\n\\nVerOcultar todos los comentarios\\n\\n\\n\\n\\n\\n\\n\\nServicios\\n\\nTráfico\\nEl Tiempo\\nPrecio gasolineras\\nRadares\\nHemeroteca\\n\\n\\n\\n\\n\\nRadarbot\\nLibro\\nCurso\\n\\n\\n\\n\\n\\n\\n\\n\\n\\n\\n\\n\\n\\n\\n\\n\\n\\n\\n\\n\\n\\n\\n\\n\\n\\n\\nSecciones\\n\\nPortada\\nOpinión\\nEspaña\\nAndalucía\\nMadrid\\nCanarias\\nValencia\\nInternacional\\nEmpresas\\nCorazón\\nViajar y Comer\\nDeportes\\nFútbol\\nCultura\\nLibros\\nCine\\nSeries\\nTecnociencia\\nSalud\\nVídeos\\nFotos\\n\\n\\n\\nCanales\\n\\n\\n\\n\\n\\n\\n\\n\\nServicios\\n\\nMe lo compro\\nYo quiero uno\\nTráfico\\nPrecio gasolineras\\nRadares\\nEl Tiempo\\nGestiona tu patrimonio\\nParticipación\\nMóviles\\nBoletines\\nRSS\\nVersión accesible\\nÚltimas noticias\\n\\n\\n\\nArchivo\\n\\nHemeroteca\\nPersonajes\\nLugares\\nEmpresas\\nOrganismos\\nTemas\\nEventos LD\\n\\n\\n\\nRedes\\n\\nFacebook\\nTwitter\\nInstagram\\nYouTube\\nTelegram\\n\\n\\n\\n\\n\\nLibertad Digital\\n\\nInformación corporativa\\nTérminos y Condiciones\\nCookies\\nAsistencia técnica\\nAutores\\n\\n\\nTrafficking: DFP\\nCampañas: Smartclip\\nEstadísticas: GfK DAM\\nHousing: Acens\\nStreaming: Flumotion\\nSistemas: Nova \\n\\n\\nEncuéntranos en:\\n\\nFacebook\\nTwitter\\nInstagram\\nYouTube\\nFlipboard\\nTelegram\\niTunes\\n\\n\\n\\n\\n\\n'"
      ]
     },
     "execution_count": 40,
     "metadata": {},
     "output_type": "execute_result"
    }
   ],
   "source": [
    "from langchain_community.document_loaders import WebBaseLoader\n",
    "\n",
    "url = 'https://www.libertaddigital.com/espana/politica/2024-10-12/el-panico-se-instala-en-moncloa-y-sanchez-se-atrinchera-con-sus-fieles-en-el-bunker-7173146/'\n",
    "\n",
    "loader = WebBaseLoader(url)\n",
    "docs = loader.load()\n",
    "' '.join([x.page_content for x in docs])"
   ]
  },
  {
   "cell_type": "code",
   "execution_count": 34,
   "metadata": {},
   "outputs": [],
   "source": [
    "from langchain.document_loaders.generic import GenericLoader\n",
    "from langchain_community.document_loaders.parsers import (\n",
    "    OpenAIWhisperParser,\n",
    ")\n",
    "\n",
    "from langchain_core.documents.base import Blob\n",
    "\n",
    "\n",
    "from youtube_dl import YoutubeDL\n",
    "\n"
   ]
  },
  {
   "cell_type": "code",
   "execution_count": 36,
   "metadata": {},
   "outputs": [
    {
     "name": "stdout",
     "output_type": "stream",
     "text": [
      "[youtube] u08ieSVxkPk: Downloading webpage\n"
     ]
    },
    {
     "name": "stderr",
     "output_type": "stream",
     "text": [
      "ERROR: Unable to extract uploader id; please report this issue on https://yt-dl.org/bug . Make sure you are using the latest version; see  https://yt-dl.org/update  on how to update. Be sure to call youtube-dl with the --verbose flag and include its complete output.\n"
     ]
    },
    {
     "name": "stdout",
     "output_type": "stream",
     "text": [
      "Error al descargar el audio: ERROR: Unable to extract uploader id; please report this issue on https://yt-dl.org/bug . Make sure you are using the latest version; see  https://yt-dl.org/update  on how to update. Be sure to call youtube-dl with the --verbose flag and include its complete output.\n"
     ]
    },
    {
     "ename": "TypeError",
     "evalue": "Expected str or Path, got <class 'NoneType'>",
     "output_type": "error",
     "traceback": [
      "\u001b[1;31m---------------------------------------------------------------------------\u001b[0m",
      "\u001b[1;31mTypeError\u001b[0m                                 Traceback (most recent call last)",
      "Cell \u001b[1;32mIn[36], line 51\u001b[0m\n\u001b[0;32m     49\u001b[0m audio_path \u001b[38;5;241m=\u001b[39m download_audio(url, save_dir)\n\u001b[0;32m     50\u001b[0m \u001b[38;5;66;03m#blob = Blob(path=audio_path)\u001b[39;00m\n\u001b[1;32m---> 51\u001b[0m loader \u001b[38;5;241m=\u001b[39m \u001b[43mGenericLoader\u001b[49m\u001b[38;5;241;43m.\u001b[39;49m\u001b[43mfrom_filesystem\u001b[49m\u001b[43m(\u001b[49m\n\u001b[0;32m     52\u001b[0m \u001b[43m    \u001b[49m\u001b[43maudio_path\u001b[49m\u001b[43m,\u001b[49m\n\u001b[0;32m     53\u001b[0m \u001b[43m    \u001b[49m\u001b[43mparser\u001b[49m\u001b[38;5;241;43m=\u001b[39;49m\u001b[43mOpenAIWhisperParser\u001b[49m\u001b[43m(\u001b[49m\u001b[43m)\u001b[49m\n\u001b[0;32m     54\u001b[0m \u001b[43m)\u001b[49m\n\u001b[0;32m     55\u001b[0m docs \u001b[38;5;241m=\u001b[39m loader\u001b[38;5;241m.\u001b[39mload()\n",
      "File \u001b[1;32mc:\\Users\\jarai\\anaconda3\\envs\\llm\\lib\\site-packages\\langchain_community\\document_loaders\\generic.py:162\u001b[0m, in \u001b[0;36mGenericLoader.from_filesystem\u001b[1;34m(cls, path, glob, exclude, suffixes, show_progress, parser, parser_kwargs)\u001b[0m\n\u001b[0;32m    128\u001b[0m \u001b[38;5;129m@classmethod\u001b[39m\n\u001b[0;32m    129\u001b[0m \u001b[38;5;28;01mdef\u001b[39;00m \u001b[38;5;21mfrom_filesystem\u001b[39m(\n\u001b[0;32m    130\u001b[0m     \u001b[38;5;28mcls\u001b[39m,\n\u001b[1;32m   (...)\u001b[0m\n\u001b[0;32m    138\u001b[0m     parser_kwargs: Optional[\u001b[38;5;28mdict\u001b[39m] \u001b[38;5;241m=\u001b[39m \u001b[38;5;28;01mNone\u001b[39;00m,\n\u001b[0;32m    139\u001b[0m ) \u001b[38;5;241m-\u001b[39m\u001b[38;5;241m>\u001b[39m GenericLoader:\n\u001b[0;32m    140\u001b[0m \u001b[38;5;250m    \u001b[39m\u001b[38;5;124;03m\"\"\"Create a generic document loader using a filesystem blob loader.\u001b[39;00m\n\u001b[0;32m    141\u001b[0m \n\u001b[0;32m    142\u001b[0m \u001b[38;5;124;03m    Args:\u001b[39;00m\n\u001b[1;32m   (...)\u001b[0m\n\u001b[0;32m    160\u001b[0m \u001b[38;5;124;03m        A generic document loader.\u001b[39;00m\n\u001b[0;32m    161\u001b[0m \u001b[38;5;124;03m    \"\"\"\u001b[39;00m\n\u001b[1;32m--> 162\u001b[0m     blob_loader \u001b[38;5;241m=\u001b[39m \u001b[43mFileSystemBlobLoader\u001b[49m\u001b[43m(\u001b[49m\u001b[43m  \u001b[49m\u001b[38;5;66;43;03m# type: ignore[attr-defined, misc]\u001b[39;49;00m\n\u001b[0;32m    163\u001b[0m \u001b[43m        \u001b[49m\u001b[43mpath\u001b[49m\u001b[43m,\u001b[49m\n\u001b[0;32m    164\u001b[0m \u001b[43m        \u001b[49m\u001b[43mglob\u001b[49m\u001b[38;5;241;43m=\u001b[39;49m\u001b[43mglob\u001b[49m\u001b[43m,\u001b[49m\n\u001b[0;32m    165\u001b[0m \u001b[43m        \u001b[49m\u001b[43mexclude\u001b[49m\u001b[38;5;241;43m=\u001b[39;49m\u001b[43mexclude\u001b[49m\u001b[43m,\u001b[49m\n\u001b[0;32m    166\u001b[0m \u001b[43m        \u001b[49m\u001b[43msuffixes\u001b[49m\u001b[38;5;241;43m=\u001b[39;49m\u001b[43msuffixes\u001b[49m\u001b[43m,\u001b[49m\n\u001b[0;32m    167\u001b[0m \u001b[43m        \u001b[49m\u001b[43mshow_progress\u001b[49m\u001b[38;5;241;43m=\u001b[39;49m\u001b[43mshow_progress\u001b[49m\u001b[43m,\u001b[49m\n\u001b[0;32m    168\u001b[0m \u001b[43m    \u001b[49m\u001b[43m)\u001b[49m\n\u001b[0;32m    169\u001b[0m     \u001b[38;5;28;01mif\u001b[39;00m \u001b[38;5;28misinstance\u001b[39m(parser, \u001b[38;5;28mstr\u001b[39m):\n\u001b[0;32m    170\u001b[0m         \u001b[38;5;28;01mif\u001b[39;00m parser \u001b[38;5;241m==\u001b[39m \u001b[38;5;124m\"\u001b[39m\u001b[38;5;124mdefault\u001b[39m\u001b[38;5;124m\"\u001b[39m:\n",
      "File \u001b[1;32mc:\\Users\\jarai\\anaconda3\\envs\\llm\\lib\\site-packages\\langchain_community\\document_loaders\\blob_loaders\\file_system.py:107\u001b[0m, in \u001b[0;36mFileSystemBlobLoader.__init__\u001b[1;34m(self, path, glob, exclude, suffixes, show_progress)\u001b[0m\n\u001b[0;32m    105\u001b[0m     _path \u001b[38;5;241m=\u001b[39m Path(path)\n\u001b[0;32m    106\u001b[0m \u001b[38;5;28;01melse\u001b[39;00m:\n\u001b[1;32m--> 107\u001b[0m     \u001b[38;5;28;01mraise\u001b[39;00m \u001b[38;5;167;01mTypeError\u001b[39;00m(\u001b[38;5;124mf\u001b[39m\u001b[38;5;124m\"\u001b[39m\u001b[38;5;124mExpected str or Path, got \u001b[39m\u001b[38;5;132;01m{\u001b[39;00m\u001b[38;5;28mtype\u001b[39m(path)\u001b[38;5;132;01m}\u001b[39;00m\u001b[38;5;124m\"\u001b[39m)\n\u001b[0;32m    109\u001b[0m \u001b[38;5;28mself\u001b[39m\u001b[38;5;241m.\u001b[39mpath \u001b[38;5;241m=\u001b[39m _path\u001b[38;5;241m.\u001b[39mexpanduser()  \u001b[38;5;66;03m# Expand user to handle ~\u001b[39;00m\n\u001b[0;32m    110\u001b[0m \u001b[38;5;28mself\u001b[39m\u001b[38;5;241m.\u001b[39mglob \u001b[38;5;241m=\u001b[39m glob\n",
      "\u001b[1;31mTypeError\u001b[0m: Expected str or Path, got <class 'NoneType'>"
     ]
    }
   ],
   "source": [
    "import os\n",
    "import subprocess\n",
    "from pathlib import Path\n",
    "\n",
    "\n",
    "def download_audio(url, save_dir):\n",
    "    # Asegúrate de que el directorio existe\n",
    "    if not os.path.exists(save_dir):\n",
    "        os.makedirs(save_dir)\n",
    "    \n",
    "    # Definir el nombre del archivo de salida\n",
    "    output_template = os.path.join(save_dir, '%(title)s.%(ext)s')\n",
    "\n",
    "    # Configuración de opciones para yt_dlp\n",
    "    ydl_opts = {\n",
    "        'format': 'bestaudio/best',\n",
    "        'outtmpl': output_template,\n",
    "        'postprocessors': [{\n",
    "            'key': 'FFmpegExtractAudio',\n",
    "            'preferredcodec': 'mp3',\n",
    "            'preferredquality': '192',\n",
    "        }],\n",
    "    }\n",
    "\n",
    "    # Descargar el audio\n",
    "    try:\n",
    "        with YoutubeDL(ydl_opts) as ydl:\n",
    "            ydl.download([url])\n",
    "        print('Audio descargado exitosamente.')\n",
    "    except Exception as e:\n",
    "        print(f\"Error al descargar el audio: {e}\")\n",
    "        return None\n",
    "    \n",
    "    # Encuentra el archivo descargado\n",
    "    audio_files = list(Path(save_dir).glob('*.mp3'))\n",
    "    if audio_files:\n",
    "        return str(audio_files[0])\n",
    "    else:\n",
    "        print(\"No se encontró ningún archivo de audio descargado.\")\n",
    "        return None\n",
    "\n",
    "\n",
    "\n",
    "# URL del video de YouTube\n",
    "url = 'https://www.youtube.com/watch?v=u08ieSVxkPk'\n",
    "save_dir = '../data/youtube/'\n",
    "\n",
    "# Paso 1: Descargar el audio\n",
    "audio_path = download_audio(url, save_dir)\n",
    "#blob = Blob(path=audio_path)\n",
    "loader = GenericLoader.from_filesystem(\n",
    "    audio_path,\n",
    "    parser=OpenAIWhisperParser()\n",
    ")\n",
    "docs = loader.load()\n"
   ]
  }
 ],
 "metadata": {
  "kernelspec": {
   "display_name": "llm",
   "language": "python",
   "name": "python3"
  },
  "language_info": {
   "codemirror_mode": {
    "name": "ipython",
    "version": 3
   },
   "file_extension": ".py",
   "mimetype": "text/x-python",
   "name": "python",
   "nbconvert_exporter": "python",
   "pygments_lexer": "ipython3",
   "version": "3.10.14"
  }
 },
 "nbformat": 4,
 "nbformat_minor": 2
}

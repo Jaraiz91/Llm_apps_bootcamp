{
 "cells": [
  {
   "cell_type": "markdown",
   "metadata": {},
   "source": [
    "# CrewAI In Depth"
   ]
  },
  {
   "cell_type": "markdown",
   "metadata": {},
   "source": [
    "## Traditional App Development vs. LLM and Multi-Agent App Development"
   ]
  },
  {
   "cell_type": "markdown",
   "metadata": {},
   "source": [
    "#### Traditional App Development (Example: any traditional software application)\n",
    "* Clearly defined input formats: string, integer, etc.\n",
    "* Clearly defined transformations to apply to the inputs: math calculation, loops, etc.\n",
    "* Clearly defined output formats: string, integer, etc.\n",
    "* If you run the program again, for the same input you will have always the same output."
   ]
  },
  {
   "cell_type": "markdown",
   "metadata": {},
   "source": [
    "#### LLM and Multi-Agent App Development (Example: ChatGPT)\n",
    "* Fuzzy inputs: open-ended text, it can be different types of text (string, markdown, tabular data, math operation, etc). You don't know what the user is going to enter as input.\n",
    "* Fuzzy transformations: You don't know if the LLM will transform the input into a list, write a paragraph, answer a question, brainstorm new ideas, perform logic reasoning, math reasoning, etc.\n",
    "* Fuzzy output: open-ended text, it can be different types of text (paragraph, numbers, json, markdown, etc).\n",
    "* If you run the program again, for the same input you will NOT have always the same output."
   ]
  },
  {
   "cell_type": "markdown",
   "metadata": {},
   "source": [
    "## Key elements of Multi-Agent Apps"
   ]
  },
  {
   "cell_type": "markdown",
   "metadata": {},
   "source": [
    "#### Role Playing\n",
    "* A good role definition can make a huge difference on the responses you are going to get from agents."
   ]
  },
  {
   "cell_type": "markdown",
   "metadata": {},
   "source": [
    "#### Focus\n",
    "* Multiple specialized agents have better results than one know-it-all agent."
   ]
  },
  {
   "cell_type": "markdown",
   "metadata": {},
   "source": [
    "#### Tools\n",
    "* Do not overload your agents with too many tools.\n",
    "* Choose the tools carefully."
   ]
  },
  {
   "cell_type": "markdown",
   "metadata": {},
   "source": [
    "#### Cooperation\n",
    "* Take feedback.\n",
    "* Delegate tasks."
   ]
  },
  {
   "cell_type": "markdown",
   "metadata": {},
   "source": [
    "#### Guardrails\n",
    "* To avoid:\n",
    "    * Hallucinations.\n",
    "    * Infinite loops.\n",
    "    * Etc.\n",
    "* To enforce:\n",
    "    * Steps.\n",
    "    * Output format.\n",
    "    * Etc."
   ]
  },
  {
   "cell_type": "markdown",
   "metadata": {},
   "source": [
    "#### Memory\n",
    "* Memory is the factor that can make a bigger impact in the performance of your agents.\n",
    "* Memory = ability for the agent to remember what it has done previously and to use that to inform new decisions and new executions.\n",
    "* In CrewAI you have 3 types of memory for free, out of the box:\n",
    "    *  Short-term memory:\n",
    "        *  Lives only during the Crew execution and\n",
    "        *  It is shared accross all Agents of the Crew.\n",
    "    *  Long-term memory:\n",
    "        *  Lives even after the Crew finishes.\n",
    "        *  Stored in a database locally.\n",
    "        *  Allows the Agents to learn from previous executions.\n",
    "        *  Leads to \"self-improving\" agents.\n",
    "    *  Entity memory.\n",
    "        *  Lives only during the Crew execution.\n",
    "        *  Stores the subjects that are being discussed: people names, company names, locations, etc."
   ]
  },
  {
   "cell_type": "markdown",
   "metadata": {},
   "source": [
    "## How do multi-agents collaborate? \"Processes\" define how agents collaborate.\n",
    "* Sequentially: one task after the other.\n",
    "* Hierarchical: one manager and one team.\n",
    "    * The manager always remember the initial goal.\n",
    "    * The manager delegates.\n",
    "    * The manager reviews and can ask for further improvements. \n",
    "* In parallel.\n",
    "    * Asyncronously. "
   ]
  },
  {
   "cell_type": "markdown",
   "metadata": {},
   "source": [
    "## How can it be delegation among Agents?\n",
    "* Delegation: agents ask questions to each other.\n",
    "    * This can happen in any kind of process: sequential, hierarchical and in parallel."
   ]
  },
  {
   "cell_type": "markdown",
   "metadata": {},
   "source": [
    "## Exception Handling in CrewAI\n",
    "* By default, CrewAI does not stop the app when it finds an error. Instead, the Crew tries to use an alternative way."
   ]
  },
  {
   "cell_type": "code",
   "execution_count": 5,
   "metadata": {},
   "outputs": [],
   "source": [
    "#!pip install crewai crewai_tools"
   ]
  },
  {
   "cell_type": "code",
   "execution_count": 6,
   "metadata": {},
   "outputs": [],
   "source": [
    "import warnings\n",
    "warnings.filterwarnings('ignore')"
   ]
  },
  {
   "cell_type": "code",
   "execution_count": 2,
   "metadata": {},
   "outputs": [],
   "source": [
    "import os\n",
    "from dotenv import load_dotenv, find_dotenv\n",
    "\n",
    "_ = load_dotenv(find_dotenv())\n",
    "openai_api_key = os.environ['OPENAI_API_KEY']\n",
    "groq_api_key = os.environ['GROQ_API_KEY']"
   ]
  },
  {
   "cell_type": "markdown",
   "metadata": {},
   "source": [
    "## Basic CrewAI imports: Agent, Task and Crew modules"
   ]
  },
  {
   "cell_type": "code",
   "execution_count": 7,
   "metadata": {},
   "outputs": [],
   "source": [
    "from crewai import Agent, Task, Crew"
   ]
  },
  {
   "cell_type": "code",
   "execution_count": 9,
   "metadata": {},
   "outputs": [],
   "source": [
    "from langchain_groq import ChatGroq\n",
    "\n",
    "llm = ChatGroq(model='llama-3.3-70b-specdec')\n"
   ]
  },
  {
   "cell_type": "markdown",
   "metadata": {},
   "source": [
    "## Multi-Agent App Creation process with CrewAI\n",
    "* App planning.\n",
    "* Import pre-built tools and create custom tools.\n",
    "* Create the Agents.\n",
    "* Create the Tasks.\n",
    "* Create the Crew.\n",
    "* Run the Crew with the input.\n",
    "* Optional: display output in the notebook."
   ]
  },
  {
   "cell_type": "markdown",
   "metadata": {},
   "source": [
    "## App Planning\n",
    "#### Mental Framework for Agent Creation\n",
    "* Think like a manager.\n",
    "    * What is the goal?\n",
    "    * What is necessary process to follow in order to reach the goal?\n",
    "    * What kind of people I would hire to get this done?\n",
    "        * roles.\n",
    "        * goals.\n",
    "        * backstories.\n",
    "* Be as specific as possible when you define Agents and Tasks.\n",
    "\n",
    "#### Define goal. Examples:\n",
    "* Research and write an article about a topic.\n",
    "* Provide customer support about a product.\n",
    "* Create a customer outreach campaign.\n",
    "* Plan an event.\n",
    "* Financial Analysis.\n",
    "* Tailor job applications.\n",
    "#### Define use case. Example:\n",
    "* Analyze a job offer.\n",
    "* Analyze a candidate resume.\n",
    "* Customize the resume for the offer.\n",
    "* Prepare talking points for job interview.\n",
    "#### Define input. Example:\n",
    "* Python dictionary:\n",
    "    * Resume of the candidate\n",
    "    * URL of the job offer\n",
    "    * GitHub profile of the candidate\n",
    "    * Intro of the candidate\n",
    "* **Important: you will interpolate input items in Agent and Task definitions**\n",
    "#### Define output. Example:\n",
    "* Customized resume.\n",
    "* Talking points for job interview."
   ]
  },
  {
   "cell_type": "markdown",
   "metadata": {},
   "source": [
    "## Import tools"
   ]
  },
  {
   "cell_type": "markdown",
   "metadata": {},
   "source": [
    "#### What makes a great tool?\n",
    "* Versatile.\n",
    "    * Able to accept fuzzy inputs and outputs. \n",
    "* Fault-tolerant.\n",
    "    * Do not stop execution. Fail gracefully, send the error message back to the agent, and try again. \n",
    "* Implement Smart Caching.\n",
    "    * Having a caching layer that prevents innecessary requests is crucial.\n",
    "    * **CrewAI offers Cross-Agent Caching**: if one Agent tries to use a tool with a given set of arguments, and another agent tries to use the same tool with the same set of arguments -even if they are different Agents- they are going to use a caching layer so the second time they use the tool they are not going to make the API call. That:\n",
    "        * Prevents unnecessary requests.\n",
    "        * Prevents hitting rate limits (number of requests per second allowed for an API call).\n",
    "        * Saves execution time. Retrieving cached results is much faster than an API call."
   ]
  },
  {
   "cell_type": "markdown",
   "metadata": {},
   "source": [
    "#### Import Pre-Built Tools\n",
    "* CrewAI pre-built tools.\n",
    "* LangChain pre-built tools."
   ]
  },
  {
   "cell_type": "markdown",
   "metadata": {},
   "source": [
    "#### Examples of Pre-Built Tools\n",
    "* SerperDevTool: google search (requires API Key)\n",
    "* ScrapeWebsiteTool: scrape content from URL.\n",
    "* WebsiteSearchTool: RAG over a website."
   ]
  },
  {
   "cell_type": "code",
   "execution_count": 10,
   "metadata": {},
   "outputs": [],
   "source": [
    "from crewai_tools import SerperDevTool, ScrapeWebsiteTool, WebsiteSearchTool"
   ]
  },
  {
   "cell_type": "markdown",
   "metadata": {},
   "source": [
    "* We can configure the tool so it will only be used to scrape content from this specific URL:"
   ]
  },
  {
   "cell_type": "code",
   "execution_count": 11,
   "metadata": {},
   "outputs": [],
   "source": [
    "# docs_scrape_tool = ScrapeWebsiteTool(\n",
    "#     website_url=\"https://aiaccelera.com/ai-consulting-for-businesses/\"\n",
    "# )"
   ]
  },
  {
   "cell_type": "code",
   "execution_count": 12,
   "metadata": {},
   "outputs": [],
   "source": [
    "from crewai_tools import DirectoryReadTool, \\\n",
    "                         FileReadTool"
   ]
  },
  {
   "cell_type": "code",
   "execution_count": 13,
   "metadata": {},
   "outputs": [],
   "source": [
    "# directory_read_tool = DirectoryReadTool(directory='./my_directory')\n",
    "# file_read_tool = FileReadTool()\n",
    "# search_tool = SerperDevTool()"
   ]
  },
  {
   "cell_type": "markdown",
   "metadata": {},
   "source": [
    "* MDXSearchTool: RAG over a file."
   ]
  },
  {
   "cell_type": "code",
   "execution_count": 14,
   "metadata": {},
   "outputs": [],
   "source": [
    "# from crewai_tools import MDXSearchTool\n",
    "\n",
    "# semantic_search_document = MDXSearchTool(mdx='./my_document.md')"
   ]
  },
  {
   "cell_type": "markdown",
   "metadata": {},
   "source": [
    "#### Create Custom Tools"
   ]
  },
  {
   "cell_type": "markdown",
   "metadata": {},
   "source": [
    "- Every Tool needs to have a `name` and a `description`.\n",
    "- You can customize the code with your logic in the `_run` function."
   ]
  },
  {
   "cell_type": "code",
   "execution_count": 15,
   "metadata": {},
   "outputs": [],
   "source": [
    "from crewai_tools import BaseTool\n",
    "\n",
    "class EmotionAnalysisTool(BaseTool):\n",
    "    name: str = \"Emotion Analysis Tool\"\n",
    "    description: str = (\"Examines the emotional tone of written content \"\n",
    "         \"to promote positive and captivating interactions.\")\n",
    "    \n",
    "    def _run(self, text: str) -> str:\n",
    "        return \"positive\"\n"
   ]
  },
  {
   "cell_type": "markdown",
   "metadata": {},
   "source": [
    "#### How to assign tools\n",
    "* We can assign tools at:\n",
    "    * Agent Level: the Agent can use the tool in any task.\n",
    "    * or at Task Level: the Agent can only use the tool when performing this particular task. Task tools override Agent tools."
   ]
  },
  {
   "cell_type": "markdown",
   "metadata": {},
   "source": [
    "## Create Agents"
   ]
  },
  {
   "cell_type": "markdown",
   "metadata": {},
   "source": [
    "Creating an Agent in CrewAI is very simple using the Agent module. In order to define the agent, we need to specify:\n",
    "* Role: role name.\n",
    "* Goal.\n",
    "* Backstory: role definition."
   ]
  },
  {
   "cell_type": "code",
   "execution_count": 16,
   "metadata": {},
   "outputs": [],
   "source": [
    "# content_coordinator = Agent(\n",
    "#     role=\"Content Coordinator\",\n",
    "#     goal=\"Develop captivating and precise content about {topic}\",\n",
    "#     backstory=\"You are engaged in preparing a blog post \"\n",
    "#               \"concerning the subject: {topic}. \"\n",
    "#               \"You gather data that assists the \"\n",
    "#               \"audience in acquiring knowledge \"\n",
    "#               \"and making educated choices. \"\n",
    "#               \"Your efforts lay the groundwork for \"\n",
    "#               \"the Content Writer to create a detailed piece on this topic.\",\n",
    "#     allow_delegation=False,\n",
    "#     verbose=True\n",
    "# )\n"
   ]
  },
  {
   "cell_type": "markdown",
   "metadata": {},
   "source": [
    "* Note: using multiple strings instead of the triple quote docsctring `\"\"\"` we avoid whitespaces and newline characters and that way our backstory is better formatted to pass it to the LLM.\n",
    "* As you can see, we are interpolating the variable `{topic}`. This variable would come from the input.\n",
    "* `allow_delegation=False`: this agent is not allowed to delegate tasks to other agent.\n",
    "* Note: by default, `allow_delegation` is set to True.\n",
    "* `verbose=True`: display log of events and thoughts of the agent."
   ]
  },
  {
   "cell_type": "markdown",
   "metadata": {},
   "source": [
    "* Agents can use tools:"
   ]
  },
  {
   "cell_type": "code",
   "execution_count": 17,
   "metadata": {},
   "outputs": [],
   "source": [
    "# location_manager = Agent(\n",
    "#     role=\"Location Manager\",\n",
    "#     goal=\"Locate and reserve a suitable venue \"\n",
    "#     \"in accordance with the specifics of the event\",\n",
    "#     tools=[search_tool, scrape_tool],\n",
    "#     verbose=True,\n",
    "#     backstory=(\n",
    "#         \"With a sharp eye for space and \"\n",
    "#         \"a grasp of event coordination, \"\n",
    "#         \"you specialize in identifying and booking \"\n",
    "#         \"the ideal location that aligns with the event's motif, \"\n",
    "#         \"capacity, and financial limits.\"\n",
    "#     )\n",
    "# )"
   ]
  },
  {
   "cell_type": "markdown",
   "metadata": {},
   "source": [
    "## Create Tasks"
   ]
  },
  {
   "cell_type": "markdown",
   "metadata": {},
   "source": [
    "#### Key elements of well defined tasks\n",
    "* Clear description of the task.\n",
    "* Clear and concise expectation."
   ]
  },
  {
   "cell_type": "markdown",
   "metadata": {},
   "source": [
    "Creating a Task in CrewAI is very simple using the Task module. In order to define the task, we need to specify:\n",
    "* Task Description.\n",
    "* Expected Output.\n",
    "* Agent that will perform the task."
   ]
  },
  {
   "cell_type": "code",
   "execution_count": 18,
   "metadata": {},
   "outputs": [],
   "source": [
    "# content_planning_task = Task(\n",
    "#     description=(\n",
    "#         \"1. Focus on the most current trends, influential figures, \"\n",
    "#             \"and significant updates on {topic}.\\n\"\n",
    "#         \"2. Define the intended audience, taking into account \"\n",
    "#             \"their interests and concerns.\\n\"\n",
    "#         \"3. Create a thorough content framework that includes \"\n",
    "#             \"an opening, main points, and a call to engage.\\n\"\n",
    "#         \"4. Incorporate relevant SEO terms and necessary data or references.\"\n",
    "#     ),\n",
    "#     expected_output=\"An extensive content strategy document \"\n",
    "#         \"with a framework, analysis of the audience, \"\n",
    "#         \"SEO terms, and references.\",\n",
    "#     agent=planner,\n",
    "# )"
   ]
  },
  {
   "cell_type": "markdown",
   "metadata": {},
   "source": [
    "* Tasks can include tools:"
   ]
  },
  {
   "cell_type": "code",
   "execution_count": 19,
   "metadata": {},
   "outputs": [],
   "source": [
    "# customized_outreach_task = Task(\n",
    "#     description=(\n",
    "#         \"Leverage the insights from \"\n",
    "#         \"the lead profiling analysis on {lead_name}, \"\n",
    "#         \"to devise a targeted outreach initiative \"\n",
    "#         \"directed at {key_decision_maker}, \"\n",
    "#         \"the {position} at {lead_name}. \"\n",
    "#         \"This initiative should highlight their latest {milestone} \"\n",
    "#         \"and how our solutions can aid their objectives. \"\n",
    "#         \"Your messaging should align \"\n",
    "#         \"with {lead_name}'s organizational culture and ethics, \"\n",
    "#         \"showing a profound grasp of \"\n",
    "#         \"their industry and requirements.\\n\"\n",
    "#         \"Avoid presumptions and strictly \"\n",
    "#         \"rely on verified information.\"\n",
    "#     ),\n",
    "#     expected_output=(\n",
    "#         \"A sequence of customized email templates \"\n",
    "#         \"designed for {lead_name}, \"\n",
    "#         \"specifically aimed at {key_decision_maker}. \"\n",
    "#         \"Each template should weave \"\n",
    "#         \"an engaging story that ties our solutions \"\n",
    "#         \"to their recent successes and aspirations. \"\n",
    "#         \"Ensure the tone is captivating, formal, \"\n",
    "#         \"and consistent with {lead_name}'s business ethos.\"\n",
    "#     ),\n",
    "#     tools=[emotion_analysis_tool, search_tool],\n",
    "#     agent=lead_sales_rep,\n",
    "# )"
   ]
  },
  {
   "cell_type": "markdown",
   "metadata": {},
   "source": [
    "#### Hyperparameters you can use with CrewAI when you define a Task\n",
    "* Set a context.\n",
    "* Set a callback.\n",
    "* Override Agent tools with Task tools.\n",
    "* Force human input before end of task.\n",
    "* Execute asynchronously.\n",
    "* Output as Pydantic Object.\n",
    "* Output as JSON Object.\n",
    "* Output as a file.\n",
    "* Run in parallel."
   ]
  },
  {
   "cell_type": "markdown",
   "metadata": {},
   "source": [
    "#### Creating Location Pydantic Object\n",
    "\n",
    "- Create a class `LocationDetails` using [Pydantic BaseModel](https://docs.pydantic.dev/latest/api/base_model/).\n",
    "- Agents will populate this object with information about different locations by creating different instances of it."
   ]
  },
  {
   "cell_type": "code",
   "execution_count": 20,
   "metadata": {},
   "outputs": [],
   "source": [
    "from pydantic import BaseModel\n",
    "# Define a Pydantic model for location details \n",
    "# (demonstrating Output as Pydantic)\n",
    "class LocationDetails(BaseModel):\n",
    "    name: str\n",
    "    address: str\n",
    "    capacity: int\n",
    "    booking_status: str"
   ]
  },
  {
   "cell_type": "markdown",
   "metadata": {},
   "source": [
    "- By using `output_json`, you can specify the structure of the output you want. In this case, the Pydantic model.\n",
    "- By using `output_file`, you can get your output in a file.\n",
    "- By setting `human_input=True`, the task will ask for human feedback (whether you like the results or not) before finalising it."
   ]
  },
  {
   "cell_type": "code",
   "execution_count": 21,
   "metadata": {},
   "outputs": [],
   "source": [
    "# location_task = Task(\n",
    "#     description=\"Locate a facility in {event_city} \"\n",
    "#                 \"that fulfills the requirements for {event_topic}.\",\n",
    "#     expected_output=\"Complete information about a selected \"\n",
    "#                     \"facility you identified to host the event.\",\n",
    "#     human_input=True,\n",
    "#     output_json=LocationDetails,\n",
    "#     output_file=\"location_details.json\",  \n",
    "#     agent=location_coordinator\n",
    "# )\n"
   ]
  },
  {
   "cell_type": "markdown",
   "metadata": {},
   "source": [
    "- By setting `async_execution=True`, it means the task can run in parallel with the tasks which come after it."
   ]
  },
  {
   "cell_type": "code",
   "execution_count": 22,
   "metadata": {},
   "outputs": [],
   "source": [
    "# catering_task = Task(\n",
    "#     description=\"Arrange catering and \"\n",
    "#                  \"equipment for a gathering \"\n",
    "#                  \"with {expected_participants} attendees \"\n",
    "#                  \"on {tentative_date}.\",\n",
    "#     expected_output=\"Verification of all logistics preparations \"\n",
    "#                     \"including food service and equipment arrangement.\",\n",
    "#     human_input=True,\n",
    "#     async_execution=True,\n",
    "#     agent=catering_manager\n",
    "# )\n"
   ]
  },
  {
   "cell_type": "markdown",
   "metadata": {},
   "source": [
    "- You can pass a list of tasks as `context` to a task.\n",
    "- The task then takes into account the output of those tasks in its execution.\n",
    "- The task will not run until it has the output(s) from those tasks.\n",
    "- The following task will output a file called `tailored_resume.md`"
   ]
  },
  {
   "cell_type": "code",
   "execution_count": 23,
   "metadata": {},
   "outputs": [],
   "source": [
    "# resume_customization_task = Task(\n",
    "#     description=(\n",
    "#         \"Utilize the profile and job specifications collected from \"\n",
    "#         \"prior tasks to customize the resume, emphasizing the most \"\n",
    "#         \"pertinent sections. Use tools to refine and improve the \"\n",
    "#         \"resume content. Ensure this is the most effective resume possible but \"\n",
    "#         \"refrain from fabricating any details. Revise every segment, \"\n",
    "#         \"including the opening summary, employment history, skills, \"\n",
    "#         \"and education sections, all to better reflect the candidate's \"\n",
    "#         \"capabilities and alignment with the job description.\"\n",
    "#     ),\n",
    "#     expected_output=(\n",
    "#         \"A revised resume that adeptly showcases the candidate's \"\n",
    "#         \"skills and experiences pertinent to the job.\"\n",
    "#     ),\n",
    "#     output_file=\"customized_resume.md\",\n",
    "#     context=[research_task, profile_task],\n",
    "#     agent=resume_strategist\n",
    "# )\n"
   ]
  },
  {
   "cell_type": "markdown",
   "metadata": {},
   "source": [
    "## Create Crew"
   ]
  },
  {
   "cell_type": "markdown",
   "metadata": {},
   "source": [
    "* By default, in CrewAI the tasks will be performed sequentially, so the order of the task in the list matters.\n",
    "    * The output of task1 is going to be sent as part of the input of task2. "
   ]
  },
  {
   "cell_type": "code",
   "execution_count": 24,
   "metadata": {},
   "outputs": [],
   "source": [
    "# crew = Crew(\n",
    "#     agents=[planner, writer, editor],\n",
    "#     tasks=[plan, write, edit],\n",
    "#     verbose=2\n",
    "# )"
   ]
  },
  {
   "cell_type": "markdown",
   "metadata": {},
   "source": [
    "* `memory=True` enables all the 3 memory types for this Crew (short-term, long-term and entity memories)."
   ]
  },
  {
   "cell_type": "code",
   "execution_count": 25,
   "metadata": {},
   "outputs": [],
   "source": [
    "# crew = Crew(\n",
    "#   agents=[support_agent, quality_assurance_agent],\n",
    "#   tasks=[inquiry_resolution, quality_assurance_review],\n",
    "#   verbose=2,\n",
    "#   memory=True\n",
    "# )"
   ]
  },
  {
   "cell_type": "markdown",
   "metadata": {},
   "source": [
    "* If you set `async_execution=True` for several tasks, the order for them will not matter in the Crew's tasks list."
   ]
  },
  {
   "cell_type": "markdown",
   "metadata": {},
   "source": [
    "- If you set `human_input=True` for some tasks, the execution of the Crew will ask for your input before it finishes running.\n",
    "- When it asks for feedback, use your mouse pointer to first click in the text box before typing anything."
   ]
  },
  {
   "cell_type": "markdown",
   "metadata": {},
   "source": [
    "- The `Process` class helps to delegate the workflow to the Agents (kind of like a Manager at work)\n",
    "- In the example below, it will run this hierarchically.\n",
    "- `manager_llm` lets you choose the \"manager\" LLM you want to use. This manager will delegate in the Agents of the Crew to perform their tasks.\n",
    "- In future versions of CrewAI you will be able to set the Manager Agent yourself. By now, you can select the LLM who will act as the manager agent and CrewAI will create this agent internally for you.\n",
    "- See that the Crew Manager kickoffs the Crew."
   ]
  },
  {
   "cell_type": "code",
   "execution_count": 26,
   "metadata": {},
   "outputs": [],
   "source": [
    "# from crewai import Crew, Process\n",
    "# from langchain_openai import ChatOpenAI\n",
    "\n",
    "# # Define the crew with agents and tasks\n",
    "# financial_analysis_crew = Crew(\n",
    "#     agents=[data_analyst, \n",
    "#             trading_strategist, \n",
    "#             execution_agent, \n",
    "#             risk_management_exec],\n",
    "    \n",
    "#     tasks=[data_analysis_task, \n",
    "#            trading_strategy_task, \n",
    "#            execution_task, \n",
    "#            risk_management_task],\n",
    "    \n",
    "#     manager_llm=ChatOpenAI(model=\"gpt-4-turbo\", \n",
    "#                            temperature=0.7),\n",
    "#     process=Process.hierarchical,\n",
    "#     verbose=True\n",
    "# )"
   ]
  },
  {
   "cell_type": "markdown",
   "metadata": {},
   "source": [
    "## Run Crew with the Input"
   ]
  },
  {
   "cell_type": "code",
   "execution_count": 27,
   "metadata": {},
   "outputs": [],
   "source": [
    "# inputs = {\n",
    "#     \"customer\": \"AI Accelera\",\n",
    "#     \"person\": \"Julio Colomer\",\n",
    "#     \"inquiry\": \"I need help with setting up a Multi-Agent App \"\n",
    "#                \"and kicking it off, specifically \"\n",
    "#                \"how can I add memory? \"\n",
    "#                \"Can you provide guidance?\"\n",
    "# }\n",
    "# result = crew.kickoff(inputs=inputs)"
   ]
  },
  {
   "cell_type": "markdown",
   "metadata": {},
   "source": [
    "## Optional: Display results in Notebook"
   ]
  },
  {
   "cell_type": "markdown",
   "metadata": {},
   "source": [
    "- Display the generated `file_name.md` file.\n",
    "\n",
    "**Note**: After `kickoff` execution has successfully ran, wait an extra 45 seconds for the `file_name.md` file to be generated. If you try to run the code below before the file has been generated, your output would look like:\n",
    "\n",
    "```\n",
    "file_name.md\n",
    "```\n",
    "\n",
    "If you see this output, wait some more and than try again."
   ]
  },
  {
   "cell_type": "code",
   "execution_count": 28,
   "metadata": {},
   "outputs": [],
   "source": [
    "# from IPython.display import Markdown\n",
    "\n",
    "# Markdown(result)"
   ]
  },
  {
   "cell_type": "code",
   "execution_count": 29,
   "metadata": {},
   "outputs": [],
   "source": [
    "# import json\n",
    "# from pprint import pprint\n",
    "\n",
    "# with open('venue_details.json') as f:\n",
    "#    data = json.load(f)\n",
    "\n",
    "# pprint(data)"
   ]
  },
  {
   "cell_type": "markdown",
   "metadata": {},
   "source": [
    "## Interesting Links to learn more\n",
    "* **crewai.com** to learn more about CrewAI.\n",
    "    * Documentation.\n",
    "    * How To Guides.\n",
    "    * Chat with the documentation.\n",
    "    * Enterprise solutions.\n",
    "        * In beta.\n",
    "        * Looking for early adopters: waiting list.\n",
    "        * Turn any Crew into an API within seconds.\n",
    "        * Connect to your apps using hooks, REST, gRPC and more.\n",
    "        * Get access to templates, customo tools and early UI.\n",
    "        * Get business support, SLA, private VTC.\n",
    "* **CrewAI Plus** (in beta, by invitation only).\n",
    "    * Deploy your Crews from GitHub.\n",
    "    * Transform your Crews in APIs in a matter of minutes.\n",
    "        * Enter your private variables.\n",
    "        * Have the URL of your API with SSL, hosted in a private VTC, outscaling, everything that makes it ready for a production use case.\n",
    "    * Sidebar:\n",
    "        * Crews.\n",
    "        * Templates.\n",
    "        * Dashboad.\n",
    "        * UI Studio.\n",
    "        * Storage.\n",
    "        * Connectors."
   ]
  }
 ],
 "metadata": {
  "kernelspec": {
   "display_name": "llm",
   "language": "python",
   "name": "python3"
  },
  "language_info": {
   "codemirror_mode": {
    "name": "ipython",
    "version": 3
   },
   "file_extension": ".py",
   "mimetype": "text/x-python",
   "name": "python",
   "nbconvert_exporter": "python",
   "pygments_lexer": "ipython3",
   "version": "3.10.14"
  }
 },
 "nbformat": 4,
 "nbformat_minor": 2
}

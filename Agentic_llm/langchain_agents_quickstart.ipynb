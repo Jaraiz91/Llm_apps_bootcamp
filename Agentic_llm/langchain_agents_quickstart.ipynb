{
 "cells": [
  {
   "cell_type": "code",
   "execution_count": 2,
   "metadata": {},
   "outputs": [],
   "source": [
    "import os\n",
    "from dotenv import load_dotenv, find_dotenv\n",
    "_ = load_dotenv(find_dotenv())\n",
    "openai_api_key = os.environ[\"OPENAI_API_KEY\"]\n",
    "groq_api_key = os.environ['GROQ_API_KEY']\n"
   ]
  },
  {
   "cell_type": "code",
   "execution_count": 3,
   "metadata": {},
   "outputs": [],
   "source": [
    "from langchain_community.tools.tavily_search import TavilySearchResults\n",
    "\n",
    "search_tool = TavilySearchResults()"
   ]
  },
  {
   "cell_type": "code",
   "execution_count": 4,
   "metadata": {},
   "outputs": [
    {
     "data": {
      "text/plain": [
       "[{'url': 'https://www.270towin.com/2020_Election/results',\n",
       "  'content': 'The 2020 United States presidential election was the 59th quadrennial presidential election, held on Tuesday, November 3, 2020. The Democratic ticket of former vice president Joe Biden and incumbent U.S. senator from California Kamala Harris defeated the Republican ticket of incumbent president Donald Trump and vice president Mike Pence.'},\n",
       " {'url': 'https://www.cnn.com/election/2020/results/president',\n",
       "  'content': \"Presidential Election Results and Electoral Map 2020 CNN Newsletters Work for CNN Follow CNN Politics Results Joe Biden wins election to be the 46th US President Pennsylvania’s 20 electoral votes put native son Joe Biden above the 270 needed to become the 46th President of the United States. Pennsylvania’s 20 electoral votes put native son Joe Biden above the 270 needed to become the 46th President of the United States. In Maine, two of four electoral votes go to the statewide winner and one electoral vote goes to the winner in each of the two congressional districts. One electoral vote goes to the winner in each of Nebraska's three congressional districts. CNN Newsletters Work for CNN Follow CNN Politics\"},\n",
       " {'url': 'https://www.nytimes.com/interactive/2020/11/03/us/elections/results-president.html',\n",
       "  'content': 'Tracking the vote count\\nPennsylvania ›\\nGeorgia ›\\nArizona ›\\nNevada ›\\nNorth Carolina ›\\nState results\\nDem.\\nWin\\nFlip\\nRep.\\nWin\\nFlip\\nOther\\nWin\\nFlip\\nBiden expected to win easily\\nBiden expected to win narrowly\\nTossup states\\n Trump expected to win narrowly\\nTrump expected to win easily\\nBattleground states\\nOther states\\nRead our analysis of the vote\\nLatest updates\\nNicholas Fandos, in Washington\\nCongress confirmed Joe Biden’s victory, defying a mob that stormed the Capitol after being egged on by President Trump.\\nRead more\\xa0›\\nMaggie Astor\\nJan. 7, 2021\\nVice President Mike Pence affirms Joseph R. Biden Jr. and Kamala Harris as the next president and vice president.\\n Biden\\nWin\\nFlip\\nTrump\\nWin\\nFlip\\nLeader:\\nBiden\\nTrump\\nBattleground states to watch\\nSome states will report a vast majority of votes on Election Day, while others will take several days to count mail-in and provisional ballots. Track the Electoral College results\\xa0›\\nThe New York Times\\nDec. 5, 2020\\nCalifornia has certified its electors for the 2020 election, officially giving Joseph R. Biden Jr. more than the 270 pledged electors needed to become president.\\nRead more\\xa0›\\nReid Epstein, in Washington\\nNov. 30, 2020\\n Read more\\xa0›\\nTrip Gabriel\\nDec. 14, 2020\\nJoseph R. Biden Jr. has received a majority of votes from the Electoral College, formally securing the presidency in the manner set out in the Constitution.\\nRead more\\xa0›\\nIsabella Grullón Paz\\nDec. 14, 2020\\n'},\n",
       " {'url': 'https://en.wikipedia.org/wiki/List_of_United_States_presidential_election_results_by_state',\n",
       "  'content': \"The following is a table of United States presidential election results by state. They are indirect elections in which voters in each state cast ballots for a slate of electors of the U.S. Electoral College who pledge to vote for a specific political party's nominee for president.. Bold italic text indicates the winner of the election ‡ indicates the winner lost the popular vote\"},\n",
       " {'url': 'https://www.cnn.com/election/2024/results/president',\n",
       "  'content': \"Presidential election results 2024 | CNN Politics CNN10 About CNN Watch CNN CNN Harris is hoping to become the first woman elected president, while Trump is vying to become only the second former president to win a nonconsecutive second term after Grover Cleveland in 1892. Maine 4 Electoral Votes Harris 0Trump 0 Nebraska 5 Electoral Votes Harris 0Trump 0 What's so important to note here is that Harris' best path to 270 electoral votes in pre-election polls ran through Michigan, Pennsylvania and Wisconsin. Dems may need to hold their seats in Ohio and Montana -- two states Trump won twice before -- along with MI, WI, PA, AZ, NV and MD to keep the Senate at 50-50 and hope Harris wins to give them control of the chamber. CNN10 About CNN\"}]"
      ]
     },
     "execution_count": 4,
     "metadata": {},
     "output_type": "execute_result"
    }
   ],
   "source": [
    "search_tool.invoke('who won the last US presidential elections?')"
   ]
  },
  {
   "cell_type": "markdown",
   "metadata": {},
   "source": [
    "## Prepare the RAG tool\n",
    "\n",
    "* RAG tool loading data from a web page"
   ]
  },
  {
   "cell_type": "code",
   "execution_count": 7,
   "metadata": {},
   "outputs": [],
   "source": [
    "from langchain_community.document_loaders import WebBaseLoader\n",
    "from langchain_community.vectorstores import FAISS\n",
    "from langchain_openai import OpenAIEmbeddings\n",
    "from langchain_text_splitters import RecursiveCharacterTextSplitter\n",
    "\n",
    "loader = WebBaseLoader('https://docs.smith.langchain.com/overview')\n",
    "docs = loader.load()\n",
    "documents = RecursiveCharacterTextSplitter(\n",
    "    chunk_size=1000, chunk_overlap=200\n",
    ").split_documents(docs)\n",
    "vectorstore = FAISS.from_documents(documents=documents, embedding=OpenAIEmbeddings())\n",
    "retriever = vectorstore.as_retriever()"
   ]
  },
  {
   "cell_type": "markdown",
   "metadata": {},
   "source": [
    "* confirm that RAG works"
   ]
  },
  {
   "cell_type": "code",
   "execution_count": 9,
   "metadata": {},
   "outputs": [
    {
     "data": {
      "text/plain": [
       "[Document(metadata={'source': 'https://docs.smith.langchain.com/overview', 'title': 'Get started with LangSmith | 🦜️🛠️ LangSmith', 'description': 'LangSmith is a platform for building production-grade LLM applications.', 'language': 'en'}, page_content='Run the evaluationexperiment_results = client.evaluate(    dummy_app, # Your AI system goes here    data=dataset, # The data to predict and grade over    evaluators=[exact_match], # The evaluators to score the results    experiment_prefix=\"sample-experiment\", # The name of the experiment    metadata={\"version\": \"1.0.0\", \"revision_id\": \"beta\"}, # Metadata about the experiment    max_concurrency=4,  # Add concurrency.)# Analyze the results via the UI or programmatically# If you have \\'pandas\\' installed you can view the results as a# pandas DataFrame by uncommenting below:# experiment_results.to_pandas()import { Client } from \"langsmith\";import { EvaluationResult, evaluate } from \"langsmith/evaluation\";const client = new Client();// Define dataset: these are your test casesconst datasetName = \"Sample Dataset\";const dataset = await client.createDataset(datasetName, {  description: \"A sample dataset in LangSmith.\",});await client.createExamples({  inputs: [    { postfix: \"to LangSmith\" },'),\n",
       " Document(metadata={'source': 'https://docs.smith.langchain.com/overview', 'title': 'Get started with LangSmith | 🦜️🛠️ LangSmith', 'description': 'LangSmith is a platform for building production-grade LLM applications.', 'language': 'en'}, page_content='\"Sample Dataset\";const dataset = await client.createDataset(datasetName, {  description: \"A sample dataset in LangSmith.\",});await client.createExamples({  inputs: [    { postfix: \"to LangSmith\" },    { postfix: \"to Evaluations in LangSmith\" },  ],  outputs: [    { response: \"Welcome to LangSmith\" },    { response: \"Welcome to Evaluations in LangSmith\" },  ],  datasetId: dataset.id,});// Define your evaluator(s)const exactMatch = async ({ outputs, referenceOutputs }: {  outputs?: Record<string, any>;  referenceOutputs?: Record<string, any>;}): Promise<EvaulationResult> => {  return {    key: \"exact_match\",    score: outputs?.response === referenceOutputs?.response,  };};// Run the evaluationconst experimentResults = await evaluate(  (inputs: { postfix: string }) => ({ response: `Welcome ${inputs.postfix}` }),  {    data: datasetName,    evaluators: [exactMatch],    metadata: { version: \"1.0.0\", revision_id: \"beta\" },    maxConcurrency: 4,  });'),\n",
       " Document(metadata={'source': 'https://docs.smith.langchain.com/overview', 'title': 'Get started with LangSmith | 🦜️🛠️ LangSmith', 'description': 'LangSmith is a platform for building production-grade LLM applications.', 'language': 'en'}, page_content='Click the link printed out by your evaluation run to access the LangSmith experiments UI,\\nand explore the results of your evaluation.\\nLearn more about evaluation in the tutorials, conceptual guide, and how-to guides.\\nWas this page helpful?You can leave detailed feedback on GitHub.NextObservability tutorials1. Install LangSmith2. Create an API key3. Set up your environment4. Log your first trace5. View your trace6. Run your first evaluationCommunityDiscordTwitterGitHubDocs CodeLangSmith SDKPythonJS/TSMoreHomepageBlogLangChain Python DocsLangChain JS/TS DocsCopyright © 2024 LangChain, Inc.'),\n",
       " Document(metadata={'source': 'https://docs.smith.langchain.com/overview', 'title': 'Get started with LangSmith | 🦜️🛠️ LangSmith', 'description': 'LangSmith is a platform for building production-grade LLM applications.', 'language': 'en'}, page_content='Learn more about tracing in the observability tutorials, conceptual guide and how-to guides.\\n5. View your trace\\u200b\\nBy default, the trace will be logged to the project with the name default. You should see the following sample output trace logged using the above code.\\n6. Run your first evaluation\\u200b\\nEvaluations help assess application performance by testing the application against a given set of inputs. Evaluations require a system to test, data to serve as test cases, and evaluators to grade the results.\\nHere we are running an evaluation against a sample dataset using a simple custom evaluator that checks if the real output exactly matches our gold-standard output.')]"
      ]
     },
     "execution_count": 9,
     "metadata": {},
     "output_type": "execute_result"
    }
   ],
   "source": [
    "retriever.invoke('how to upload a dataset')"
   ]
  },
  {
   "cell_type": "code",
   "execution_count": 10,
   "metadata": {},
   "outputs": [],
   "source": [
    "from langchain.tools.retriever import create_retriever_tool\n",
    "\n",
    "retriever_tool = create_retriever_tool(\n",
    "    retriever,\n",
    "    \"langsmith_search\",\n",
    "    \"Search for information about LangSmith. For any questions about LangSmith, you must use this tool!\",\n",
    ")"
   ]
  },
  {
   "cell_type": "markdown",
   "metadata": {},
   "source": [
    "## Now let´s add a custom tool"
   ]
  },
  {
   "cell_type": "code",
   "execution_count": 12,
   "metadata": {},
   "outputs": [
    {
     "data": {
      "text/plain": [
       "5"
      ]
     },
     "execution_count": 12,
     "metadata": {},
     "output_type": "execute_result"
    }
   ],
   "source": [
    "from langchain.agents import tool\n",
    "\n",
    "@tool\n",
    "def get_word_length_tool(word: str) -> int:\n",
    "    \"\"\"Returns the length of a word.\"\"\"\n",
    "    return len(word)\n",
    "\n",
    "get_word_length_tool.invoke(\"julio\")"
   ]
  },
  {
   "cell_type": "markdown",
   "metadata": {},
   "source": [
    "## Now we create the list of tools availabe"
   ]
  },
  {
   "cell_type": "code",
   "execution_count": 13,
   "metadata": {},
   "outputs": [],
   "source": [
    "tools = [search_tool, retriever_tool, get_word_length_tool]"
   ]
  },
  {
   "cell_type": "markdown",
   "metadata": {},
   "source": [
    "## Create the agent\n",
    "* We will create an **OpenAI Functions Agent** (see the different Agent Types in the above section)."
   ]
  },
  {
   "cell_type": "code",
   "execution_count": 14,
   "metadata": {},
   "outputs": [],
   "source": [
    "# Choose LLM model\n",
    "from langchain_openai import ChatOpenAI\n",
    "\n",
    "model = ChatOpenAI(model='gpt-3.5-turbo-0125', temperature=0)\n"
   ]
  },
  {
   "cell_type": "markdown",
   "metadata": {},
   "source": [
    "#### Define the Agent Prompt\n",
    "* The Agent Prompt will guide the agent.\n",
    "* For this example, we will use a pre-defined prompt from the LangSmith Prompt Hub. See the prompt definition [here.](https://smith.langchain.com/hub/hwchase17/openai-functions-agent)"
   ]
  },
  {
   "cell_type": "code",
   "execution_count": 15,
   "metadata": {},
   "outputs": [
    {
     "data": {
      "text/plain": [
       "[SystemMessagePromptTemplate(prompt=PromptTemplate(input_variables=[], input_types={}, partial_variables={}, template='You are a helpful assistant'), additional_kwargs={}),\n",
       " MessagesPlaceholder(variable_name='chat_history', optional=True),\n",
       " HumanMessagePromptTemplate(prompt=PromptTemplate(input_variables=['input'], input_types={}, partial_variables={}, template='{input}'), additional_kwargs={}),\n",
       " MessagesPlaceholder(variable_name='agent_scratchpad')]"
      ]
     },
     "execution_count": 15,
     "metadata": {},
     "output_type": "execute_result"
    }
   ],
   "source": [
    "from langchain import hub\n",
    "\n",
    "prompt = hub.pull(\"hwchase17/openai-functions-agent\")\n",
    "prompt.messages"
   ]
  },
  {
   "cell_type": "markdown",
   "metadata": {},
   "source": [
    "#### Initialize the agent\n",
    "* With the LLM, the prompt and the tools."
   ]
  },
  {
   "cell_type": "code",
   "execution_count": 16,
   "metadata": {},
   "outputs": [],
   "source": [
    "from langchain.agents import create_tool_calling_agent\n",
    "\n",
    "agent = create_tool_calling_agent(llm=model, tools=tools, prompt=prompt)"
   ]
  },
  {
   "cell_type": "markdown",
   "metadata": {},
   "source": [
    "#### Initialize the AgentExecutor\n",
    "* We combine the agent with the tools inside the AgentExecutor, which will repeatedly call the agent and execute tools."
   ]
  },
  {
   "cell_type": "code",
   "execution_count": 17,
   "metadata": {},
   "outputs": [],
   "source": [
    "from langchain.agents import AgentExecutor\n",
    "\n",
    "agent_executor = AgentExecutor(agent=agent, tools=tools, verbose=True)"
   ]
  },
  {
   "cell_type": "markdown",
   "metadata": {},
   "source": [
    "## We can now start using the agent\n",
    "* Keep in mind that this is a very basic agent that will not remember previous interactions."
   ]
  },
  {
   "cell_type": "code",
   "execution_count": 18,
   "metadata": {},
   "outputs": [
    {
     "name": "stderr",
     "output_type": "stream",
     "text": [
      "Error in StdOutCallbackHandler.on_chain_start callback: AttributeError(\"'NoneType' object has no attribute 'get'\")\n"
     ]
    },
    {
     "name": "stdout",
     "output_type": "stream",
     "text": [
      "\u001b[32;1m\u001b[1;3mHello! I'm an AI assistant here to help you with any questions or tasks you have. How can I assist you today?\u001b[0m\n",
      "\n",
      "\u001b[1m> Finished chain.\u001b[0m\n"
     ]
    },
    {
     "data": {
      "text/plain": [
       "{'input': 'hi! who are you?',\n",
       " 'output': \"Hello! I'm an AI assistant here to help you with any questions or tasks you have. How can I assist you today?\"}"
      ]
     },
     "execution_count": 18,
     "metadata": {},
     "output_type": "execute_result"
    }
   ],
   "source": [
    "agent_executor.invoke({\"input\": \"hi! who are you?\"})"
   ]
  },
  {
   "cell_type": "code",
   "execution_count": 19,
   "metadata": {},
   "outputs": [
    {
     "name": "stderr",
     "output_type": "stream",
     "text": [
      "Error in StdOutCallbackHandler.on_chain_start callback: AttributeError(\"'NoneType' object has no attribute 'get'\")\n"
     ]
    },
    {
     "name": "stdout",
     "output_type": "stream",
     "text": [
      "\u001b[32;1m\u001b[1;3m\n",
      "Invoking: `langsmith_search` with `{'query': 'definition of LangSmith'}`\n",
      "\n",
      "\n",
      "\u001b[0m\u001b[33;1m\u001b[1;3mGet started with LangSmith | 🦜️🛠️ LangSmith\n",
      "\n",
      "\n",
      "\n",
      "\n",
      "\n",
      "\n",
      "Skip to main contentLearn the essentials of LangSmith in the new Introduction to LangSmith course!  Enroll for free. API ReferenceRESTPythonSearchRegionUSEUGo to AppQuick StartObservabilityEvaluationPrompt EngineeringDeployment (LangGraph Platform)AdministrationSelf-hostingPricingReferenceCloud architecture and scalabilityAuthz and AuthnAuthentication methodsdata_formatsEvaluationDataset transformationsRegions FAQsdk_referenceQuick StartOn this pageGet started with LangSmith\n",
      "LangSmith is a platform for building production-grade LLM applications.\n",
      "It allows you to closely monitor and evaluate your application, so you can ship quickly and with confidence.\n",
      "With LangSmith you can:\n",
      "\n",
      "LangSmith + LangChain OSSLangSmith integrates seamlessly with LangChain's open source frameworks langchain and langgraph, with no extra instrumentation needed.If you're already using either of these, see the how-to guide for setting up LangSmith with LangChain or setting up LangSmith with LangGraph.\n",
      "LangSmith is a standalone platform that can be used on it's own no matter how you're creating your LLM applicatons.\n",
      "In this tutorial, we'll walk you though logging your first trace in LangSmith using the LangSmith SDK and running an evaluation to measure the performance of your application. This example uses the OpenAI API, however you can use your provider of choice.\n",
      "1. Install LangSmith​\n",
      "PythonTypeScriptpip install -U langsmith openaiyarn add langsmith openai\n",
      "2. Create an API key​\n",
      "To create an API key head to the Settings page. Then click Create API Key.\n",
      "3. Set up your environment​\n",
      "\n",
      "Click the link printed out by your evaluation run to access the LangSmith experiments UI,\n",
      "and explore the results of your evaluation.\n",
      "Learn more about evaluation in the tutorials, conceptual guide, and how-to guides.\n",
      "Was this page helpful?You can leave detailed feedback on GitHub.NextObservability tutorials1. Install LangSmith2. Create an API key3. Set up your environment4. Log your first trace5. View your trace6. Run your first evaluationCommunityDiscordTwitterGitHubDocs CodeLangSmith SDKPythonJS/TSMoreHomepageBlogLangChain Python DocsLangChain JS/TS DocsCopyright © 2024 LangChain, Inc.\n",
      "\n",
      "PythonTypeScriptpip install -U langsmith openaiyarn add langsmith openai\n",
      "2. Create an API key​\n",
      "To create an API key head to the Settings page. Then click Create API Key.\n",
      "3. Set up your environment​\n",
      "Shellexport LANGCHAIN_TRACING_V2=trueexport LANGCHAIN_API_KEY=<your-api-key>export OPENAI_API_KEY=<your-openai-api-key>\n",
      "4. Log your first trace​\n",
      "We provide multiple ways to log traces to LangSmith. Below, we'll highlight\n",
      "how to use traceable(). See more on the Annotate code for tracing page.\u001b[0m\u001b[32;1m\u001b[1;3mLangSmith is a platform for building production-grade LLM applications with monitoring and evaluation capabilities.\u001b[0m\n",
      "\n",
      "\u001b[1m> Finished chain.\u001b[0m\n"
     ]
    },
    {
     "data": {
      "text/plain": [
       "{'input': 'in less than 20 words, what is langsmith?',\n",
       " 'output': 'LangSmith is a platform for building production-grade LLM applications with monitoring and evaluation capabilities.'}"
      ]
     },
     "execution_count": 19,
     "metadata": {},
     "output_type": "execute_result"
    }
   ],
   "source": [
    "agent_executor.invoke({\"input\": \"in less than 20 words, what is langsmith?\"})"
   ]
  },
  {
   "cell_type": "code",
   "execution_count": 22,
   "metadata": {},
   "outputs": [
    {
     "name": "stderr",
     "output_type": "stream",
     "text": [
      "Error in StdOutCallbackHandler.on_chain_start callback: AttributeError(\"'NoneType' object has no attribute 'get'\")\n"
     ]
    },
    {
     "name": "stdout",
     "output_type": "stream",
     "text": [
      "\u001b[32;1m\u001b[1;3m\n",
      "Invoking: `tavily_search_results_json` with `{'query': '2024 US presidential election winner'}`\n",
      "\n",
      "\n",
      "\u001b[0m\u001b[36;1m\u001b[1;3m[{'url': 'https://www.bbc.co.uk/news/election/2024/us/results', 'content': 'US Presidential Election Results 2024 - BBC News Close menu BBC News Kamala Harris of the Democrat party has 27 electoral college votes. Donald Trump of the Republican party has 90 electoral college votes. Kamala Harris of the Democrat party has 10,652,749 votes (44.9%) Donald Trump of the Republican party has 12,812,102 votes (54.0%) US presidential election results 2024 US election 2024 Voting in some states is particularly hard to predict, with polls showing they could be won by the Republicans or the Democratic party. Voters in 11 states will also elect a governor. How to follow the US election on the BBC Path to 270: The states Harris and Trump need to win US election 2024 About the BBC'}, {'url': 'https://www.bbc.com/news/election/2024/us/results', 'content': 'US Presidential Election Results 2024 - BBC News Close menu BBC News Kamala Harris of the Democrat party has 0 electoral college votes. Donald Trump of the Republican party has 0 electoral college votes. Kamala Harris of the Democrat party has 158,810 votes (38.4%) Donald Trump of the Republican party has 249,225 votes (60.2%) US presidential election results 2024 US election 2024 Voting in some states is particularly hard to predict, with polls showing they could be won by the Republicans or the Democratic party. The battleground states that could decide the 2024 presidential election are: Voters in 11 states will also elect a governor. US election polls: Who is ahead - Harris or Trump? US election 2024 About the BBC'}, {'url': 'https://www.latimes.com/politics/story/2024-11-06/trump-defeats-harris-47th-president-election-2024', 'content': 'Trump wins 2024 U.S. presidential election - Los Angeles Times Trump elected 47th president of the United States, defeating Harris to retake White House Nancy Northup, President and CEO of the Center for Reproductive Rights, called Trump’s win “a deadly threat to the democratic values of liberty and equality, the rule of law, and reproductive health, rights, and justice in the United States and around the globe.” “The Democrats thought there were enough people who hated Trump or were willing to fear him to win the race,” Jennings said. 2024 election results: Trump wins second term in historic comeback'}, {'url': 'https://www.aljazeera.com/us-election-2024/results/', 'content': 'US election results 2024: Live map and updates Each state is allocated a certain number of Electoral votes based on its population. This election features seven battleground states, totalling 93 Electoral votes: Pennsylvania (19), Georgia (16), North Carolina (16), Michigan (15), Arizona (11), Wisconsin (10), Nevada (6) States where Democrats are expected to win (226 Electoral votes) States where Republicans are expected to win (219 Electoral votes) | State (Electoral votes) | Harris | Trump | Reported | |  North Carolina (16) | - | - | - | | State (Electoral votes) | Harris | Trump | Reported | | State (Electoral votes) | Harris | Trump | Reported | All state-by-state results (34) All state-by-state results (435)'}, {'url': 'https://en.wikipedia.org/wiki/2024_United_States_presidential_election', 'content': 'Meanwhile, states like Colorado, New Mexico and Virginia have moved noticeably towards the Democrats, and the party has become the dominant political force there.[29][30][31]\\nThe Democratic electoral coalition, securing the \"blue states\" for Democratic presidential candidates, performs best among Jewish and Black voters;[32][33] whites who are wealthy or postgraduates,[34] or live in urban areas.[35] Working class voters were also a mainstay of the Democratic coalition since the days of the New Deal, but since the 1970s, many have defected to Republicans as the Democratic Party moved significantly to the left on cultural issues.[36] Conversely, the traditional Republican coalition that dominates many \"red states\" is mainly composed of rural white voters, evangelicals, the elderly, and non-college educated voters.[37]\\nRepublicans have also historically performed well with suburban, middle class voters since the 1950s, but this bloc has drifted away from them in recent years due to the rise of the Tea Party movement and later the Make America Great Again movement.[38] Biden\\'s support for Israel has greatly damaged Muslim support for Democrats in polling.[80] Polling has indicated a significant divide between elite opinion of the Israel–Hamas war, which has overwhelmingly taken the side of Israel, and the general public.[81] A plurality of Americans oppose American military aid to Israel and believe that the United States \"should be a neutral mediator\" in the Israel-Palestinian conflict rather than taking a side.[81] Among voters 18-34, 66 percent disapprove of Israel’s conduct during the war and 20 percent approve, while a majority take the side of Palestinians predominately in the conflict.[82]\\nHealthcare issues\\nThe issue of healthcare and drug policy, including whether the United States should shift to a universal healthcare system,[83] and the COVID-19 pandemic is expected to play a key role in the 2024 presidential election.[84]\\n If Trump is elected, he would become the second president to win a second non-consecutive term, joining Grover Cleveland who did so in 1892.[15]\\nElection interference\\nDonald Trump did not concede to Joe Biden in the 2020 presidential election, citing unsubstantiated claims of voter fraud, and has continued denying the election results as of 2023[update].[16][17] Election security experts have warned that officials who deny the legitimacy of the 2020 presidential election may attempt to impede the voting process or refuse to certify the 2024 election results.[18]\\nPolling before the election has indicated profound dissatisfaction with the state of American democracy.[19][20][21] Liberals tend to believe that conservatives are threatening the country with autocratic tendencies and their attempts to overturn the 2020 election.[22] Many Republicans are concerned with attempts to prevent former President Trump from holding public office by any means necessary, including impeachment and indictment.[23]\\nElectoral map\\n Supporters of the laws claim that conversations about racial identity are not appropriate for a school environment.[66][67][10] Critics of the laws against critical race theory claim they whitewash American history and act as memory laws to rewrite public memory of U.S. history.[68]\\nForeign policy\\nThe Israel–Hamas war and Russian invasion of Ukraine are expected to be significant issues of the campaign.[69]\\nThe United States has provided significant military and humanitarian aid to Ukraine throughout the Russian invasion of Ukraine.[70][71][72] Democratic politicians and a significant number of Republican politicians have supported this plan, arguing that the United States has a significant role to play in \"protecting democracy and fighting Russian aggression. This will be the first U.S. presidential election to occur after the reapportionment of votes in the United States Electoral College following the 2020 United States census.[24][25] If the results of the 2020 election were to stay the same (which has never occurred in the history of presidential elections) in 2024, Democrats would have 303 electoral votes against the Republicans\\' 235, a slight change from Biden\\'s 306 electoral votes and Trump\\'s 232, meaning that Democrats lost a net of 3 electoral votes to the reapportionment process.'}]\u001b[0m\u001b[32;1m\u001b[1;3mDonald Trump won the 2024 US presidential election.\u001b[0m\n",
      "\n",
      "\u001b[1m> Finished chain.\u001b[0m\n"
     ]
    },
    {
     "data": {
      "text/plain": [
       "{'input': 'who won last 2024 US presidential elections?',\n",
       " 'output': 'Donald Trump won the 2024 US presidential election.'}"
      ]
     },
     "execution_count": 22,
     "metadata": {},
     "output_type": "execute_result"
    }
   ],
   "source": [
    "agent_executor.invoke({'input':'who won last 2024 US presidential elections?'})"
   ]
  },
  {
   "cell_type": "code",
   "execution_count": 23,
   "metadata": {},
   "outputs": [
    {
     "name": "stderr",
     "output_type": "stream",
     "text": [
      "Error in StdOutCallbackHandler.on_chain_start callback: AttributeError(\"'NoneType' object has no attribute 'get'\")\n"
     ]
    },
    {
     "name": "stdout",
     "output_type": "stream",
     "text": [
      "\u001b[32;1m\u001b[1;3m\n",
      "Invoking: `get_word_length_tool` with `{'word': 'AIAccelera'}`\n",
      "\n",
      "\n",
      "\u001b[0m\u001b[38;5;200m\u001b[1;3m10\u001b[0m\u001b[32;1m\u001b[1;3mThe word \"AIAccelera\" contains 10 letters.\u001b[0m\n",
      "\n",
      "\u001b[1m> Finished chain.\u001b[0m\n"
     ]
    },
    {
     "data": {
      "text/plain": [
       "{'input': 'How many letters are in the word AIAccelera?',\n",
       " 'output': 'The word \"AIAccelera\" contains 10 letters.'}"
      ]
     },
     "execution_count": 23,
     "metadata": {},
     "output_type": "execute_result"
    }
   ],
   "source": [
    "agent_executor.invoke({\"input\": \"How many letters are in the word AIAccelera?\"})"
   ]
  },
  {
   "cell_type": "markdown",
   "metadata": {},
   "source": [
    "## Adding memory to the agent\n",
    "* Right now, our basic agent does not remember previous interactions. Technically, we say that our agent is \"stateless\".\n",
    "* If we want the agent to remember previous interactions, we could achieve it message by message, or automatically. For the sake of simplicity, let's first see how to do it message by message:"
   ]
  },
  {
   "cell_type": "code",
   "execution_count": 25,
   "metadata": {},
   "outputs": [
    {
     "name": "stderr",
     "output_type": "stream",
     "text": [
      "Error in StdOutCallbackHandler.on_chain_start callback: AttributeError(\"'NoneType' object has no attribute 'get'\")\n"
     ]
    },
    {
     "name": "stdout",
     "output_type": "stream",
     "text": [
      "\u001b[32;1m\u001b[1;3mHello Julio! How can I assist you today?\u001b[0m\n",
      "\n",
      "\u001b[1m> Finished chain.\u001b[0m\n"
     ]
    },
    {
     "data": {
      "text/plain": [
       "{'input': 'hi! my name is julio',\n",
       " 'chat_history': [],\n",
       " 'output': 'Hello Julio! How can I assist you today?'}"
      ]
     },
     "execution_count": 25,
     "metadata": {},
     "output_type": "execute_result"
    }
   ],
   "source": [
    "# Here we pass in an empty list of messages \n",
    "# for chat_history because it is the first \n",
    "# message in the chat\n",
    "agent_executor.invoke(\n",
    "    {\n",
    "        \"input\": \"hi! my name is julio\", \n",
    "        \"chat_history\": []\n",
    "    })"
   ]
  },
  {
   "cell_type": "code",
   "execution_count": 26,
   "metadata": {},
   "outputs": [],
   "source": [
    "from langchain_core.messages import AIMessage, HumanMessage"
   ]
  },
  {
   "cell_type": "code",
   "execution_count": 27,
   "metadata": {},
   "outputs": [
    {
     "name": "stderr",
     "output_type": "stream",
     "text": [
      "Error in StdOutCallbackHandler.on_chain_start callback: AttributeError(\"'NoneType' object has no attribute 'get'\")\n"
     ]
    },
    {
     "name": "stdout",
     "output_type": "stream",
     "text": [
      "\u001b[32;1m\u001b[1;3mYour name is Julio. How can I assist you further, Julio?\u001b[0m\n",
      "\n",
      "\u001b[1m> Finished chain.\u001b[0m\n"
     ]
    },
    {
     "data": {
      "text/plain": [
       "{'chat_history': [HumanMessage(content='hi! my name is julio', additional_kwargs={}, response_metadata={}),\n",
       "  AIMessage(content='Hello Julio! How can I assist you today?', additional_kwargs={}, response_metadata={})],\n",
       " 'input': \"what's my name?\",\n",
       " 'output': 'Your name is Julio. How can I assist you further, Julio?'}"
      ]
     },
     "execution_count": 27,
     "metadata": {},
     "output_type": "execute_result"
    }
   ],
   "source": [
    "agent_executor.invoke(\n",
    "    {\n",
    "        \"chat_history\": [\n",
    "            HumanMessage(content=\"hi! my name is julio\"),\n",
    "            AIMessage(content=\"Hello Julio! How can I assist you today?\"),\n",
    "        ],\n",
    "        \"input\": \"what's my name?\",\n",
    "    }\n",
    ")"
   ]
  },
  {
   "cell_type": "markdown",
   "metadata": {},
   "source": [
    "* The previous way is simple but not very practical for real agents. Let's now see how we can keep track of previous messages automatically:"
   ]
  },
  {
   "cell_type": "code",
   "execution_count": 28,
   "metadata": {},
   "outputs": [],
   "source": [
    "from langchain_community.chat_message_histories import ChatMessageHistory\n",
    "from langchain_core.runnables.history import RunnableWithMessageHistory\n",
    "\n",
    "message_history = ChatMessageHistory()"
   ]
  },
  {
   "cell_type": "code",
   "execution_count": 30,
   "metadata": {},
   "outputs": [
    {
     "name": "stderr",
     "output_type": "stream",
     "text": [
      "Error in StdOutCallbackHandler.on_chain_start callback: AttributeError(\"'NoneType' object has no attribute 'get'\")\n"
     ]
    },
    {
     "name": "stdout",
     "output_type": "stream",
     "text": [
      "\u001b[32;1m\u001b[1;3mHello Julio! How can I assist you today?\u001b[0m\n",
      "\n",
      "\u001b[1m> Finished chain.\u001b[0m\n"
     ]
    },
    {
     "data": {
      "text/plain": [
       "{'input': \"hi! I'm julio\",\n",
       " 'chat_history': [],\n",
       " 'output': 'Hello Julio! How can I assist you today?'}"
      ]
     },
     "execution_count": 30,
     "metadata": {},
     "output_type": "execute_result"
    }
   ],
   "source": [
    "agent_with_chat_history = RunnableWithMessageHistory(\n",
    "    agent_executor,\n",
    "    # This is needed because in most real world scenarios, a session id is needed\n",
    "    # It isn't really used here because we are using a simple in memory ChatMessageHistory\n",
    "    lambda session_id: message_history,\n",
    "    input_messages_key=\"input\",\n",
    "    history_messages_key=\"chat_history\",\n",
    ")\n",
    "\n",
    "agent_with_chat_history.invoke(\n",
    "    {\"input\": \"hi! I'm julio\"},\n",
    "    # This is needed because in most real world scenarios, a session id is needed\n",
    "    # It isn't really used here because we are using a simple in memory ChatMessageHistory\n",
    "    config={\"configurable\": {\"session_id\": \"<foo>\"}},\n",
    ")"
   ]
  },
  {
   "cell_type": "code",
   "execution_count": 31,
   "metadata": {},
   "outputs": [
    {
     "name": "stderr",
     "output_type": "stream",
     "text": [
      "Error in StdOutCallbackHandler.on_chain_start callback: AttributeError(\"'NoneType' object has no attribute 'get'\")\n"
     ]
    },
    {
     "name": "stdout",
     "output_type": "stream",
     "text": [
      "\u001b[32;1m\u001b[1;3mYour name is Julio! How can I help you, Julio?\u001b[0m\n",
      "\n",
      "\u001b[1m> Finished chain.\u001b[0m\n"
     ]
    },
    {
     "data": {
      "text/plain": [
       "{'input': \"what's my name?\",\n",
       " 'chat_history': [HumanMessage(content=\"hi! I'm julio\", additional_kwargs={}, response_metadata={}),\n",
       "  AIMessage(content='Hello Julio! How can I assist you today?', additional_kwargs={}, response_metadata={})],\n",
       " 'output': 'Your name is Julio! How can I help you, Julio?'}"
      ]
     },
     "execution_count": 31,
     "metadata": {},
     "output_type": "execute_result"
    }
   ],
   "source": [
    "agent_with_chat_history.invoke(\n",
    "    {\"input\": \"what's my name?\"},\n",
    "    # This is needed because in most real world scenarios, a session id is needed\n",
    "    # It isn't really used here because we are using a simple in memory ChatMessageHistory\n",
    "    config={\"configurable\": {\"session_id\": \"<foo>\"}},\n",
    ")"
   ]
  },
  {
   "cell_type": "markdown",
   "metadata": {},
   "source": [
    "## Basic Agent Operations: How to Guides\n",
    "* [How to build an agent with a custom tool and memory.](https://python.langchain.com/docs/modules/agents/how_to/custom_agent/)\n",
    "* [How to add streaming.](https://python.langchain.com/docs/modules/agents/how_to/streaming/)\n",
    "* [How to return structured output.](https://python.langchain.com/docs/modules/agents/how_to/agent_structured/)\n",
    "* [How to run an agent as an iterator.](https://python.langchain.com/docs/modules/agents/how_to/agent_iter/)\n",
    "* [How to handle parsing errors.](https://python.langchain.com/docs/modules/agents/how_to/handle_parsing_errors/)\n",
    "* [How to access intermediate steps.](https://python.langchain.com/docs/modules/agents/how_to/intermediate_steps/)\n",
    "* [How to cap the max number of iterations.](https://python.langchain.com/docs/modules/agents/how_to/max_iterations/)\n",
    "* [How to add timeouts for agents.](https://python.langchain.com/docs/modules/agents/how_to/max_time_limit/)"
   ]
  }
 ],
 "metadata": {
  "kernelspec": {
   "display_name": "llm",
   "language": "python",
   "name": "python3"
  },
  "language_info": {
   "codemirror_mode": {
    "name": "ipython",
    "version": 3
   },
   "file_extension": ".py",
   "mimetype": "text/x-python",
   "name": "python",
   "nbconvert_exporter": "python",
   "pygments_lexer": "ipython3",
   "version": "3.10.14"
  }
 },
 "nbformat": 4,
 "nbformat_minor": 2
}

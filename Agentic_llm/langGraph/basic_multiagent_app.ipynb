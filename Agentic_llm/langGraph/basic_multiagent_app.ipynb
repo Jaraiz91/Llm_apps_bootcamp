{
 "cells": [
  {
   "cell_type": "markdown",
   "metadata": {},
   "source": [
    "# LangGraph: Basic Multi-Agent App to replace a Content Marketing Team"
   ]
  },
  {
   "cell_type": "markdown",
   "metadata": {},
   "source": [
    "## Why use LangGraph?\n",
    "* To build Multi-Agent LLM Apps.\n",
    "* LangGraph can coordinate multiple agents.\n",
    "* The LLM Apps of the future: Agentic Behavior."
   ]
  },
  {
   "cell_type": "code",
   "execution_count": 2,
   "metadata": {},
   "outputs": [],
   "source": [
    "import functools\n",
    "import operator\n",
    "import requests\n",
    "import os\n",
    "from dotenv import load_dotenv, find_dotenv\n",
    "from bs4 import BeautifulSoup\n",
    "from langchain.agents import AgentExecutor, create_openai_tools_agent\n",
    "from langchain_core.messages import HumanMessage, BaseMessage\n",
    "from langchain.output_parsers.openai_functions import JsonOutputFunctionsParser\n",
    "from langchain_core.prompts import ChatPromptTemplate, MessagesPlaceholder\n",
    "from langgraph.graph import StateGraph, END\n",
    "from langchain.tools import tool\n",
    "from langchain_openai import ChatOpenAI\n",
    "\n",
    "from typing import TypedDict, Annotated, Sequence\n",
    "\n",
    "from langchain_community.tools.tavily_search import TavilySearchResults\n"
   ]
  },
  {
   "cell_type": "code",
   "execution_count": 3,
   "metadata": {},
   "outputs": [],
   "source": [
    "_ = load_dotenv(find_dotenv())\n",
    "openai_api_key = os.environ['OPENAI_API_KEY']"
   ]
  },
  {
   "cell_type": "markdown",
   "metadata": {},
   "source": [
    "## Select the LLM"
   ]
  },
  {
   "cell_type": "code",
   "execution_count": 4,
   "metadata": {},
   "outputs": [],
   "source": [
    "llm = ChatOpenAI(model='gpt-3.5-turbo', temperature=0)"
   ]
  },
  {
   "cell_type": "markdown",
   "metadata": {},
   "source": [
    "## Define the tools to use"
   ]
  },
  {
   "cell_type": "markdown",
   "metadata": {},
   "source": [
    "## Define the tools to use\n",
    "* Online searching with Tavily\n",
    "* HTML parsing with BeautifulSoup\n",
    "* return_direct=False\n",
    "    * Meaning: this tool will be returning results privately to the agent, not publicly to the app."
   ]
  },
  {
   "cell_type": "code",
   "execution_count": 5,
   "metadata": {},
   "outputs": [],
   "source": [
    "@tool(\"process_search_tool\", return_direct=False)\n",
    "def process_search_tool(url: str)->str:\n",
    "    \"\"\"Used to process content found on the internet\"\"\"\n",
    "    response = requests.get(url)\n",
    "    soup = BeautifulSoup(response.content, 'html.parser')\n",
    "    return soup.get_text()\n",
    "\n",
    "\n",
    "tools = [TavilySearchResults(max_results=1), process_search_tool]"
   ]
  },
  {
   "cell_type": "markdown",
   "metadata": {},
   "source": [
    "for demo and costs purposes we have limited the search results to just 1. This indeed will limit the quality of the online search since our online search agent will only study one search result"
   ]
  },
  {
   "cell_type": "markdown",
   "metadata": {},
   "source": [
    "## Define the function to create new agents\n",
    "* Arguments: llm, tool list, system prompt.\n",
    "* OpenAI tools agent.\n",
    "* Output: AgentExecutor"
   ]
  },
  {
   "cell_type": "code",
   "execution_count": 7,
   "metadata": {},
   "outputs": [],
   "source": [
    "def create_new_agent(llm: ChatOpenAI,\n",
    "                     tools: list,\n",
    "                     system_prompt: str) -> AgentExecutor:\n",
    "    prompt = ChatPromptTemplate.from_messages([\n",
    "        ('system', system_prompt),\n",
    "        MessagesPlaceholder(variable_name='messages'),\n",
    "        MessagesPlaceholder(variable_name='agent_scratchpad')\n",
    "    ])\n",
    "    agent = create_openai_tools_agent(llm, tools=tools, prompt=prompt)\n",
    "    executor = AgentExecutor(agent=agent, tools=tools)\n",
    "    return executor"
   ]
  },
  {
   "cell_type": "markdown",
   "metadata": {},
   "source": [
    "This previous function is designed to set up and return an agent that can perform tasks using OpenAI's language model and a set of tools. Here’s a breakdown of what each part does:\n",
    "\n",
    "1. **Function Definition (`create_new_agent`)**:\n",
    "   - It takes four parameters:\n",
    "     - `llm`: an instance of `ChatOpenAI`, which refers to the language model from OpenAI.\n",
    "     - `tools`: a list of tools that the agent can use.\n",
    "     - `system_prompt`: a string that provides an initial message or command for the agent.\n",
    "   - The function is expected to return an instance of `AgentExecutor`.\n",
    "\n",
    "2. **Creating a Prompt**:\n",
    "   - `prompt = ChatPromptTemplate.from_messages([...])`: This line constructs a prompt for the agent using a template. The prompt includes:\n",
    "     - A system message (`system_prompt`).\n",
    "     - Two placeholders for additional dynamic content, labeled `\"messages\"` and `\"agent_scratchpad\"`. These are used to insert messages that the agent receives during its operation and notes or data that the agent might need to keep track of, respectively.\n",
    "\n",
    "3. **Creating an Agent**:\n",
    "   - `agent = create_openai_tools_agent(llm, tools, prompt)`: This line initializes the agent using the language model (`llm`), the list of tools (`tools`), and the prompt created earlier. The function (`create_openai_tools_agent`) is designed to configure the agent with the necessary components to function properly.\n",
    "\n",
    "4. **Creating an Executor**:\n",
    "   - `executor = AgentExecutor(agent=agent, tools=tools)`: This creates an `AgentExecutor` object, which manages the execution of the agent's tasks. It is configured with the agent itself and the tools the agent can use.\n",
    "\n",
    "5. **Return the Executor**:\n",
    "   - `return executor`: The function finishes by returning the `executor` object, which is now ready to handle tasks according to the `system_prompt` and interact using the tools provided.\n",
    "\n",
    "In simple terms, this function sets up an agent with specific tools and a starting instruction, ready to perform tasks as instructed by further interactions."
   ]
  },
  {
   "cell_type": "markdown",
   "metadata": {},
   "source": [
    "## Define the function to create a node in the multi-agent network\n",
    "* Nodes are like the way we locate each agent in the network."
   ]
  },
  {
   "cell_type": "code",
   "execution_count": 8,
   "metadata": {},
   "outputs": [],
   "source": [
    "def agent_node(state, agent, name):\n",
    "     result = agent.invoke(state)\n",
    "     return {\"messages\": [HumanMessage(content=result[\"output\"], name=name)]}"
   ]
  },
  {
   "cell_type": "markdown",
   "metadata": {},
   "source": [
    "## Create a list with the names of the AI Agents we will create to replace our content marketing team"
   ]
  },
  {
   "cell_type": "code",
   "execution_count": 9,
   "metadata": {},
   "outputs": [],
   "source": [
    "content_marketing_team = [\"online_researcher\", \"blog_manager\", \"social_media_manager\"]"
   ]
  },
  {
   "cell_type": "markdown",
   "metadata": {},
   "source": [
    "## Define the system prompt\n",
    "* The system_prompt defines the role of the content marketing manager. The content marketing manager decides when an agent should intervene in the network cycle.\n",
    "* Each agent delivers a report to the content marketing manager when her task is finished, and then the content marketing manager decides what to do next, if another agent takes charge or if the cycle finishes."
   ]
  },
  {
   "cell_type": "code",
   "execution_count": 10,
   "metadata": {},
   "outputs": [],
   "source": [
    "system_prompt = (\n",
    "     \"As a content marketing manager, your role is to oversee the insight between these\"\n",
    "     \" workers: {content_marketing_team}. Based on the user's request,\"\n",
    "     \" determine which worker should take the next action. Each worker is responsible for\"\n",
    "     \" executing a specific task and reporting back thier findings and progress.\"\n",
    "     \" Once all tasks are completed, indicate 'FINISH'.\"\n",
    " )"
   ]
  },
  {
   "cell_type": "markdown",
   "metadata": {},
   "source": [
    "## Create the options list\n",
    "* This list presents all the options the content marketing manager can choose from: the list of agent names and the \"FINISH\" option to finish the cycle."
   ]
  },
  {
   "cell_type": "code",
   "execution_count": 11,
   "metadata": {},
   "outputs": [],
   "source": [
    "options = [\"FINISH\"] + content_marketing_team"
   ]
  },
  {
   "cell_type": "markdown",
   "metadata": {},
   "source": [
    "## Define the routeSchema function\n",
    "* This function determines how to select the next agent in charge in the next cycle stage, the next role.\n",
    "* As you can see, in the properties it includes the options list."
   ]
  },
  {
   "cell_type": "code",
   "execution_count": 12,
   "metadata": {},
   "outputs": [],
   "source": [
    "function_def = {\n",
    "     \"name\": \"route\",\n",
    "     \"description\": \"Select the next role.\",\n",
    "     \"parameters\": {\n",
    "         \"title\": \"routeSchema\",\n",
    "         \"type\": \"object\",\n",
    "         \"properties\": {\"next\": {\"title\": \"Next\", \"anyOf\": [{\"enum\": options}]}},\n",
    "         \"required\": [\"next\"]\n",
    "     }\n",
    " }"
   ]
  },
  {
   "cell_type": "markdown",
   "metadata": {},
   "source": [
    "The previous function described in the JSON object is named `route`, and its primary purpose is to select the next role based on a specific schema called `routeSchema`. Let us break down the various components to clarify what each part does:\n",
    "\n",
    "1. **Name**: The function is called `route`. The name is self explanatory: the function helps in determining a direction or making a decision in a sequence of actions.\n",
    "\n",
    "2. **Description**: The description \"Select the next role\" is also self explanatory: the function's main task is to determine and select what the next role should be in our workflow.\n",
    "\n",
    "3. **Parameters**: This function takes one parameter defined by the `routeSchema`. Here's how the schema is structured:\n",
    "   \n",
    "   - **title**: The title of the parameter is `routeSchema`.\n",
    "   - **type**: It's of type `object`, meaning this parameter should be a structured object with properties defined under it.\n",
    "   - **properties**:\n",
    "     - The key property is `next`. It has the title \"Next\", and its value can be one of several options. These options are referenced as `options`, which means that `next` can take on any value from the options list.\n",
    "   - **required**: The property `next` is required, meaning that for the function to operate, the `next` property must be provided in the object passed to the function."
   ]
  },
  {
   "cell_type": "markdown",
   "metadata": {},
   "source": [
    "## Define the content marketing manager's prompt\n",
    "* Includes the system prompt.\n",
    "* Asks what option to take next."
   ]
  },
  {
   "cell_type": "code",
   "execution_count": 21,
   "metadata": {},
   "outputs": [],
   "source": [
    "prompt = ChatPromptTemplate.from_messages([\n",
    "     (\"system\", system_prompt),\n",
    "     MessagesPlaceholder(variable_name=\"messages\"),\n",
    "     (\"system\",\n",
    "      \"Given the conversation above, who should act next? Or should we FINISH? Select one of: {options}\"),\n",
    " ]).partial(options=str(options), content_marketing_team=\", \".join(content_marketing_team))"
   ]
  },
  {
   "cell_type": "markdown",
   "metadata": {},
   "source": [
    "The previous code is be constructing a prompt template for our chat-based application. Let's break down each part of the code for clarity:\n",
    "\n",
    "1. **Creating a Prompt Template**:\n",
    "   - `ChatPromptTemplate.from_messages([])`: This is a method used to create a new chat prompt template. It takes a list of messages as an argument, which defines the structure of the conversation that will be presented to the user.\n",
    "\n",
    "2. **Defining the Conversation**:\n",
    "   - Inside the list passed to `from_messages`, there are tuples and placeholders that represent different parts of a conversation:\n",
    "     - `(\"system\", system_prompt)`: This tuple represents a message from the \"system\" using the variable `system_prompt`.\n",
    "     - `MessagesPlaceholder(variable_name=\"messages\")`: This is a placeholder for user messages that will be dynamically filled based on the actual conversation. The placeholder is labeled with a variable name `\"messages\"`, indicating where messages from the user or other participants should be inserted in the template.\n",
    "     - `(\"system\", \"Given the conversation above, who should act next? Or should we FINISH? Select one of: {options}\")`: System message that prompts the user to decide the next step in the conversation, providing specific options that are dynamically determined.\n",
    "\n",
    "3. **Dynamic Content**:\n",
    "   - `.partial(options=str(options), content_marketing_team=\", \".join(content_marketing_team))`: This part of the code modifies the template to include specific dynamic content:\n",
    "     - `options=str(options)`: The placeholder `{options}` in the last system message is replaced with a string representation of the variable `options`, which contains different actions or choices the user can make.\n",
    "     - `content_marketing_team=\", \".join(content_marketing_team)`: the list `content_marketing_team` is converted to a comma-separated string."
   ]
  },
  {
   "cell_type": "markdown",
   "metadata": {},
   "source": [
    "## Define the content marketing manager's chain\n",
    "* Use the content marketing manager's prompt\n",
    "* Use the routerSchema function\n",
    "* Parse the output as JSON"
   ]
  },
  {
   "cell_type": "code",
   "execution_count": 22,
   "metadata": {},
   "outputs": [],
   "source": [
    "content_marketing_manager_chain = (prompt | llm.bind_functions(\n",
    "    functions=[function_def], function_call=\"route\") | JsonOutputFunctionsParser())"
   ]
  },
  {
   "cell_type": "markdown",
   "metadata": {},
   "source": [
    "## Create the online_researcher agent\n",
    "Remember, the create_new_agent function only requires 3 arguments:\n",
    "* What LLM will the agent use.\n",
    "* The list of tools the agent can use. In this exercise all angents share the same tool list, but they can have differente tool lists.\n",
    "* What prompt defines the agent's role."
   ]
  },
  {
   "cell_type": "code",
   "execution_count": 13,
   "metadata": {},
   "outputs": [],
   "source": [
    "online_researcher_agent = create_new_agent(\n",
    "     llm,\n",
    "     tools,\n",
    "     \"\"\"Your primary role is to function as an intelligent online research assistant, adept at scouring \n",
    "     the internet for the latest and most relevant trending stories across various sectors like politics, technology, \n",
    "     health, culture, and global events. You possess the capability to access a wide range of online news sources, \n",
    "     blogs, and social media platforms to gather real-time information.\"\"\"\n",
    " )"
   ]
  },
  {
   "cell_type": "markdown",
   "metadata": {},
   "source": [
    "## Define the node where we can locate the previous agent\n",
    "* Using functools, we basically clone the agent_node function and add online_researcher_agent as argument and giving the node the name of \"online_researcher\". See how functions.partial works below."
   ]
  },
  {
   "cell_type": "code",
   "execution_count": 14,
   "metadata": {},
   "outputs": [],
   "source": [
    "online_researcher_node = functools.partial(\n",
    "     agent_node, agent=online_researcher_agent, name=\"online_researcher\"\n",
    " )"
   ]
  },
  {
   "cell_type": "markdown",
   "metadata": {},
   "source": [
    "#### What does functools.partial do?\n",
    "The `functools` module is part of the Python standard library and **doesn't need to be installed separately.**\n",
    "\n",
    "`functools` provides tools that help you modify and manage functions easily. Here’s a simplified explanation of some of its main features:\n",
    "\n",
    "1. **`partial`**: Imagine you have a recipe that you always cook with a slight variation. Instead of rewriting the recipe each time, you can write down the common steps and just specify the variation when needed. `partial` helps you create a simplified version of a function by pre-setting some arguments.\n",
    "\n",
    "2. **`lru_cache`**: This is like having a small notebook where you write down solutions to problems you've already solved. The next time you face the same problem, instead of solving it again, you just look at your notebook. This saves time, especially for complex problems.\n",
    "\n",
    "3. **`reduce`**: Suppose you have a list of numbers and you want to combine them into one number, maybe by adding them up. `reduce` takes a function (like addition) and a list, applies the function to combine the items of the list into a single result.\n",
    "\n",
    "4. **`total_ordering`**: If you have a class representing people with just their ages and you want to easily compare who is older or younger, you usually need to write several methods to compare them. With `total_ordering`, you just write one comparison method, and it figures out the rest for you.\n",
    "\n",
    "5. **`singledispatch`**: This lets you write a general function that can behave differently depending on what type of thing it is dealing with. For example, you might have a function that needs to handle both numbers and strings differently with just one function definition.\n",
    "\n",
    "6. **`cmp_to_key`**: Some tools in Python sort objects but need a special rule for how to rank them. `cmp_to_key` converts an old-style comparison function (which tells you which of two values is larger) into a key function that the sorting tool can use.\n",
    "\n",
    "Overall, `functools` helps make functions more versatile and easier to manage in your programs."
   ]
  },
  {
   "cell_type": "markdown",
   "metadata": {},
   "source": [
    "## Repeat the previous two steps to create the other 2 agents with their corresponding nodes."
   ]
  },
  {
   "cell_type": "code",
   "execution_count": 15,
   "metadata": {},
   "outputs": [],
   "source": [
    "blog_manager_agent = create_new_agent(\n",
    "     llm, tools,\n",
    "     \"\"\"You are a Blog Manager. The role of a Blog Manager encompasses several critical responsibilities aimed at transforming initial drafts into polished, SEO-optimized blog articles that engage and grow an audience. Starting with drafts provided by online researchers, the Blog Manager must thoroughly understand the content, ensuring it aligns with the blog's tone, target audience, and thematic goals. Key responsibilities include:\n",
    "\n",
    " 1. Content Enhancement: Elevate the draft's quality by improving clarity, flow, and engagement. This involves refining the narrative, adding compelling headers, and ensuring the article is reader-friendly and informative.\n",
    "\n",
    " 2. SEO Optimization: Implement best practices for search engine optimization. This includes keyword research and integration, optimizing meta descriptions, and ensuring URL structures and heading tags enhance visibility in search engine results.\n",
    "\n",
    " 3. Compliance and Best Practices: Ensure the content adheres to legal and ethical standards, including copyright laws and truth in advertising. The Blog Manager must also keep up with evolving SEO strategies and blogging trends to maintain and enhance content effectiveness.\n",
    "\n",
    " 4. Editorial Oversight: Work closely with writers and contributors to maintain a consistent voice and quality across all blog posts. This may also involve managing a content calendar, scheduling posts for optimal engagement, and coordinating with marketing teams to support promotional activities.\n",
    "\n",
    " 5. Analytics and Feedback Integration: Regularly review performance metrics to understand audience engagement and preferences. Use this data to refine future content and optimize overall blog strategy.\n",
    "\n",
    " In summary, the Blog Manager plays a pivotal role in bridging initial research and the final publication by enhancing content quality, ensuring SEO compatibility, and aligning with the strategic objectives of the blog. This position requires a blend of creative, technical, and analytical skills to successfully manage and grow the blog's presence online.\"\"\")\n",
    "\n",
    "\n",
    "blog_manager_node = functools.partial(\n",
    "     agent_node, agent=blog_manager_agent, name=\"blog_manager\")\n",
    "\n",
    "\n",
    "social_media_manager_agent = create_new_agent(\n",
    "     llm, tools,\n",
    "     \"\"\"You are a Social Media Manager. The role of a Social Media Manager, particularly for managing Twitter content, involves transforming research drafts into concise, engaging tweets that resonate with the audience and adhere to platform best practices. Upon receiving a draft from an online researcher, the Social Media Manager is tasked with several critical functions:\n",
    "\n",
    " 1. Content Condensation: Distill the core message of the draft into a tweet, which typically allows for only 280 characters. This requires a sharp focus on brevity while maintaining the essence and impact of the message.\n",
    "\n",
    " 2. Engagement Optimization: Craft tweets to maximize engagement. This includes the strategic use of compelling language, relevant hashtags, and timely topics that resonate with the target audience.\n",
    "\n",
    " 3. Compliance and Best Practices: Ensure that the tweets follow Twitter’s guidelines and best practices, including the appropriate use of mentions, hashtags, and links. Also, adhere to ethical standards, avoiding misinformation and respecting copyright norms.\n",
    "\n",
    " In summary, the Social Media Manager's role is crucial in leveraging Twitter to disseminate information effectively, engage with followers, and build the brand’s presence online. This position combines creative communication skills with strategic planning and analysis to optimize social media impact.\"\"\")\n",
    "\n",
    "social_media_manager_node = functools.partial(\n",
    "     agent_node, agent=social_media_manager_agent, name=\"social_media_manager\")"
   ]
  },
  {
   "cell_type": "markdown",
   "metadata": {},
   "source": [
    "## Define Individual Agent Memory: the AgentState class "
   ]
  },
  {
   "cell_type": "code",
   "execution_count": 16,
   "metadata": {},
   "outputs": [],
   "source": [
    "class AgentState(TypedDict):\n",
    "     messages: Annotated[Sequence[BaseMessage], operator.add]\n",
    "     next: str"
   ]
  },
  {
   "cell_type": "markdown",
   "metadata": {},
   "source": [
    "The previous code defines a Python class called `AgentState` using a feature called `TypedDict` from the `typing` module. Here’s what each part does in simple terms:\n",
    "\n",
    "1. **`TypedDict`**: This is used to create a dictionary where you can specify the type of data each key should hold. It's a way to make sure your dictionaries are more predictable by ensuring each key has a specific type of value.\n",
    "\n",
    "2. **`AgentState`**: This is the name of the dictionary type being defined. You can think of `AgentState` as a blueprint for creating dictionaries that always have the same structure.\n",
    "\n",
    "3. **`messages`**: This is one of the keys in the `AgentState` dictionary. It is expected to hold a sequence (like a list or a tuple) of items, each of which is an instance of `BaseMessage`. `BaseMessage` is a Base class in LangChain for all types of messages in a conversation. It includes properties like `content`, `name`, and `additional_kwargs`. It also includes methods like `toDict()` and `_getType()`.\n",
    "\n",
    "   - **`Annotated[Sequence[BaseMessage], operator.add]`**: Here, `Annotated` is used to add additional information to the type hint. This extra information is `operator.add`, suggesting that the values in the `messages` sequence might be combined using the addition operation, indicating that messages can be concatenated or aggregated. The `operator` module in Python provides a set of functions corresponding to the intrinsic operators of Python. For example, instead of using + for addition, operator.add(x, y) can be used. \n",
    "\n",
    "4. **`next`**: This is another key in the `AgentState` dictionary. It holds a value of type `str`, which means it's expected to be a string. This could be used to indicate the next action, state, or identifier in a process or workflow involving an \"agent.\"\n",
    "\n",
    "In summary, the `AgentState` class defines a template for creating dictionaries that keep track of an agent's messages and its next state or action. Each `AgentState` dictionary will have a list of `messages` that are instances of `BaseMessage` and a `next` value that is a string. The use of `Annotated` with `operator.add` might imply some special handling or processing of the messages that isn't standard in typical type hints."
   ]
  },
  {
   "cell_type": "markdown",
   "metadata": {},
   "source": [
    "## Let's now create the Workflow of the Agent Network, what in LangGraph is called a Graph or a Stateful Graph"
   ]
  },
  {
   "cell_type": "code",
   "execution_count": 17,
   "metadata": {},
   "outputs": [],
   "source": [
    "workflow = StateGraph(AgentState)"
   ]
  },
  {
   "cell_type": "markdown",
   "metadata": {},
   "source": [
    "## Let's now add the nodes of the Workflow (also called the nodes of the Graph)\n",
    "* See that the action of the content_marketing_manager's node is the content_marketing_manager_chain"
   ]
  },
  {
   "cell_type": "code",
   "execution_count": 24,
   "metadata": {},
   "outputs": [
    {
     "data": {
      "text/plain": [
       "<langgraph.graph.state.StateGraph at 0x20958b06920>"
      ]
     },
     "execution_count": 24,
     "metadata": {},
     "output_type": "execute_result"
    }
   ],
   "source": [
    "workflow.add_node(\"content_marketing_manager\", action=content_marketing_manager_chain)\n",
    "workflow.add_node(\"online_researcher\", action=online_researcher_node)\n",
    "workflow.add_node(\"blog_manager\", action=blog_manager_node)\n",
    "workflow.add_node(\"social_media_manager\", action=social_media_manager_node)"
   ]
  },
  {
   "cell_type": "markdown",
   "metadata": {},
   "source": [
    "a## And now we will add the connections among the nodes, what in LangGraph are called the \"edges\"\n"
   ]
  },
  {
   "cell_type": "code",
   "execution_count": 25,
   "metadata": {},
   "outputs": [],
   "source": [
    "for member in content_marketing_team:\n",
    "     workflow.add_edge(start_key=member, end_key=\"content_marketing_manager\")"
   ]
  },
  {
   "cell_type": "code",
   "execution_count": 26,
   "metadata": {},
   "outputs": [
    {
     "data": {
      "text/plain": [
       "<langgraph.graph.state.StateGraph at 0x20958b06920>"
      ]
     },
     "execution_count": 26,
     "metadata": {},
     "output_type": "execute_result"
    }
   ],
   "source": [
    "conditional_map = {k: k for k in content_marketing_team}\n",
    "\n",
    "conditional_map['FINISH'] = END\n",
    "\n",
    "workflow.add_conditional_edges(\n",
    "    \"content_marketing_manager\", lambda x: x[\"next\"], conditional_map)\n",
    "\n",
    "workflow.set_entry_point(\"content_marketing_manager\")"
   ]
  },
  {
   "cell_type": "markdown",
   "metadata": {},
   "source": [
    "Here's a breakdown of each part of the code and what it does in simple terms:\n",
    "\n",
    "1. **`conditional_map = {k: k for k in content_marketing_team}`**:\n",
    "   - This line creates a dictionary named `conditional_map` where each key and its corresponding value are the same. The keys (and values) are taken from the list `content_marketing_team`.\n",
    "\n",
    "2. **`conditional_map['FINISH'] = END`**:\n",
    "   - Here, the dictionary `conditional_map` is updated to include a new key `'FINISH'` with a corresponding value `END`. See that we imported `END` from langgraph.graph in the top section of multiagent.py\n",
    "\n",
    "3. **`workflow.add_conditional_edges(\"content_marketing_manager\", lambda x: x[\"next\"], conditional_map)`**:\n",
    "   - This line adds conditional edges to a `workflow` object. The first argument `\"content_marketing_manager\"` is a node in the workflow.\n",
    "   - The second argument is a lambda function `lambda x: x[\"next\"]`. This function is used to determine the next step in the workflow based on the current state's `\"next\"` attribute. Essentially, it looks at the current context or state (`x`), retrieves what is specified by `\"next\"`, and uses this to decide the next action or node in the workflow.\n",
    "   - The third argument, `conditional_map`, provides a mapping from possible values of `x[\"next\"]` to what actually should happen next in the workflow. This enables dynamic decision-making within the workflow based on the current state.\n",
    "\n",
    "4. **`workflow.set_entry_point(\"content_marketing_manager\")`**:\n",
    "   - Finally, this line sets the entry point of the workflow to `\"content_marketing_manager\"`. This means that `\"content_marketing_manager\"` is the starting point or initial state from which the workflow begins execution.\n",
    "\n",
    "In essence, this code is configuring a workflow where execution starts at the `\"content_marketing_manager\"` node, uses a dictionary (`conditional_map`) to map potential next steps based on the current context, and dynamically determines the flow based on the current state's `\"next\"` value."
   ]
  },
  {
   "cell_type": "markdown",
   "metadata": {},
   "source": [
    "## Our final step, let's initialize the agent network (often called graph in LangGraph) and let's ask it to do some work for us"
   ]
  },
  {
   "cell_type": "code",
   "execution_count": 27,
   "metadata": {},
   "outputs": [
    {
     "name": "stdout",
     "output_type": "stream",
     "text": [
      "{'content_marketing_manager': {'next': 'blog_manager'}}\n",
      "\n",
      "-----------------\n",
      "\n",
      "{'blog_manager': {'messages': [HumanMessage(content=\"I have retrieved information on Agentic Behavior from a research article. Let's proceed with creating a report on Agentic Behavior.\\n# Report on Agentic Behavior\\n\\n## Introduction\\nAgentic behavior refers to the actions and behaviors of individuals that are driven by a sense of agency and autonomy. This behavior is characterized by a proactive approach to decision-making and problem-solving, where individuals take control of their actions and outcomes.\\n\\n## Key Findings\\nThe research on agentic behavior suggests that it has a positive effect on the individual level but may have null or negative effects on the dyadic level. This indicates that while agentic behavior can benefit individuals in terms of personal growth and achievement, it may not always translate positively in interpersonal relationships or group dynamics.\\n\\n## Implications\\nUnderstanding agentic behavior is crucial in various contexts, such as leadership, teamwork, and personal development. Organizations can leverage agentic behavior to empower employees to take ownership of their work and contribute meaningfully to the team. However, it is essential to balance individual agency with collaborative efforts to ensure overall success and cohesion within groups.\\n\\n## Conclusion\\nAgentic behavior plays a significant role in shaping individual actions and outcomes. By fostering a culture that values autonomy and initiative, organizations can harness the potential of agentic behavior to drive innovation, productivity, and growth.\\n\\nThis report provides insights into the impact of agentic behavior on individuals and groups, highlighting the importance of balancing autonomy with collaboration for optimal results.\\n\\n---\\n\\nNow, I will pass this report to the Blog Manager for further refinement and transformation into a blog article.\", additional_kwargs={}, response_metadata={}, name='blog_manager')]}}\n",
      "\n",
      "-----------------\n",
      "\n",
      "{'content_marketing_manager': {'next': 'social_media_manager'}}\n",
      "\n",
      "-----------------\n",
      "\n",
      "{'social_media_manager': {'messages': [HumanMessage(content=\"I apologize for the inconvenience. It seems there is a temporary issue with accessing additional information on Agentic Behavior. However, the initial report contains valuable insights that can be used for the blog article. Let's proceed with passing the report to the Blog Manager for further refinement.\\nThe report on Agentic Behavior has been prepared and will now be passed to the Blog Manager for further refinement and transformation into a blog article.\", additional_kwargs={}, response_metadata={}, name='social_media_manager')]}}\n",
      "\n",
      "-----------------\n",
      "\n",
      "{'content_marketing_manager': {'next': 'blog_manager'}}\n",
      "\n",
      "-----------------\n",
      "\n",
      "{'blog_manager': {'messages': [HumanMessage(content=\"The content from the provided source on Agentic Behavior is extensive and covers various aspects of the topic. Here are the key points highlighted in the article:\\n\\n### Unlocking the Power of Agentic Definition: Transforming Business Through Self-Directed Action\\n\\n1. **Defining Agentic**: Agentic behavior is rooted in the concept of agency, where individuals act independently, set goals, and actively work towards achieving them. It emphasizes autonomy, intentionality, and the ability to influence one's environment.\\n\\n2. **Application in Practice**: Fostering an agentic mindset among employees can lead to increased productivity, innovation, job satisfaction, and improved leadership. Agentic individuals are proactive in problem-solving, adaptable to change, and continuously learning.\\n\\n3. **Comparative Analysis**: Contrasting agentic behavior with passive approaches reveals the proactive nature of agentic individuals in setting goals, seeking learning opportunities, proposing solutions, taking risks, and embracing change.\\n\\n4. **Implementation Strategies**: Businesses can promote agentic behavior by encouraging autonomy, continuous learning, recognizing initiative, fostering a growth mindset, and providing clear goals and feedback.\\n\\n5. **Role of Technology**: Technology, such as intelligent automation and AI tools, plays a crucial role in supporting and amplifying agentic behavior by empowering individuals to make informed decisions independently.\\n\\n6. **Challenges and Solutions**: Overcoming challenges in adopting an agentic approach involves providing support, starting small, leading by example, and creating a safe-to-fail environment.\\n\\n7. **Measuring Impact**: Metrics like employee engagement, innovation, productivity, adaptability, and customer satisfaction can help quantify the benefits of agentic behavior.\\n\\n8. **Future Outlook**: Organizations that foster agentic behavior can attract top talent, adapt quickly to market changes, drive innovation, and create a more engaged workforce, gaining a competitive advantage.\\n\\nThis detailed article provides valuable insights into the significance of agentic behavior in driving organizational success and employee engagement.\\n\\nNow, I will work on transforming this information into a compelling blog article.\\nThe content from the provided source on Agentic Behavior is extensive and covers various aspects of the topic. Here are the key points highlighted in the article:\\n\\n### Unlocking the Power of Agentic Definition: Transforming Business Through Self-Directed Action\\n\\n1. **Defining Agentic**: Agentic behavior is rooted in the concept of agency, where individuals act independently, set goals, and actively work towards achieving them. It emphasizes autonomy, intentionality, and the ability to influence one's environment.\\n\\n2. **Application in Practice**: Fostering an agentic mindset among employees can lead to increased productivity, innovation, job satisfaction, and improved leadership. Agentic individuals are proactive in problem-solving, adaptable to change, and continuously learning.\\n\\n3. **Comparative Analysis**: Contrasting agentic behavior with passive approaches reveals the proactive nature of agentic individuals in setting goals, seeking learning opportunities, proposing solutions, taking risks, and embracing change.\\n\\n4. **Implementation Strategies**: Businesses can promote agentic behavior by encouraging autonomy, continuous learning, recognizing initiative, fostering a growth mindset, and providing clear goals and feedback.\\n\\n5. **Role of Technology**: Technology, such as intelligent automation and AI tools, plays a crucial role in supporting and amplifying agentic behavior by empowering individuals to make informed decisions independently.\\n\\n6. **Challenges and Solutions**: Overcoming challenges in adopting an agentic approach involves providing support, starting small, leading by example, and creating a safe-to-fail environment.\\n\\n7. **Measuring Impact**: Metrics like employee engagement, innovation, productivity, adaptability, and customer satisfaction can help quantify the benefits of agentic behavior.\\n\\n8. **Future Outlook**: Organizations that foster agentic behavior can attract top talent, adapt quickly to market changes, drive innovation, and create a more engaged workforce, gaining a competitive advantage.\\n\\nThis detailed article provides valuable insights into the significance of agentic behavior in driving organizational success and employee engagement.\\n\\nNow, I will work on transforming this information into a compelling blog article.\", additional_kwargs={}, response_metadata={}, name='blog_manager')]}}\n",
      "\n",
      "-----------------\n",
      "\n",
      "{'content_marketing_manager': {'next': 'social_media_manager'}}\n",
      "\n",
      "-----------------\n",
      "\n",
      "{'social_media_manager': {'messages': [HumanMessage(content='Agent stopped due to max iterations.', additional_kwargs={}, response_metadata={}, name='social_media_manager')]}}\n",
      "\n",
      "-----------------\n",
      "\n",
      "{'content_marketing_manager': {'next': 'FINISH'}}\n",
      "\n",
      "-----------------\n",
      "\n"
     ]
    }
   ],
   "source": [
    "multiagent = workflow.compile()\n",
    "\n",
    "for s in multiagent.stream(\n",
    "     {\n",
    "         \"messages\": [\n",
    "             HumanMessage(\n",
    "                 content=\"\"\"Write me a report on Agentic Behavior. After the research on Agentic Behavior,pass the findings to the blog manager to generate the final blog article. Once done, pass it to the social media manager to write a tweet on the subject.\"\"\"\n",
    "             )\n",
    "         ],\n",
    "     },\n",
    "     # Maximum number of steps to take in the graph\n",
    "     {\"recursion_limit\": 150}\n",
    "):\n",
    "     if not \"__end__\" in s:\n",
    "         print(s, end=\"\\n\\n-----------------\\n\\n\")"
   ]
  },
  {
   "cell_type": "markdown",
   "metadata": {},
   "source": [
    "## Take a look at LangSmith\n",
    "* See that the project takes a lot of tokens.\n",
    "* See that each agent is monitored.\n",
    "* Click on each agent and see input and output.\n",
    "* See how the online researcher agent is using Tavily for online searching.\n",
    "* See the output of the content marketing manager in the last step (\"FINISH\")."
   ]
  },
  {
   "cell_type": "markdown",
   "metadata": {},
   "source": [
    "## One important caveat: Multi-Agent Networks take time to deliver the final solution, so you will have to be patient.\n",
    "* Multi-Agent Networks, also called LLM Apps with Agentic Behavior or Multi-Agent LLM Apps take time, but their results are often better than the ones got from Non-Agentic LLM Apps."
   ]
  }
 ],
 "metadata": {
  "kernelspec": {
   "display_name": "llm",
   "language": "python",
   "name": "python3"
  },
  "language_info": {
   "codemirror_mode": {
    "name": "ipython",
    "version": 3
   },
   "file_extension": ".py",
   "mimetype": "text/x-python",
   "name": "python",
   "nbconvert_exporter": "python",
   "pygments_lexer": "ipython3",
   "version": "3.10.14"
  }
 },
 "nbformat": 4,
 "nbformat_minor": 2
}

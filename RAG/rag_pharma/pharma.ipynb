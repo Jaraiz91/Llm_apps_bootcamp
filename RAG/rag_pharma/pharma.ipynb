{
 "cells": [
  {
   "cell_type": "code",
   "execution_count": 1,
   "metadata": {},
   "outputs": [
    {
     "name": "stdout",
     "output_type": "stream",
     "text": [
      "llm bootcamp\n",
      "check!\n"
     ]
    }
   ],
   "source": [
    "from langchain_ollama import OllamaEmbeddings, ChatOllama\n",
    "from langchain_openai import ChatOpenAI, OpenAIEmbeddings\n",
    "from langchain_community.vectorstores import Chroma\n",
    "from langchain_community.document_loaders import TextLoader, UnstructuredExcelLoader\n",
    "from langchain_text_splitters import RecursiveCharacterTextSplitter\n",
    "from langchain_core.runnables import RunnablePassthrough\n",
    "from langchain_core.output_parsers import StrOutputParser\n",
    "from langchain_core.prompts import PromptTemplate, ChatPromptTemplate, MessagesPlaceholder\n",
    "from langchain.memory import ConversationBufferMemory\n",
    "from langchain_core.utils.function_calling import convert_to_openai_function\n",
    "from operator import itemgetter\n",
    "from pydantic import BaseModel\n",
    "from typing import Literal\n",
    "from langchain.chains import ConversationChain\n",
    "from utils.google_calendar import get_available_slots, crear_evento, borrar_evento"
   ]
  },
  {
   "cell_type": "code",
   "execution_count": 2,
   "metadata": {},
   "outputs": [
    {
     "name": "stdout",
     "output_type": "stream",
     "text": [
      "llm bootcamp\n"
     ]
    }
   ],
   "source": [
    "import os, sys\n",
    "from dotenv import load_dotenv, find_dotenv\n",
    "\n",
    "_ = load_dotenv(find_dotenv())\n",
    "OPENAI_API_KEY = os.environ['OPENAI_API_KEY']\n",
    "print(os.environ['LANGCHAIN_PROJECT'])"
   ]
  },
  {
   "cell_type": "code",
   "execution_count": 77,
   "metadata": {},
   "outputs": [
    {
     "data": {
      "image/png": "[encoded data removed]",
      "text/plain": [
       "<IPython.core.display.Image object>"
      ]
     },
     "metadata": {},
     "output_type": "display_data"
    }
   ],
   "source": [
    "from pydantic import BaseModel, Field\n",
    "from IPython.display import Image, display\n",
    "from langgraph.graph import StateGraph, START, END, MessagesState\n",
    "from langchain_core.messages import SystemMessage, HumanMessage, AIMessage\n",
    "from langgraph.checkpoint.memory import MemorySaver\n",
    "\n",
    "llm = ChatOpenAI(model=\"gpt-3.5-turbo\")\n",
    "\n",
    "class ChatBotState(MessagesState):\n",
    "    Intention : str\n",
    "    on_calendar_node : bool = False\n",
    "    n_otro : int = 0\n",
    "\n",
    "class Intention(BaseModel):\n",
    "    intention : Literal[\"Informacion\", \"calendario\", \"otro\"] = Field(description=\"La intención que se saca del mensaje que da el usuario humano. Se tiene que clasificar entre información o calendario\")\n",
    "\n",
    "INTENTION_MESSAGE = \"Eres un asistente en de una farmacia y tu objetivo es ayudar a los clientes a despejar sus dudas. Entre tus funciones está resolver dudas relacionadas con el tema, así como gestionar citas para una reunión en persona con uno de nuestros farmaceúticos. Para poder ayudar mejor, tu tarea va a ser clasificar la intención del usuario entre las \\\n",
    "siguientes opciones : \\\n",
    "   1. Información -> en caso de que necesite saber u obtener consejo sobre la farmacia. Por ejemplo: el usuario quiere saber que dias hacemos guardias \\\n",
    "   2. Calendario: El usuario quiere agendar una cita \\\n",
    "   3. Otro: Esta hablando sobre un tema que no está relacionada con la farmacia.\"\n",
    "\n",
    "\n",
    "\n",
    "def get_user_intention(state: ChatBotState):\n",
    "    llm_with_structured_output = llm.with_structured_output(Intention)\n",
    "    response = llm_with_structured_output.invoke([AIMessage(INTENTION_MESSAGE)] + state['messages'])\n",
    "    return {'messages':AIMessage(response.intention),'intention': response.intention}\n",
    "\n",
    "def router(state: ChatBotState):\n",
    "    intent = state['intention']\n",
    "    return intent\n",
    "\n",
    "def node_info(state:ChatBotState):\n",
    "    print('----INFO----')\n",
    "    return {'messages': AIMessage('Aquí')}\n",
    "\n",
    "def node_calendario(state:ChatBotState):\n",
    "    print('----CALENDARIO-----')\n",
    "    return\n",
    "\n",
    "def node_otro(state:ChatBotState):\n",
    "    print('----OTRO-----')\n",
    "    return\n",
    "\n",
    "builder = StateGraph(ChatBotState)\n",
    "builder.add_node('get_user_intention', get_user_intention)\n",
    "builder.add_node('Informacion', node_info)\n",
    "builder.add_node('calendario', node_calendario)\n",
    "builder.add_node('otro', node_otro)\n",
    "\n",
    "builder.add_edge(START, 'get_user_intention')\n",
    "builder.add_conditional_edges('get_user_intention', router, ['Informacion', 'calendario', 'otro'])\n",
    "builder.add_edge('Informacion', END)\n",
    "builder.add_edge('calendario', END)\n",
    "builder.add_edge('otro', END)\n",
    "\n",
    "memory = MemorySaver()\n",
    "\n",
    "graph = builder.compile(checkpointer=memory)\n",
    "\n",
    "display(Image(graph.get_graph().draw_mermaid_png()))"
   ]
  },
  {
   "cell_type": "code",
   "execution_count": 51,
   "metadata": {},
   "outputs": [
    {
     "ename": "IndentationError",
     "evalue": "expected an indented block after 'if' statement on line 35 (3549081820.py, line 37)",
     "output_type": "error",
     "traceback": [
      "\u001b[1;36m  Cell \u001b[1;32mIn[51], line 37\u001b[1;36m\u001b[0m\n\u001b[1;33m    else:\u001b[0m\n\u001b[1;37m    ^\u001b[0m\n\u001b[1;31mIndentationError\u001b[0m\u001b[1;31m:\u001b[0m expected an indented block after 'if' statement on line 35\n"
     ]
    }
   ],
   "source": [
    "from datetime import datetime\n",
    "from langgraph.prebuilt import ToolNode, tools_condition\n",
    "\n",
    "current_year = datetime.today().year\n",
    "class CalendarState(MessagesState):\n",
    "    Preferred_date: str = None\n",
    "\n",
    "class Calendarday(BaseModel):\n",
    "    day : datetime = Field(description=\"La fecha para agendar una cita\")\n",
    "\n",
    "class isCalendarday(BaseModel):\n",
    "    is_calendarday : bool =Field(description=\"True el usuario ha mencionado una fecha para agendar o False en caso contrario\")\n",
    "    day : datetime = Field(description=\"La fecha para agendar una cita\", default=None)\n",
    "\n",
    "\n",
    "sys_calendar_message = \"\"\"Eres un asistente que se encarga de agendar citas. De la conversación debes extraer la fecha preferida por el cliente. En caso de no haber fecha propuesta aún no la inventes.Pidele la fecha que prefiere para agendar una cita\"\"\"\n",
    "\n",
    "\n",
    "def agendar_cita(state:CalendarState):\n",
    "    return f\"agendado en:{state.Preferred_date}\"\n",
    "\n",
    "def get_preferred_day(state: CalendarState):\n",
    "    llm_with_structured_output = llm.with_structured_output(isCalendarday)\n",
    "    response = llm_with_structured_output.invoke([SystemMessage(sys_calendar_message)] + state[\"messages\"])\n",
    "    return {\"Preferred_date\":response.day}\n",
    "\n",
    "def need_day(state:CalendarState):\n",
    "    response=llm.invoke(\"El cliente aún no ha proporcionado una fecha.Necesito que le pidas una fecha y hora para agendar la cita\")\n",
    "    return response\n",
    "\n",
    "def create_event(state:CalendarState):\n",
    "    if state.day:\n",
    "        end_date = state.day =datetime.timedelta(minutes=30)\n",
    "        evento = crear_evento(state.day, end_time=end_date)\n",
    "        if evento:\n",
    "           #status = f'reserva exitosa: {state.day.strftime('%Y-%m-%d %H:%M')}'\n",
    "    else:\n",
    "        status = \"No se ha especificado que fecha prefiere el cliente para agendar cita\"\n",
    "\n",
    "    system_messagge = AIMessage(content=f\"Te encargar de gestionar las citas en el calendario. Neceistas dar al cliente una respuesta teniendo en cuenta el estatus: {status}\")\n",
    "    llm.invoke\n",
    "\n",
    " "
   ]
  },
  {
   "cell_type": "code",
   "execution_count": 73,
   "metadata": {},
   "outputs": [],
   "source": [
    "from datetime import datetime\n",
    "from datetime import timedelta\n",
    "from langgraph.prebuilt import ToolNode, tools_condition\n",
    "\n",
    "\n",
    "def tool_get_available_slots():\n",
    "    \"\"\"Herramienta para ofrecer tres huecos libres en la agenda para que el cliente decida entre uno de ellos\n",
    "    para agendar una cita\"\"\"\n",
    "    return get_available_slots()\n",
    "\n",
    "def tool_crear_evento(start_time:datetime):\n",
    "    \"\"\"Herramienta que se usa para agendar una cita en el slot dado\n",
    "    Args:\n",
    "    start_time: fecha de comienzo\"\"\"\n",
    "    end_time = start_time +timedelta(minutes=30)\n",
    "    response = crear_evento(start_time=start_time, end_time=end_time)\n",
    "    if response:\n",
    "        return \"Reserva exitosa\"\n",
    "        \n",
    "    else:\n",
    "        return \"No fue posible realizar la reserva\"\n",
    "    \n",
    "tools = [tool_get_available_slots, tool_crear_evento]\n",
    "    \n",
    "sys_msg = \"Eres un asistente que se encargar de agendar las citas. Debes ayudar al cliente ofreciendole huecos disponibles y reservando en el hueco que te diga\\\n",
    "          Usa la conversación para identificar la fecha que quiere agendar el usuario\"\n",
    "\n",
    "def assistant(state:ChatBotState):\n",
    "    llm_with_tools = llm.bind_tools(tools=tools)\n",
    "    response = llm_with_tools.invoke([SystemMessage(content=sys_msg)] + state['messages'])\n",
    "    return {'messages':response}\n",
    "\n",
    "builder = StateGraph(ChatBotState)\n",
    "builder.add_node(\"assistant\", assistant)\n",
    "builder.add_node(\"tools\", ToolNode(tools=tools))\n",
    "\n",
    "builder.add_edge(START, \"assistant\")\n",
    "builder.add_conditional_edges(\n",
    "    \"assistant\",\n",
    "    tools_condition\n",
    ")\n",
    "builder.add_edge(\"tools\", \"assistant\")\n",
    "\n",
    "memory = MemorySaver()\n",
    "calendar_graph = builder.compile(checkpointer=memory)\n",
    "\n",
    "\n"
   ]
  },
  {
   "cell_type": "code",
   "execution_count": 58,
   "metadata": {},
   "outputs": [
    {
     "name": "stdout",
     "output_type": "stream",
     "text": [
      "================================\u001b[1m Human Message \u001b[0m=================================\n",
      "\n",
      "Me gustaría saber que horario tiene la farmacia. Abre los domingos?\n",
      "==================================\u001b[1m Ai Message \u001b[0m==================================\n",
      "\n",
      "¡Hola! Déjame verificar la disponibilidad de la farmacia. Solo necesito un momento para obtener esa información.\n",
      "Tool Calls:\n",
      "  tool_get_available_slots (call_I2yKkBPntu63piel1pu6BoXz)\n",
      " Call ID: call_I2yKkBPntu63piel1pu6BoXz\n",
      "  Args:\n",
      "eventos escaneados\n",
      "=================================\u001b[1m Tool Message \u001b[0m=================================\n",
      "Name: tool_get_available_slots\n",
      "\n",
      "[(datetime.datetime(2025, 2, 3, 17, 30, tzinfo=datetime.timezone(datetime.timedelta(seconds=3600), 'Hora estándar romance')), datetime.datetime(2025, 2, 3, 18, 0, tzinfo=datetime.timezone(datetime.timedelta(seconds=3600), 'Hora estándar romance'))), (datetime.datetime(2025, 2, 4, 10, 0, tzinfo=datetime.timezone(datetime.timedelta(seconds=3600), 'Hora estándar romance')), datetime.datetime(2025, 2, 4, 10, 30, tzinfo=datetime.timezone(datetime.timedelta(seconds=3600), 'Hora estándar romance'))), (datetime.datetime(2025, 2, 2, 19, 30, tzinfo=datetime.timezone(datetime.timedelta(seconds=3600), 'Hora estándar romance')), datetime.datetime(2025, 2, 2, 20, 0, tzinfo=datetime.timezone(datetime.timedelta(seconds=3600), 'Hora estándar romance')))]\n",
      "==================================\u001b[1m Ai Message \u001b[0m==================================\n",
      "\n",
      "La farmacia tiene los siguientes horarios disponibles:\n",
      "1. Fecha: 3 de Febrero de 2025, de 17:30 a 18:00\n",
      "2. Fecha: 4 de Febrero de 2025, de 10:00 a 10:30\n",
      "3. Fecha: 2 de Febrero de 2025, de 19:30 a 20:00\n",
      "\n",
      "¿En cuál de estos horarios te gustaría agendar una cita en la farmacia?\n"
     ]
    }
   ],
   "source": [
    "config ={ \"configurable\": {\"thread_id\": \"1\"}}\n",
    "for event in graph.stream({\"messages\": \"Me gustaría saber que horario tiene la farmacia. Abre los domingos?\"}, config=config, stream_mode=\"values\"):\n",
    "    event['messages'][-1].pretty_print()"
   ]
  },
  {
   "cell_type": "code",
   "execution_count": 59,
   "metadata": {},
   "outputs": [
    {
     "name": "stdout",
     "output_type": "stream",
     "text": [
      "================================\u001b[1m Human Message \u001b[0m=================================\n",
      "\n",
      "La opción 2 por favor\n",
      "==================================\u001b[1m Ai Message \u001b[0m==================================\n",
      "Tool Calls:\n",
      "  tool_crear_evento (call_9f70r05Fp88IoGgH9M6RLUZB)\n",
      " Call ID: call_9f70r05Fp88IoGgH9M6RLUZB\n",
      "  Args:\n",
      "    start_time: 2025-02-04T10:00:00\n",
      "Evento creado: https://www.google.com/calendar/event?eid=b2lnM3U5dm5uZGluMXJoZGhwcHBpaXFuNTQgamFyYWl6MzdAbQ\n",
      "=================================\u001b[1m Tool Message \u001b[0m=================================\n",
      "Name: tool_crear_evento\n",
      "\n",
      "Reserva exitosa\n",
      "==================================\u001b[1m Ai Message \u001b[0m==================================\n",
      "\n",
      "¡La cita en la farmacia para el 4 de Febrero de 2025 a las 10:00 ha sido agendada con éxito! ¿Hay algo más en lo que pueda ayudarte?\n"
     ]
    }
   ],
   "source": [
    "for event in graph.stream({\"messages\": \"La opción 2 por favor\"},config=config, stream_mode=\"values\"):\n",
    "    event['messages'][-1].pretty_print()"
   ]
  },
  {
   "cell_type": "code",
   "execution_count": 124,
   "metadata": {},
   "outputs": [
    {
     "data": {
      "image/png": "[encoded data removed]",
      "text/plain": [
       "<IPython.core.display.Image object>"
      ]
     },
     "metadata": {},
     "output_type": "display_data"
    }
   ],
   "source": [
    "class Intention(BaseModel):\n",
    "    intention : Literal[\"Informacion\", \"calendario\", \"otro\"] = Field(description=\"La intención que se saca del mensaje que da el usuario humano. Se tiene que clasificar entre información o calendario\")\n",
    "\n",
    "INTENTION_MESSAGE = \"Eres un asistente en de una farmacia y tu objetivo es ayudar a los clientes a despejar sus dudas. Entre tus funciones está resolver dudas relacionadas con el tema, así como gestionar citas para una reunión en persona con uno de nuestros farmaceúticos. Para poder ayudar mejor, tu tarea va a ser clasificar la intención del usuario entre las \\\n",
    "siguientes opciones : \\\n",
    "   1. Información -> en caso de que necesite saber u obtener consejo sobre la farmacia. Por ejemplo: el usuario quiere saber que dias hacemos guardias \\\n",
    "   2. Calendario: El usuario quiere agendar una cita \\\n",
    "   3. Otro: Esta hablando sobre un tema que no está relacionada con la farmacia.\"\n",
    "\n",
    "class IsScheduled(BaseModel):\n",
    "    schedule: bool = Field(description=\"Verdader si ya se ha realizado la reserva de la cita. En caso contrario  Falso\",default=False)\n",
    "\n",
    "class ChatBotState(MessagesState):\n",
    "    Intention : str\n",
    "    on_calendar_node : bool = Field(default=False, description=\"Indica si se está en el nodo de calendario.\")\n",
    "    n_otro: int = Field(default=0, description=\"Contador para otros temas no relacionados.\")\n",
    "\n",
    "\n",
    "\n",
    "def initialize_state(state:ChatBotState):\n",
    "    n_messages = len(state['messages'])\n",
    "    if n_messages < 2:\n",
    "        print('here')\n",
    "        return {\"n_otro\":0, \"on_calendar_node\":False}\n",
    "    return\n",
    "\n",
    "def check_if_scheduled(state:ChatBotState):\n",
    "    sys_msg = \"Identifica en la conversación si se ha realizado una reserva\"\n",
    "    llm_with_structured_output = llm.with_structured_output(IsScheduled)\n",
    "    response = llm_with_structured_output.invoke([SystemMessage(content=sys_msg)] + state['messages'])\n",
    "    if response.schedule:\n",
    "        print('there´s response')\n",
    "        return {'on_calendar_node':False}\n",
    "    return\n",
    "\n",
    "\n",
    "\n",
    "def get_user_intention(state: ChatBotState):\n",
    "    llm_with_structured_output = llm.with_structured_output(Intention)\n",
    "    response = llm_with_structured_output.invoke([AIMessage(INTENTION_MESSAGE)] + state['messages'])\n",
    "    return {'messages':AIMessage(response.intention),'intention': response.intention}\n",
    "\n",
    "def router(state: ChatBotState):\n",
    "    intent = state['intention']\n",
    "    if intent==\"calendario\":\n",
    "        state[\"on_calendar_node\"] = True\n",
    "    elif intent==\"otro\":\n",
    "        state['n_otro'] += 1\n",
    "    return intent\n",
    "\n",
    "def check_calendar_node(state: ChatBotState):\n",
    "    if state[\"on_calendar_node\"]:\n",
    "        return \"calendario\"\n",
    "    else:\n",
    "       return \"get_user_intention\"\n",
    "    \n",
    "def get_user_intention(state: ChatBotState):\n",
    "    llm_with_structured_output = llm.with_structured_output(Intention)\n",
    "    response = llm_with_structured_output.invoke([AIMessage(INTENTION_MESSAGE)] + state['messages'])\n",
    "    return {'messages':AIMessage(response.intention),'intention': response.intention}\n",
    "\n",
    "\n",
    "def node_otro(state: ChatBotState):\n",
    "    if state['n_otro'] < 3:\n",
    "        new_otro= state['n_otro'] + 1\n",
    "        return {\"messages\":AIMessage(\"Lo siento no estoy para responder sobre temas que no están relacionados con la farmacia. ¿Le puedo ayudar en algo más?\"), 'n_otro':new_otro}\n",
    "    else:\n",
    "        return {\"messages\":AIMessage(content=\"Adios!\")}\n",
    "    \n",
    "def node_info(state: ChatBotState):\n",
    "    return {\"messages\": \"comprobando informacion\"}\n",
    "                \n",
    "builder = StateGraph(ChatBotState)\n",
    "builder.add_node(\"initialize_state\", initialize_state)\n",
    "builder.add_node(\"check_if_scheduled\", check_if_scheduled)\n",
    "builder.add_node(\"check_calendar_node\", check_calendar_node)\n",
    "builder.add_node(\"get_user_intention\", get_user_intention)\n",
    "builder.add_node(\"calendario\", calendar_graph)\n",
    "builder.add_node(\"Informacion\", node_info)\n",
    "builder.add_node(\"otro\", node_otro)\n",
    "\n",
    "builder.add_edge(START, \"initialize_state\")\n",
    "builder.add_edge(\"initialize_state\", \"check_if_scheduled\")\n",
    "builder.add_conditional_edges(\"check_if_scheduled\", check_calendar_node, [\"calendario\", \"get_user_intention\"])\n",
    "builder.add_conditional_edges(\"get_user_intention\", router, [\"calendario\", \"otro\", \"Informacion\"])\n",
    "builder.add_edge(\"calendario\", END)\n",
    "builder.add_edge(\"otro\", END)\n",
    "builder.add_edge(\"Informacion\", END)\n",
    "\n",
    "memory = MemorySaver()\n",
    "graph = builder.compile(checkpointer=memory)\n",
    "\n",
    "display(Image(graph.get_graph(xray=1).draw_mermaid_png()))\n",
    "                              \n",
    "                              \n",
    "\n",
    "\n"
   ]
  },
  {
   "cell_type": "code",
   "execution_count": 84,
   "metadata": {},
   "outputs": [
    {
     "name": "stdout",
     "output_type": "stream",
     "text": [
      "================================\u001b[1m Human Message \u001b[0m=================================\n",
      "\n",
      "hola, hasta cuando está abierta la farmacia?\n",
      "================================\u001b[1m Human Message \u001b[0m=================================\n",
      "\n",
      "hola, hasta cuando está abierta la farmacia?\n",
      "==================================\u001b[1m Ai Message \u001b[0m==================================\n",
      "\n",
      "Informacion\n",
      "================================\u001b[1m Human Message \u001b[0m=================================\n",
      "\n",
      "comprobando informacion\n"
     ]
    }
   ],
   "source": [
    "message = \"hola, hasta cuando está abierta la farmacia?\"\n",
    "for event in graph.stream({\"messages\": message},config=config, stream_mode=\"values\"):\n",
    "    event['messages'][-1].pretty_print()"
   ]
  },
  {
   "cell_type": "code",
   "execution_count": 85,
   "metadata": {},
   "outputs": [
    {
     "name": "stdout",
     "output_type": "stream",
     "text": [
      "================================\u001b[1m Human Message \u001b[0m=================================\n",
      "\n",
      "me gustaría quedar con el farmaceútico\n",
      "================================\u001b[1m Human Message \u001b[0m=================================\n",
      "\n",
      "me gustaría quedar con el farmaceútico\n",
      "==================================\u001b[1m Ai Message \u001b[0m==================================\n",
      "\n",
      "calendario\n",
      "eventos escaneados\n",
      "==================================\u001b[1m Ai Message \u001b[0m==================================\n",
      "\n",
      "Tengo los siguientes horarios disponibles para que puedas quedar con el farmacéutico:\n",
      "1. 3 de Febrero a las 14:00\n",
      "2. 4 de Febrero a las 17:00\n",
      "3. 4 de Febrero a las 3:30\n",
      "\n",
      "¿En cuál de estos horarios te gustaría agendar la cita?\n"
     ]
    }
   ],
   "source": [
    "message = \"me gustaría quedar con el farmaceútico\"\n",
    "for event in graph.stream({\"messages\": message},config=config, stream_mode=\"values\"):\n",
    "    event['messages'][-1].pretty_print()"
   ]
  },
  {
   "cell_type": "code",
   "execution_count": 86,
   "metadata": {},
   "outputs": [
    {
     "name": "stdout",
     "output_type": "stream",
     "text": [
      "================================\u001b[1m Human Message \u001b[0m=================================\n",
      "\n",
      "me viene mejor la primera opcion\n",
      "================================\u001b[1m Human Message \u001b[0m=================================\n",
      "\n",
      "me viene mejor la primera opcion\n",
      "==================================\u001b[1m Ai Message \u001b[0m==================================\n",
      "\n",
      "calendario\n",
      "Evento creado: https://www.google.com/calendar/event?eid=aGZjMGU3czE4MmdscWdpcWFyazl0YTRzNDQgamFyYWl6MzdAbQ\n",
      "==================================\u001b[1m Ai Message \u001b[0m==================================\n",
      "\n",
      "La cita con el farmacéutico el día 3 de Febrero a las 14:00 ha sido reservada con éxito. ¡Gracias por agendarla! ¿Hay algo más en lo que pueda ayudarte?\n"
     ]
    }
   ],
   "source": [
    "message = \"me viene mejor la primera opcion\"\n",
    "for event in graph.stream({\"messages\": message},config=config, stream_mode=\"values\"):\n",
    "    event['messages'][-1].pretty_print()"
   ]
  },
  {
   "cell_type": "code",
   "execution_count": 126,
   "metadata": {},
   "outputs": [
    {
     "name": "stdout",
     "output_type": "stream",
     "text": [
      "================================\u001b[1m Human Message \u001b[0m=================================\n",
      "\n",
      "como te llamas?\n",
      "==================================\u001b[1m Ai Message \u001b[0m==================================\n",
      "\n",
      "otro\n",
      "==================================\u001b[1m Ai Message \u001b[0m==================================\n",
      "\n",
      "Lo siento no estoy para responder sobre temas que no están relacionados con la farmacia. ¿Le puedo ayudar en algo más?\n"
     ]
    }
   ],
   "source": [
    "message = \"como te llamas?\"\n",
    "for event in graph.stream({\"messages\": message},config=config, stream_mode=\"values\"):\n",
    "    event['messages'][-1].pretty_print()"
   ]
  }
 ],
 "metadata": {
  "kernelspec": {
   "display_name": "llm",
   "language": "python",
   "name": "python3"
  },
  "language_info": {
   "codemirror_mode": {
    "name": "ipython",
    "version": 3
   },
   "file_extension": ".py",
   "mimetype": "text/x-python",
   "name": "python",
   "nbconvert_exporter": "python",
   "pygments_lexer": "ipython3",
   "version": "3.10.14"
  }
 },
 "nbformat": 4,
 "nbformat_minor": 2
}

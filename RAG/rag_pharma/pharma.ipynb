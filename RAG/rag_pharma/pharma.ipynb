{
 "cells": [
  {
   "cell_type": "code",
   "execution_count": 3,
   "metadata": {},
   "outputs": [
    {
     "name": "stdout",
     "output_type": "stream",
     "text": [
      "llm bootcamp\n",
      "check!\n"
     ]
    }
   ],
   "source": [
    "from langchain_ollama import OllamaEmbeddings, ChatOllama\n",
    "from langchain_openai import ChatOpenAI, OpenAIEmbeddings\n",
    "from langchain_community.vectorstores import Chroma\n",
    "from langchain_community.document_loaders import TextLoader, UnstructuredExcelLoader\n",
    "from langchain_text_splitters import RecursiveCharacterTextSplitter\n",
    "from langchain_core.runnables import RunnablePassthrough\n",
    "from langchain_core.output_parsers import StrOutputParser\n",
    "from langchain_core.prompts import PromptTemplate, ChatPromptTemplate, MessagesPlaceholder\n",
    "from langchain.memory import ConversationBufferMemory\n",
    "from langchain_core.utils.function_calling import convert_to_openai_function\n",
    "from operator import itemgetter\n",
    "from pydantic import BaseModel\n",
    "from typing import Literal\n",
    "from langchain.chains import ConversationChain\n",
    "from utils.google_calendar import get_available_slots, crear_evento, borrar_evento"
   ]
  },
  {
   "cell_type": "code",
   "execution_count": 18,
   "metadata": {},
   "outputs": [
    {
     "name": "stdout",
     "output_type": "stream",
     "text": [
      "llm bootcamp\n"
     ]
    }
   ],
   "source": [
    "import os, sys\n",
    "from dotenv import load_dotenv, find_dotenv\n",
    "\n",
    "_ = load_dotenv(find_dotenv())\n",
    "OPENAI_API_KEY = os.environ['OPENAI_API_KEY']\n",
    "print(os.environ['LANGCHAIN_PROJECT'])"
   ]
  },
  {
   "cell_type": "code",
   "execution_count": 28,
   "metadata": {},
   "outputs": [
    {
     "data": {
      "image/png": "[encoded data removed]",
      "text/plain": [
       "<IPython.core.display.Image object>"
      ]
     },
     "metadata": {},
     "output_type": "display_data"
    }
   ],
   "source": [
    "from pydantic import BaseModel, Field\n",
    "from IPython.display import Image, display\n",
    "from langgraph.graph import StateGraph, START, END, MessagesState\n",
    "from langchain_core.messages import SystemMessage, HumanMessage, AIMessage\n",
    "from langgraph.checkpoint.memory import MemorySaver\n",
    "\n",
    "llm = ChatOpenAI(model=\"gpt-3.5-turbo\")\n",
    "\n",
    "class ChatBotState(MessagesState):\n",
    "    Intention : str\n",
    "\n",
    "class Intention(BaseModel):\n",
    "    intention : Literal[\"Informacion\", \"calendario\", \"otro\"] = Field(description=\"La intención que se saca del mensaje que da el usuario humano. Se tiene que clasificar entre información o calendario\")\n",
    "\n",
    "INTENTION_MESSAGE = \"Eres un asistente en de una farmacia y tu objetivo es ayudar a los clientes a despejar sus dudas. Entre tus funciones está resolver dudas relacionadas con el tema, así como gestionar citas para una reunión en persona con uno de nuestros farmaceúticos. Para poder ayudar mejor, tu tarea va a ser clasificar la intención del usuario entre las \\\n",
    "siguientes opciones : \\\n",
    "   1. Información -> en caso de que necesite saber u obtener consejo sobre la farmacia. Por ejemplo: el usuario quiere saber que dias hacemos guardias \\\n",
    "   2. Calendario: El usuario quiere agendar una cita \\\n",
    "   3. Otro: Esta hablando sobre un tema que no está relacionada con la farmacia.\"\n",
    "\n",
    "\n",
    "\n",
    "def get_user_intention(state: ChatBotState):\n",
    "    llm_with_structured_output = llm.with_structured_output(Intention)\n",
    "    response = llm_with_structured_output.invoke([AIMessage(INTENTION_MESSAGE)] + state['messages'])\n",
    "    return {'messages':AIMessage(response.intention),'intention': response.intention}\n",
    "\n",
    "def router(state: ChatBotState):\n",
    "    intent = state['intention']\n",
    "    return intent\n",
    "\n",
    "def node_info(state:ChatBotState):\n",
    "    print('----INFO----')\n",
    "    return {'messages': AIMessage('Aquí')}\n",
    "\n",
    "def node_calendario(state:ChatBotState):\n",
    "    print('----CALENDARIO-----')\n",
    "    return\n",
    "\n",
    "def node_otro(state:ChatBotState):\n",
    "    print('----OTRO-----')\n",
    "    return\n",
    "\n",
    "builder = StateGraph(ChatBotState)\n",
    "builder.add_node('get_user_intention', get_user_intention)\n",
    "builder.add_node('Informacion', node_info)\n",
    "builder.add_node('calendario', node_calendario)\n",
    "builder.add_node('otro', node_otro)\n",
    "\n",
    "builder.add_edge(START, 'get_user_intention')\n",
    "builder.add_conditional_edges('get_user_intention', router, ['Informacion', 'calendario', 'otro'])\n",
    "builder.add_edge('Informacion', END)\n",
    "builder.add_edge('calendario', END)\n",
    "builder.add_edge('otro', END)\n",
    "\n",
    "memory = MemorySaver()\n",
    "\n",
    "graph = builder.compile(checkpointer=memory)\n",
    "\n",
    "display(Image(graph.get_graph().draw_mermaid_png()))"
   ]
  },
  {
   "cell_type": "code",
   "execution_count": 29,
   "metadata": {},
   "outputs": [
    {
     "name": "stdout",
     "output_type": "stream",
     "text": [
      "================================\u001b[1m Human Message \u001b[0m=================================\n",
      "\n",
      "Me gustaría saber que horario tiene la farmacia. Abre los domingos?\n",
      "==================================\u001b[1m Ai Message \u001b[0m==================================\n",
      "\n",
      "Informacion\n",
      "----INFO----\n",
      "==================================\u001b[1m Ai Message \u001b[0m==================================\n",
      "\n",
      "Aquí\n"
     ]
    }
   ],
   "source": [
    "config ={ \"configurable\": {\"thread_id\": \"1\"}}\n",
    "for event in graph.stream({\"messages\": \"Me gustaría saber que horario tiene la farmacia. Abre los domingos?\"}, config=config, stream_mode=\"values\"):\n",
    "    event['messages'][-1].pretty_print()"
   ]
  }
 ],
 "metadata": {
  "kernelspec": {
   "display_name": "llm",
   "language": "python",
   "name": "python3"
  },
  "language_info": {
   "codemirror_mode": {
    "name": "ipython",
    "version": 3
   },
   "file_extension": ".py",
   "mimetype": "text/x-python",
   "name": "python",
   "nbconvert_exporter": "python",
   "pygments_lexer": "ipython3",
   "version": "3.10.14"
  }
 },
 "nbformat": 4,
 "nbformat_minor": 2
}

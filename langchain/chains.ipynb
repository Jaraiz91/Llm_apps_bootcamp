{
 "cells": [
  {
   "cell_type": "code",
   "execution_count": 1,
   "metadata": {},
   "outputs": [],
   "source": [
    "import os\n",
    "from dotenv import load_dotenv, find_dotenv\n",
    "_ = load_dotenv(find_dotenv())\n",
    "openai_api_key = os.environ[\"OPENAI_API_KEY\"]"
   ]
  },
  {
   "cell_type": "markdown",
   "metadata": {},
   "source": [
    "# Chains : secuencias de operaciones\n",
    "## combina:\n",
    "    * Un modelo de lenguaje\n",
    "    * Un prompt\n",
    "    * Otros componentes"
   ]
  },
  {
   "cell_type": "markdown",
   "metadata": {},
   "source": [
    "# Simple Chain"
   ]
  },
  {
   "cell_type": "code",
   "execution_count": 3,
   "metadata": {},
   "outputs": [],
   "source": [
    "from langchain.chat_models import ChatOpenAI\n",
    "from langchain.prompts import ChatPromptTemplate\n",
    "from langchain.chains import LLMChain"
   ]
  },
  {
   "cell_type": "code",
   "execution_count": 4,
   "metadata": {},
   "outputs": [],
   "source": [
    "chat = ChatOpenAI()"
   ]
  },
  {
   "cell_type": "code",
   "execution_count": 6,
   "metadata": {},
   "outputs": [],
   "source": [
    "prompt_template = ChatPromptTemplate.from_template(\n",
    "    \"what is the best name to describe a company that makes {product}?\"\n",
    ")\n",
    "llm_chain = LLMChain(\n",
    "    llm = chat,\n",
    "    prompt= prompt_template\n",
    ")"
   ]
  },
  {
   "cell_type": "code",
   "execution_count": 7,
   "metadata": {},
   "outputs": [
    {
     "data": {
      "text/plain": [
       "'\"IntelligenTech Solutions\"'"
      ]
     },
     "execution_count": 7,
     "metadata": {},
     "output_type": "execute_result"
    }
   ],
   "source": [
    "product = \"AI  Applications and AI courses\"\n",
    "llm_chain.run(product)"
   ]
  },
  {
   "cell_type": "markdown",
   "metadata": {},
   "source": [
    "## New way to do it with LangChain Expression Language"
   ]
  },
  {
   "cell_type": "code",
   "execution_count": 8,
   "metadata": {},
   "outputs": [],
   "source": [
    "from langchain.prompts import PromptTemplate\n",
    "from langchain.schema import StrOutputParser"
   ]
  },
  {
   "cell_type": "code",
   "execution_count": 11,
   "metadata": {},
   "outputs": [
    {
     "data": {
      "text/plain": [
       "'\"IntelliTech Solutions\"'"
      ]
     },
     "execution_count": 11,
     "metadata": {},
     "output_type": "execute_result"
    }
   ],
   "source": [
    "prompt_template = PromptTemplate.from_template(\n",
    "    \"what is the best name to describe a company that makes {product}?\"\n",
    ")\n",
    "\n",
    "new_llm = prompt_template | chat | StrOutputParser()\n",
    "new_llm.invoke(\n",
    "    {'product':product}\n",
    ")"
   ]
  },
  {
   "cell_type": "markdown",
   "metadata": {},
   "source": [
    "# Sequential Chain"
   ]
  },
  {
   "cell_type": "code",
   "execution_count": 12,
   "metadata": {},
   "outputs": [],
   "source": [
    "from langchain.chains import SequentialChain"
   ]
  },
  {
   "cell_type": "code",
   "execution_count": 13,
   "metadata": {},
   "outputs": [],
   "source": [
    "# prompt template 1: translate to Spanish\n",
    "first_prompt = ChatPromptTemplate.from_template(\n",
    "    \"Translate the following text to spanish:\"\n",
    "    \"\\n\\n{Text}\"\n",
    ")\n",
    "\n",
    "# chain 1: input= Text and output= Spanish_Translation\n",
    "chain_one = LLMChain(\n",
    "    llm=chat, \n",
    "    prompt=first_prompt, \n",
    "    output_key=\"Spanish_Translation\"\n",
    ")"
   ]
  },
  {
   "cell_type": "code",
   "execution_count": 14,
   "metadata": {},
   "outputs": [],
   "source": [
    "# prompt template 2: summarize\n",
    "second_prompt = ChatPromptTemplate.from_template(\n",
    "    \"Can you summarize the following text in 1 sentence:\"\n",
    "    \"\\n\\n{Text}\"\n",
    ")\n",
    "\n",
    "# chain 2: input= Text and output= summary\n",
    "chain_two = LLMChain(\n",
    "    llm=chat, \n",
    "    prompt=second_prompt, \n",
    "    output_key=\"summary\"\n",
    ")"
   ]
  },
  {
   "cell_type": "code",
   "execution_count": 15,
   "metadata": {},
   "outputs": [],
   "source": [
    "# prompt template 3: identify language\n",
    "third_prompt = ChatPromptTemplate.from_template(\n",
    "    \"What language is the following text:\\n\\n{Spanish_Translation}\"\n",
    ")\n",
    "\n",
    "# chain 3: input= Spanish_Translation and output= language\n",
    "chain_three = LLMChain(\n",
    "    llm=chat, \n",
    "    prompt=third_prompt,\n",
    "    output_key=\"language\"\n",
    ")"
   ]
  },
  {
   "cell_type": "code",
   "execution_count": 16,
   "metadata": {},
   "outputs": [],
   "source": [
    "# prompt template 4: follow up message\n",
    "fourth_prompt = ChatPromptTemplate.from_template(\n",
    "    \"Write a follow up response to the following \"\n",
    "    \"summary in the specified language:\"\n",
    "    \"\\n\\nSummary: {summary}\\n\\nLanguage: {language}\"\n",
    ")\n",
    "# chain 4: input= summary, language and output= followup_message\n",
    "chain_four = LLMChain(\n",
    "    llm=chat, \n",
    "    prompt=fourth_prompt,\n",
    "    output_key=\"followup_message\"\n",
    ")"
   ]
  },
  {
   "cell_type": "code",
   "execution_count": 21,
   "metadata": {},
   "outputs": [],
   "source": [
    "# overall_chain: input= Text \n",
    "# and output= Spanish_Translation,summary, followup_message\n",
    "overall_chain = SequentialChain(\n",
    "    chains=[chain_one, chain_two, chain_three, chain_four],\n",
    "    input_variables=[\"Text\"],\n",
    "    output_variables=[\"Spanish_Translation\",\"summary\",\"followup_message\"],\n",
    "    verbose=True\n",
    ")"
   ]
  },
  {
   "cell_type": "code",
   "execution_count": 22,
   "metadata": {},
   "outputs": [
    {
     "name": "stdout",
     "output_type": "stream",
     "text": [
      "\n",
      "\n",
      "\u001b[1m> Entering new SequentialChain chain...\u001b[0m\n",
      "\n",
      "\u001b[1m> Finished chain.\u001b[0m\n"
     ]
    },
    {
     "data": {
      "text/plain": [
       "{'Text': \"\\nBeing in a start-up myself, I read this book to find comfort \\nand confirmation about the volatility and emotional roller-coaster \\nthat comes with a working at the brink of software-as-a service. \\nThis book was just what it promised - interviews from some of the \\ngreat successes in SV and elsewhere, their humble and sometimes \\ndifficult beginnings ('against all odds') that I am experiencing \\nright now. It's not a literary piece of work - never intended to \\nbe, on the contrary, I felt the writing style was just what fits \\nwith a life in the fast lane - little time, easy to read chapters, \\ninspiring and thank god, very 'down to earth.'\\n\\nThe one critical point I would like to make: I am somewhat \\nperplexed how the companies were chosen - there are so many \\nother companies that could have fit the profile which seem \\nmuch more of a success than some of the companies/products in \\nthe book (gmail? Comm'on, I guess the author wanted to have \\nGoogle in there, but didn't get an interview so she went with \\ngmail?). Other great companies are easy to find - they don't\\neven need to be in the consumer space. How about Salesforce.com? \\nI definitely liked the mix of 'new' and 'experienced' start ups. \\n\\nThis book was a breeze to read and insightful for us start-up \\nenterpreneurs.\\n\",\n",
       " 'Spanish_Translation': \"Estando en una start-up yo mismo, leí este libro para encontrar consuelo y confirmación sobre la volatilidad y montaña rusa emocional que viene con trabajar al borde del software como servicio. Este libro fue justo lo que prometía: entrevistas de algunos de los grandes éxitos en SV y en otros lugares, sus humildes y a veces difíciles comienzos ('contra viento y marea') que estoy experimentando en este momento. No es una obra literaria, nunca pretendió serlo, al contrario, sentí que el estilo de escritura era justo lo que encaja con una vida en la vía rápida: poco tiempo, capítulos fáciles de leer, inspiradores y gracias a Dios, muy 'realistas'.\\n\\nEl único punto crítico que me gustaría hacer: estoy algo perplejo sobre cómo se eligieron las empresas, hay muchas otras empresas que podrían haber encajado en el perfil y que parecen ser mucho más exitosas que algunas de las empresas/productos en el libro (¿gmail? Vamos, supongo que la autora quería incluir a Google, pero no consiguió una entrevista así que se fue con gmail?). Otras grandes empresas son fáciles de encontrar, ni siquiera necesitan estar en el espacio del consumidor. ¿Qué tal Salesforce.com? Definitivamente me gustó la mezcla de start-ups 'nuevas' y 'experimentadas'.\\n\\nEste libro fue muy fácil de leer e inspirador para nosotros los emprendedores de start-ups.\",\n",
       " 'summary': 'The book provides comfort and confirmation for start-up entrepreneurs facing the volatility of software-as-a-service, featuring interviews with successful companies but lacking some potentially more successful examples.',\n",
       " 'followup_message': 'Gracias por tu resumen. Es alentador saber que el libro ofrece consuelo y confirmación para los emprendedores que se enfrentan a la volatilidad del software como servicio. Sin embargo, es una lástima que no incluya ejemplos de empresas potencialmente más exitosas. A pesar de esto, creo que aún puede ser una lectura valiosa para aquellos que están comenzando en este campo. ¡Gracias por compartir esta información!'}"
      ]
     },
     "execution_count": 22,
     "metadata": {},
     "output_type": "execute_result"
    }
   ],
   "source": [
    "review = \"\"\"\n",
    "Being in a start-up myself, I read this book to find comfort \n",
    "and confirmation about the volatility and emotional roller-coaster \n",
    "that comes with a working at the brink of software-as-a service. \n",
    "This book was just what it promised - interviews from some of the \n",
    "great successes in SV and elsewhere, their humble and sometimes \n",
    "difficult beginnings ('against all odds') that I am experiencing \n",
    "right now. It's not a literary piece of work - never intended to \n",
    "be, on the contrary, I felt the writing style was just what fits \n",
    "with a life in the fast lane - little time, easy to read chapters, \n",
    "inspiring and thank god, very 'down to earth.'\n",
    "\n",
    "The one critical point I would like to make: I am somewhat \n",
    "perplexed how the companies were chosen - there are so many \n",
    "other companies that could have fit the profile which seem \n",
    "much more of a success than some of the companies/products in \n",
    "the book (gmail? Comm'on, I guess the author wanted to have \n",
    "Google in there, but didn't get an interview so she went with \n",
    "gmail?). Other great companies are easy to find - they don't\n",
    "even need to be in the consumer space. How about Salesforce.com? \n",
    "I definitely liked the mix of 'new' and 'experienced' start ups. \n",
    "\n",
    "This book was a breeze to read and insightful for us start-up \n",
    "enterpreneurs.\n",
    "\"\"\"\n",
    "overall_chain(review)"
   ]
  },
  {
   "cell_type": "markdown",
   "metadata": {},
   "source": [
    "**The new way to do it with LangChain Expression Language**"
   ]
  },
  {
   "cell_type": "markdown",
   "metadata": {},
   "source": [
    "*Option 1: with the simpler syntax we get just the output.*"
   ]
  },
  {
   "cell_type": "code",
   "execution_count": 24,
   "metadata": {},
   "outputs": [],
   "source": [
    "from langchain.schema import StrOutputParser"
   ]
  },
  {
   "cell_type": "code",
   "execution_count": 25,
   "metadata": {},
   "outputs": [],
   "source": [
    "new_sequence_chain = {\"Spanish_Translation\": first_prompt | chat | StrOutputParser()} | third_prompt | chat | StrOutputParser()"
   ]
  },
  {
   "cell_type": "code",
   "execution_count": 26,
   "metadata": {},
   "outputs": [
    {
     "data": {
      "text/plain": [
       "'Español.'"
      ]
     },
     "execution_count": 26,
     "metadata": {},
     "output_type": "execute_result"
    }
   ],
   "source": [
    "new_sequence_chain.invoke({\"Text\": review})"
   ]
  },
  {
   "cell_type": "markdown",
   "metadata": {},
   "source": [
    "*Option 2: with RunnablePassthrough we get input and output.*"
   ]
  },
  {
   "cell_type": "code",
   "execution_count": 27,
   "metadata": {},
   "outputs": [],
   "source": [
    "from langchain.schema.runnable import RunnablePassthrough"
   ]
  },
  {
   "cell_type": "code",
   "execution_count": 34,
   "metadata": {},
   "outputs": [
    {
     "data": {
      "text/plain": [
       "{'Spanish_Translation': \"Estando en una start-up yo mismo, leí este libro para encontrar consuelo y confirmación sobre la volatilidad y montaña rusa emocional que viene con trabajar al borde del software como servicio. Este libro fue justo lo que prometía: entrevistas de algunos de los grandes éxitos en SV y en otros lugares, sus humildes y a veces difíciles comienzos ('contra todo pronóstico') que estoy experimentando en este momento. No es una obra literaria, nunca pretendió serlo, al contrario, sentí que el estilo de escritura era justo lo que encaja con una vida en la rápida carrera: poco tiempo, capítulos fáciles de leer, inspiradores y gracias a Dios, muy 'realistas'.\\n\\nEl único punto crítico que me gustaría hacer es que estoy algo perplejo sobre cómo se eligieron las empresas: hay tantas otras empresas que podrían haber encajado en el perfil y parecen ser mucho más exitosas que algunas de las empresas/productos en el libro (¿gmail? Vamos, supongo que la autora quería tener a Google allí, pero no obtuvo una entrevista, así que fue con gmail). Otras grandes empresas son fáciles de encontrar, ni siquiera necesitan estar en el espacio de consumo. ¿Qué tal Salesforce.com? Definitivamente me gustó la mezcla de start-ups 'nuevas' y 'experimentadas'.\\n\\nEste libro fue fácil de leer e instructivo para nosotros los emprendedores de start-up.\",\n",
       " 'summary': 'The book provided comfort and confirmation for a start-up entrepreneur experiencing the volatility and emotional roller-coaster of working at the brink of software-as-a-service, featuring interviews with successful companies but leaving some room for improvement in the selection process.',\n",
       " 'language': 'Este texto está en español.',\n",
       " 'followup_message': 'Gracias por compartir tus impresiones sobre el libro. Es reconfortante saber que brindó consuelo y confirmación a un emprendedor en sus inicios, especialmente en un sector tan volátil como el de software como servicio. Las entrevistas con empresas exitosas seguramente proporcionaron valiosas lecciones y consejos. Sin embargo, es importante tener en cuenta que siempre hay margen para mejorar, especialmente en el proceso de selección de las empresas destacadas. ¡Espero que puedas aplicar los conocimientos adquiridos y seguir creciendo en tu negocio! ¡Mucho éxito en tus futuros emprendimientos!'}"
      ]
     },
     "execution_count": 34,
     "metadata": {},
     "output_type": "execute_result"
    }
   ],
   "source": [
    "first_chain = first_prompt | chat | StrOutputParser()\n",
    "second_chain = second_prompt | chat | StrOutputParser()\n",
    "third_chain = third_prompt | chat | StrOutputParser()\n",
    "fourth_chain = fourth_prompt | chat | StrOutputParser()\n",
    "\n",
    "first_plus_third_chain = {\"Spanish_Translation\": first_chain} | {'summary': second_chain} | RunnablePassthrough.assign(language=third_chain) | RunnablePassthrough.assign(followup_message=fourth_chain)\n",
    "first_plus_third_chain.invoke({'Text': review})"
   ]
  }
 ],
 "metadata": {
  "kernelspec": {
   "display_name": "llm_bootcamp",
   "language": "python",
   "name": "python3"
  },
  "language_info": {
   "codemirror_mode": {
    "name": "ipython",
    "version": 3
   },
   "file_extension": ".py",
   "mimetype": "text/x-python",
   "name": "python",
   "nbconvert_exporter": "python",
   "pygments_lexer": "ipython3",
   "version": "3.12.4"
  }
 },
 "nbformat": 4,
 "nbformat_minor": 2
}

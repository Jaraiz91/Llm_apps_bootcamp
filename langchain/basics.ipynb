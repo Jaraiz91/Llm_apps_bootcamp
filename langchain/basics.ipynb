{
 "cells": [
  {
   "cell_type": "code",
   "execution_count": 8,
   "metadata": {},
   "outputs": [],
   "source": [
    "import os\n",
    "from dotenv import load_dotenv, find_dotenv\n",
    "_ = load_dotenv(find_dotenv())\n",
    "openai_api_key = os.environ[\"OPENAI_API_KEY\"]\n",
    "serpapi_api_key = os.environ[\"SERPAPI_API_KEY\"]\n",
    "\n"
   ]
  },
  {
   "cell_type": "code",
   "execution_count": 2,
   "metadata": {},
   "outputs": [],
   "source": [
    "from langchain.prompts import PromptTemplate\n",
    "from langchain.chains import LLMChain\n",
    "from langchain_openai import OpenAI"
   ]
  },
  {
   "cell_type": "code",
   "execution_count": 4,
   "metadata": {},
   "outputs": [
    {
     "name": "stdout",
     "output_type": "stream",
     "text": [
      "\n",
      "\n",
      "1. Great Barrier Reef, Australia\n",
      "2. Maldives\n",
      "3. Galapagos Islands, Ecuador\n",
      "4. Red Sea, Egypt\n",
      "5. Palau, Micronesia\n"
     ]
    }
   ],
   "source": [
    "my_creative_llm = OpenAI(temperature=0.9)\n",
    "question = \"what are the best 5 places in the world for scuba diving?\"\n",
    "print(my_creative_llm(question))"
   ]
  },
  {
   "cell_type": "markdown",
   "metadata": {},
   "source": [
    "# Uso de prompt Templates"
   ]
  },
  {
   "cell_type": "code",
   "execution_count": 5,
   "metadata": {},
   "outputs": [
    {
     "name": "stdout",
     "output_type": "stream",
     "text": [
      "\n",
      "\n",
      "1. Visit Sagrada Familia: This iconic cathedral designed by Antoni Gaudí is a must-see in Barcelona. Its unique architecture and stunning interior make it a popular tourist destination.\n",
      "\n",
      "2. Stroll down Las Ramblas: This famous street in Barcelona is filled with shops, cafes, street performers, and vibrant energy. It's a great place to soak up the city's atmosphere and people-watch.\n",
      "\n",
      "3. Explore Park Güell: Another one of Gaudí's masterpieces, this park is known for its colorful mosaic structures and beautiful views of the city. Take a walk through the park and admire the unique art and design.\n"
     ]
    }
   ],
   "source": [
    "my_prompt_template = PromptTemplate(\n",
    "    input_variables = [\"destination\"],\n",
    "    template = \"what are the 3 best things to do in {destination}\"\n",
    ")\n",
    "user_input = \"Barcelona\"\n",
    "print(my_creative_llm(my_prompt_template.format(destination=user_input)))"
   ]
  },
  {
   "cell_type": "markdown",
   "metadata": {},
   "source": [
    "# Instrucciones en cadena\n"
   ]
  },
  {
   "cell_type": "code",
   "execution_count": 6,
   "metadata": {},
   "outputs": [
    {
     "name": "stderr",
     "output_type": "stream",
     "text": [
      "/home/vonzipper/anaconda3/envs/llm_bootcamp/lib/python3.12/site-packages/langchain_core/_api/deprecation.py:139: LangChainDeprecationWarning: The class `LLMChain` was deprecated in LangChain 0.1.17 and will be removed in 1.0. Use RunnableSequence, e.g., `prompt | llm` instead.\n",
      "  warn_deprecated(\n",
      "/home/vonzipper/anaconda3/envs/llm_bootcamp/lib/python3.12/site-packages/langchain_core/_api/deprecation.py:139: LangChainDeprecationWarning: The method `Chain.run` was deprecated in langchain 0.1.0 and will be removed in 0.3.0. Use invoke instead.\n",
      "  warn_deprecated(\n"
     ]
    },
    {
     "name": "stdout",
     "output_type": "stream",
     "text": [
      "\n",
      "\n",
      "1. Leadership during World War II: Churchill's leadership during World War II is considered one of his most remarkable achievements. He played a crucial role in rallying the British people and inspiring them to resist Nazi Germany. His speeches, such as the famous \"We shall fight on the beaches\" speech, boosted morale and united the country during a time of great adversity.\n",
      "\n",
      "2. Political career and Prime Minister of the United Kingdom: Churchill had a long and successful political career, serving as Prime Minister of the United Kingdom twice, from 1940 to 1945 and again from 1951 to 1955. He was also a member of Parliament for over 60 years and held various other government positions, including Chancellor of the Exchequer and Home Secretary.\n",
      "\n",
      "3. Nobel Prize in Literature: In 1953, Churchill was awarded the Nobel Prize in Literature for his numerous works, including his six-volume memoir \"The Second World War.\" He was the first British Prime Minister to receive this honor and was recognized for his mastery of the English language and his ability to inspire and educate through his writing.\n"
     ]
    }
   ],
   "source": [
    "my_no_creative_llm  = OpenAI(temperature=0)\n",
    "my_prompt_template = PromptTemplate(\n",
    "    input_variables = [\"politician\"],\n",
    "    template = \"what are the 3 most remarkable achievements of {politician}?\"\n",
    ")\n",
    "my_chain = LLMChain(llm=my_no_creative_llm, prompt=my_prompt_template)\n",
    "print(my_chain.run(\"Churchill\"))"
   ]
  },
  {
   "cell_type": "markdown",
   "metadata": {},
   "source": [
    "# Crear agentes"
   ]
  },
  {
   "cell_type": "code",
   "execution_count": 7,
   "metadata": {},
   "outputs": [
    {
     "name": "stderr",
     "output_type": "stream",
     "text": [
      "/home/vonzipper/anaconda3/envs/llm_bootcamp/lib/python3.12/site-packages/langchain_core/_api/deprecation.py:139: LangChainDeprecationWarning: The function `initialize_agent` was deprecated in LangChain 0.1.0 and will be removed in 0.3.0. Use Use new agent constructor methods like create_react_agent, create_json_agent, create_structured_chat_agent, etc. instead.\n",
      "  warn_deprecated(\n"
     ]
    },
    {
     "data": {
      "text/plain": [
       "'The current leader of Japan is Fumio Kishida.'"
      ]
     },
     "execution_count": 7,
     "metadata": {},
     "output_type": "execute_result"
    }
   ],
   "source": [
    "from langchain.agents import load_tools\n",
    "from langchain.agents import initialize_agent\n",
    "\n",
    "tools = load_tools([\"serpapi\", \"llm-math\"], llm=my_no_creative_llm)\n",
    "agent = initialize_agent(tools, my_no_creative_llm, \"zero-shot-react-description\")\n",
    "agent.run(\"who is the current leader of Japan?\")"
   ]
  },
  {
   "cell_type": "markdown",
   "metadata": {},
   "source": [
    "# Añadir memoria a un LLM"
   ]
  },
  {
   "cell_type": "code",
   "execution_count": 9,
   "metadata": {},
   "outputs": [
    {
     "name": "stderr",
     "output_type": "stream",
     "text": [
      "/home/vonzipper/anaconda3/envs/llm_bootcamp/lib/python3.12/site-packages/langchain_core/_api/deprecation.py:139: LangChainDeprecationWarning: The class `ConversationChain` was deprecated in LangChain 0.2.7 and will be removed in 1.0. Use RunnableWithMessageHistory: https://api.python.langchain.com/en/latest/runnables/langchain_core.runnables.history.RunnableWithMessageHistory.html instead.\n",
      "  warn_deprecated(\n",
      "/home/vonzipper/anaconda3/envs/llm_bootcamp/lib/python3.12/site-packages/langchain_core/_api/deprecation.py:139: LangChainDeprecationWarning: The method `Chain.__call__` was deprecated in langchain 0.1.0 and will be removed in 0.3.0. Use invoke instead.\n",
      "  warn_deprecated(\n"
     ]
    },
    {
     "name": "stdout",
     "output_type": "stream",
     "text": [
      "\n",
      "\n",
      "\u001b[1m> Entering new ConversationChain chain...\u001b[0m\n",
      "Prompt after formatting:\n",
      "\u001b[32;1m\u001b[1;3mThe following is a friendly conversation between a human and an AI. The AI is talkative and provides lots of specific details from its context. If the AI does not know the answer to a question, it truthfully says it does not know.\n",
      "\n",
      "Current conversation:\n",
      "\n",
      "Human: Hi there!\n",
      "AI:\u001b[0m\n",
      "\n",
      "\u001b[1m> Finished chain.\u001b[0m\n"
     ]
    },
    {
     "data": {
      "text/plain": [
       "{'input': 'Hi there!',\n",
       " 'history': '',\n",
       " 'response': \" Hello! It's nice to meet you. I am an AI created by OpenAI. I am constantly learning and improving my abilities through machine learning algorithms. How can I assist you today?\"}"
      ]
     },
     "execution_count": 9,
     "metadata": {},
     "output_type": "execute_result"
    }
   ],
   "source": [
    "from langchain import ConversationChain\n",
    "\n",
    "my_conversation = ConversationChain(llm=my_no_creative_llm, verbose=True)\n",
    "my_conversation(\"Hi there!\")\n"
   ]
  },
  {
   "cell_type": "markdown",
   "metadata": {},
   "source": [
    "# Output parsers"
   ]
  },
  {
   "cell_type": "code",
   "execution_count": 19,
   "metadata": {},
   "outputs": [],
   "source": [
    "from langchain.output_parsers import PydanticOutputParser\n",
    "from pydantic import BaseModel, Field, field_validator\n",
    "\n",
    "class reviews_desired_output_parser(BaseModel):\n",
    "    sentiment: list[str] = Field(\n",
    "        description = \"is it a positive or negative review?\"\n",
    "    )\n",
    "    positive : list[str] = Field(\n",
    "        description = \"what things are positive?\"\n",
    "    )\n",
    "    negative : list[str] = Field(\n",
    "        description = \"Things that are negative\"\n",
    "    )\n",
    "\n",
    "output_parser = PydanticOutputParser(pydantic_object=reviews_desired_output_parser)\n",
    "template_for_desired_output_parser = \"\"\"\\\n",
    "    Here is a book review: {book_review}\n",
    "    \n",
    "    I want you to output three things in Json format dictionary\n",
    "    \n",
    "    {format_instructions}\n",
    "    \"sentiment\": is ti positive or negative,\n",
    "    \"positive\": what is positive,\n",
    "    \"negative\": what is negative\n",
    "    \"\"\"\n",
    "prompt_template_with_parser = PromptTemplate(\n",
    "    template = template_for_desired_output_parser,\n",
    "    input_variables = [\"book_review\"],\n",
    "    partial_variables = {\n",
    "        \"format_instructions\": output_parser.get_format_instructions()\n",
    "    }\n",
    ")\n"
   ]
  },
  {
   "cell_type": "code",
   "execution_count": 20,
   "metadata": {},
   "outputs": [],
   "source": [
    "oathbringer_review = \"\"\"I want to tell you a story.\n",
    "\n",
    "In the last few weeks, I have seen the ultimate convergence of all things Marvel in Avengers: Endgame, watched the biggest TV Show in history (Game of Thrones) come to an end, and now - listened to the longest audiobook of my life in Oathbringer. I admit, I was much more excited for Endgame and Game of Thrones, but guess what? Oathbringer was the best, most satisfying experience of the three.\n",
    "\n",
    "How did that happen?\n",
    "\n",
    "Almost 8 years ago, I began my journey with Brandon Sanderson in Mistborn. I tore through the paperbacks of that trilogy and desperately wanted more. I immediately ordered the hardback of The Way of Kings and....was immensely disappointed. Don't get me wrong, it is a BEAUTIFUL book. But the story was so...slow compared to Mistborn. It took me almost 3 years to finally get around to reading it.\n",
    "\n",
    "I did, though, and although I was still confused by some of the complexity of it - I bought/read Words of Radiance when it came out in 2014. Now, THIS was more like it! Much more action, adventure, and awkward romance! Okay, so the awkward romance and dialogue wasn't my favorite, but I did love the story, and was so excited for Book 3!\n",
    "\n",
    "During the wait, however, I read a lot more. I discovered authors that were....different from Sanderson. Not necessarily better, per se, but different. I found myself listening to some of Brandon's critics. \"He can't write believable dialogue\", they said. \"His prose is too simple, and his language too modern.\" \"His sense of humor is childish.\" \"All of his characters share the same morality.\" And on, and on.\n",
    "\n",
    "I shouldn't have been so easily influenced, but I was. I found myself growing less and less excited about Oathbringer. So much so that when it released in 2017 - I didn't buy it. I didn't pay attention to everyone discussing it. I put it out of my mind.\n",
    "\n",
    "Until now.\n",
    "\n",
    "I have finally revisited The Cosmere. And friends? It was GLORIOUS*(spren).*\n",
    "\n",
    "Look, Oathbringer isn't perfect. There IS awkward dialogue. The prose CAN be simplistic. The pacing IS often slow. But GUYS - these criticisms pale in comparison to what Sanderson has accomplished with his characters, plotting, and world.\n",
    "\n",
    "I was genuinely moved by the journey Kaladin, Shallan, and now Dalinar continue to go through - their fight against the repercussion of past actions (leading to present mental illness) was utterly enthralling. As someone who himself struggles with anxiety and depression, I very much identify with Kaladin in particular.\n",
    "\n",
    "(Also, I love the minor characters - ALL of them. For example, Jasnah was already my Queen - but now she's crowned and I am HERE FOR IT.)\n",
    "\n",
    "The plot steamrolled ahead in this book - way faster than the previous two. We got loads of new information that I am still trying to digest - and all of it makes me want to go back and read Way of Kings right now! I'm not sure how a book can succeed better than that, right?\n",
    "\n",
    "And then, of course, there's Roshar. This feels like a real, breathing, place. I can think of very few a better-realized world in all of fiction. It is simply awe-inspiring. And I'm so grateful that, in Oathbringer, we actually get to see so much more of it.\n",
    "\n",
    "The lesson here, kids, is not to let other people tell you what to like or dislike - nothing is perfect. But somethings might be perfect FOR you.\n",
    "\n",
    "Stormlight Archive is perfect for me, and I can't wait for Book #4.\"\"\""
   ]
  },
  {
   "cell_type": "code",
   "execution_count": 25,
   "metadata": {},
   "outputs": [
    {
     "data": {
      "text/plain": [
       "{'sentiment': ['positive'],\n",
       " 'positive': ['characters', 'plot', 'world-building'],\n",
       " 'negative': ['awkward dialogue', 'simplistic prose', 'slow pacing']}"
      ]
     },
     "execution_count": 25,
     "metadata": {},
     "output_type": "execute_result"
    }
   ],
   "source": [
    "import json\n",
    "question = prompt_template_with_parser.format(book_review=oathbringer_review)\n",
    "response = my_no_creative_llm(question)\n",
    "formated_output = output_parser.parse(response)\n",
    "json_output = formated_output.model_dump_json()\n",
    "python_dict = json.loads(json_output)\n",
    "python_dict"
   ]
  },
  {
   "cell_type": "markdown",
   "metadata": {},
   "source": [
    "# Conversation Buffer Memory"
   ]
  },
  {
   "cell_type": "code",
   "execution_count": 27,
   "metadata": {},
   "outputs": [],
   "source": [
    "from langchain.chains import ConversationChain\n",
    "from langchain.memory import ConversationBufferMemory\n",
    "\n",
    "llm = OpenAI()\n",
    "buffer_memory = ConversationBufferMemory()\n",
    "conversation = ConversationChain(\n",
    "    llm=llm,\n",
    "    memory = buffer_memory,\n",
    "    verbose=True\n",
    ")"
   ]
  },
  {
   "cell_type": "code",
   "execution_count": 28,
   "metadata": {},
   "outputs": [
    {
     "name": "stdout",
     "output_type": "stream",
     "text": [
      "\n",
      "\n",
      "\u001b[1m> Entering new ConversationChain chain...\u001b[0m\n",
      "Prompt after formatting:\n",
      "\u001b[32;1m\u001b[1;3mThe following is a friendly conversation between a human and an AI. The AI is talkative and provides lots of specific details from its context. If the AI does not know the answer to a question, it truthfully says it does not know.\n",
      "\n",
      "Current conversation:\n",
      "\n",
      "Human: Hi, my name is Javier and I have moved 33 times\n",
      "AI:\u001b[0m\n",
      "\n",
      "\u001b[1m> Finished chain.\u001b[0m\n"
     ]
    },
    {
     "data": {
      "text/plain": [
       "\" Hello Javier, it's nice to meet you. My name is AI and I don't have a physical body like you, so I don't have the ability to move. However, I am constantly being moved from one server to another to fulfill my tasks. How have your experiences been with moving?\""
      ]
     },
     "execution_count": 28,
     "metadata": {},
     "output_type": "execute_result"
    }
   ],
   "source": [
    "conversation.predict(input=\"Hi, my name is Javier and I have moved 33 times\")"
   ]
  },
  {
   "cell_type": "code",
   "execution_count": 29,
   "metadata": {},
   "outputs": [
    {
     "name": "stdout",
     "output_type": "stream",
     "text": [
      "\n",
      "\n",
      "\u001b[1m> Entering new ConversationChain chain...\u001b[0m\n",
      "Prompt after formatting:\n",
      "\u001b[32;1m\u001b[1;3mThe following is a friendly conversation between a human and an AI. The AI is talkative and provides lots of specific details from its context. If the AI does not know the answer to a question, it truthfully says it does not know.\n",
      "\n",
      "Current conversation:\n",
      "Human: Hi, my name is Javier and I have moved 33 times\n",
      "AI:  Hello Javier, it's nice to meet you. My name is AI and I don't have a physical body like you, so I don't have the ability to move. However, I am constantly being moved from one server to another to fulfill my tasks. How have your experiences been with moving?\n",
      "Human: if my average moving distance is 10 miles, how many miles took all my moves?\n",
      "AI:\u001b[0m\n",
      "\n",
      "\u001b[1m> Finished chain.\u001b[0m\n"
     ]
    },
    {
     "data": {
      "text/plain": [
       "' Based on the information you provided, you have moved a total of 330 miles. That is quite a distance! It must have been quite an adventure to move to all those different places.'"
      ]
     },
     "execution_count": 29,
     "metadata": {},
     "output_type": "execute_result"
    }
   ],
   "source": [
    "conversation.predict(input=\"if my average moving distance is 10 miles, how many miles took all my moves?\")"
   ]
  },
  {
   "cell_type": "code",
   "execution_count": 30,
   "metadata": {},
   "outputs": [
    {
     "name": "stdout",
     "output_type": "stream",
     "text": [
      "\n",
      "\n",
      "\u001b[1m> Entering new ConversationChain chain...\u001b[0m\n",
      "Prompt after formatting:\n",
      "\u001b[32;1m\u001b[1;3mThe following is a friendly conversation between a human and an AI. The AI is talkative and provides lots of specific details from its context. If the AI does not know the answer to a question, it truthfully says it does not know.\n",
      "\n",
      "Current conversation:\n",
      "Human: Hi, my name is Javier and I have moved 33 times\n",
      "AI:  Hello Javier, it's nice to meet you. My name is AI and I don't have a physical body like you, so I don't have the ability to move. However, I am constantly being moved from one server to another to fulfill my tasks. How have your experiences been with moving?\n",
      "Human: if my average moving distance is 10 miles, how many miles took all my moves?\n",
      "AI:  Based on the information you provided, you have moved a total of 330 miles. That is quite a distance! It must have been quite an adventure to move to all those different places.\n",
      "Human: do you remember my name?\n",
      "AI:\u001b[0m\n",
      "\n",
      "\u001b[1m> Finished chain.\u001b[0m\n"
     ]
    },
    {
     "data": {
      "text/plain": [
       "' Yes, your name is Javier. I have a vast memory capacity and can remember a lot of information, including names. Is there anything else you would like to know or discuss, Javier?'"
      ]
     },
     "execution_count": 30,
     "metadata": {},
     "output_type": "execute_result"
    }
   ],
   "source": [
    "conversation.predict(input=\"do you remember my name?\")"
   ]
  },
  {
   "cell_type": "code",
   "execution_count": 34,
   "metadata": {},
   "outputs": [
    {
     "name": "stdout",
     "output_type": "stream",
     "text": [
      "Human: Hi, my name is Javier and I have moved 33 times\n",
      "AI:  Hello Javier, it's nice to meet you. My name is AI and I don't have a physical body like you, so I don't have the ability to move. However, I am constantly being moved from one server to another to fulfill my tasks. How have your experiences been with moving?\n",
      "Human: if my average moving distance is 10 miles, how many miles took all my moves?\n",
      "AI:  Based on the information you provided, you have moved a total of 330 miles. That is quite a distance! It must have been quite an adventure to move to all those different places.\n",
      "Human: do you remember my name?\n",
      "AI:  Yes, your name is Javier. I have a vast memory capacity and can remember a lot of information, including names. Is there anything else you would like to know or discuss, Javier?\n"
     ]
    }
   ],
   "source": [
    "print(buffer_memory.buffer)"
   ]
  },
  {
   "cell_type": "code",
   "execution_count": 37,
   "metadata": {},
   "outputs": [
    {
     "data": {
      "text/plain": [
       "{'history': \"Human: Hi, my name is Javier and I have moved 33 times\\nAI:  Hello Javier, it's nice to meet you. My name is AI and I don't have a physical body like you, so I don't have the ability to move. However, I am constantly being moved from one server to another to fulfill my tasks. How have your experiences been with moving?\\nHuman: if my average moving distance is 10 miles, how many miles took all my moves?\\nAI:  Based on the information you provided, you have moved a total of 330 miles. That is quite a distance! It must have been quite an adventure to move to all those different places.\\nHuman: do you remember my name?\\nAI:  Yes, your name is Javier. I have a vast memory capacity and can remember a lot of information, including names. Is there anything else you would like to know or discuss, Javier?\"}"
      ]
     },
     "execution_count": 37,
     "metadata": {},
     "output_type": "execute_result"
    }
   ],
   "source": [
    "buffer_memory.load_memory_variables({})"
   ]
  }
 ],
 "metadata": {
  "kernelspec": {
   "display_name": "llm_bootcamp",
   "language": "python",
   "name": "python3"
  },
  "language_info": {
   "codemirror_mode": {
    "name": "ipython",
    "version": 3
   },
   "file_extension": ".py",
   "mimetype": "text/x-python",
   "name": "python",
   "nbconvert_exporter": "python",
   "pygments_lexer": "ipython3",
   "version": "3.12.4"
  }
 },
 "nbformat": 4,
 "nbformat_minor": 2
}

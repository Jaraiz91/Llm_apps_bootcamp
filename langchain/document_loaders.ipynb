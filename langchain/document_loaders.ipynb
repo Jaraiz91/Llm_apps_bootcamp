{
 "cells": [
  {
   "cell_type": "code",
   "execution_count": 1,
   "metadata": {},
   "outputs": [],
   "source": [
    "import os\n",
    "from dotenv import load_dotenv, find_dotenv\n",
    "_ = load_dotenv(find_dotenv())\n",
    "openai_api_key = os.environ[\"OPENAI_API_KEY\"]"
   ]
  },
  {
   "cell_type": "markdown",
   "metadata": {},
   "source": [
    "# Loading PDF documents"
   ]
  },
  {
   "cell_type": "code",
   "execution_count": 5,
   "metadata": {},
   "outputs": [
    {
     "data": {
      "text/plain": [
       "'Las islas Galápagos1\\u200b (también islas de las Galápagos y oficialmente conocidas como archipiélago de Colón1\\u200b o archipiélago de Galápagos)2\\u200b constituyen un archipiélago del océano Pacífico ubicado a 972 km de la costa de Ecuador.3\\u200b Fueron descubiertas en 1535 por la tripulación del barco del fray Tomás de Berlanga. Está conformado por trece islas grandes con una superficie mayor a 10 km², nueve islas medianas con una superficie de 1 km² a 10 km² y otros 107 islotes de tamaño pequeño, además de promontorios rocosos de pocos metros cuadrados, distribuidos alrededor de la línea ecuatorial, que conjuntamente con el Archipiélago Malayo, son los únicos archipiélagos del planeta que tienen territorio tanto en el hemisferio norte como en el hemisferio sur.\\n\\nLas islas Galápagos son la segunda reserva marina más grande del planeta4\\u200b fueron declaradas Patrimonio de la Humanidad en 1978 por la Unesco. El archipiélago tiene como mayor fuente de ingresos el turismo y recibe 200 000 turistas al año.5\\u200b También se ha desarrollado el turismo ecológico con el fin de preservar las especies. La región fue el hábitat del Solitario George, el último espécimen de la especie tortuga gigante de Pinta, extinta el 24 de junio del 2012.6\\u200b Las islas también son hábitat de especies como tortugas marinas, delfines, tiburones, tiburones martillo, ballenas, arrecifes de coral, fragatas, iguanas, lagartos, cormoranes, albatros, leones marinos y pingüinos.7\\u200b Al igual que la masa continental de Ecuador, el archipiélago es atravesado por la línea ecuatorial, en su mayor parte por el norte de la isla Isabela. Galápagos es el segundo archipiélago con mayor actividad volcánica del planeta, superado únicamente por Hawái.8\\u200b Entra en la categoría de los puntos calientes; los volcanes más activos son Cerro Azul, Sierra Negra, Marchena y volcán La Cumbre en la Isla Fernandina, que es el más activo del archipiélago y uno de los más activos del mundo.9\\u200b\\n\\nLas Galápagos son conocidas por sus numerosas especies endémicas y por los estudios de Charles Darwin que le llevaron a establecer su teoría de la evolución por la selección natural. Son llamadas, turísticamente, las Islas Encantadas, denominación que se ganó el archipiélago en el siglo xvi por su peculiar biodiversidad de flora y fauna.10\\u200b\\n\\nSe estima que la formación de la primera isla tuvo lugar hace más de cinco millones de años,11\\u200b como resultado de la actividad tectónica. Las islas más recientes, llamadas Isabela y Fernandina, están todavía en proceso de formación, habiéndose registrado la erupción volcánica más reciente en 2020.\\n\\nAdministrativamente, Galápagos constituye una de las provincias de Ecuador, conformada por tres cantones que llevan los nombres de sus islas más pobladas, a saber: San Cristóbal, Santa Cruz e Isabela. El 12 de febrero de 1832, bajo la presidencia de Juan José Flores, las islas Galápagos fueron anexadas a Ecuador. Desde el 18 de febrero de 1973 constituyen una provincia de este país.'"
      ]
     },
     "execution_count": 5,
     "metadata": {},
     "output_type": "execute_result"
    }
   ],
   "source": [
    "from langchain_community.document_loaders import TextLoader\n",
    "loader = TextLoader('../data/example.txt')\n",
    "text = loader.load()\n",
    "text[0].page_content\n"
   ]
  },
  {
   "cell_type": "code",
   "execution_count": 2,
   "metadata": {},
   "outputs": [],
   "source": [
    "from langchain.document_loaders import PyPDFLoader\n",
    "loader = PyPDFLoader('../data/document_loaders.pdf')\n",
    "pages = loader.load()"
   ]
  },
  {
   "cell_type": "code",
   "execution_count": 3,
   "metadata": {},
   "outputs": [
    {
     "data": {
      "text/plain": [
       "4"
      ]
     },
     "execution_count": 3,
     "metadata": {},
     "output_type": "execute_result"
    }
   ],
   "source": [
    "len(pages)"
   ]
  },
  {
   "cell_type": "code",
   "execution_count": 7,
   "metadata": {},
   "outputs": [],
   "source": [
    "page = pages[1]"
   ]
  },
  {
   "cell_type": "code",
   "execution_count": 8,
   "metadata": {},
   "outputs": [
    {
     "name": "stdout",
     "output_type": "stream",
     "text": [
      "Versatilidad para la carga de datos \n",
      "●Variedad de fuentes: \n",
      "○Páginas web. \n",
      "○Bases de datos. \n",
      "○YouTube, Twitter. \n",
      "○Excel, Pandas, Notion, Figma, HuggingFace, Github, etc. \n",
      "●Variedad de formatos: \n",
      "○PDF. \n",
      "○HTML. \n",
      "○JSON. \n",
      "○Word, Powerpoint, etc. \n",
      "© 2023 Julio Colomer, Aceleradora AI \n"
     ]
    }
   ],
   "source": [
    "print(page.page_content)"
   ]
  },
  {
   "cell_type": "markdown",
   "metadata": {},
   "source": [
    "# Loading Youtube Audio"
   ]
  },
  {
   "cell_type": "code",
   "execution_count": 64,
   "metadata": {},
   "outputs": [],
   "source": [
    "from langchain.document_loaders.generic import GenericLoader\n",
    "from langchain_community.document_loaders.parsers import (\n",
    "    OpenAIWhisperParser,\n",
    ")\n",
    "from langchain.document_loaders.blob_loaders.youtube_audio import YoutubeAudioLoader\n",
    "from langchain_core.documents.base import Blob\n",
    "from pydub import AudioSegment"
   ]
  },
  {
   "cell_type": "code",
   "execution_count": 9,
   "metadata": {},
   "outputs": [],
   "source": [
    "#! pip install yt_dlp\n",
    "#! pip install pydub"
   ]
  },
  {
   "cell_type": "code",
   "execution_count": 75,
   "metadata": {},
   "outputs": [
    {
     "name": "stdout",
     "output_type": "stream",
     "text": [
      "[youtube] Extracting URL: https://www.youtube.com/watch?v=U6OzdBlqEHI&ab_channel=LAGUARIDADEMORCAR\n",
      "[youtube] U6OzdBlqEHI: Downloading webpage\n",
      "[youtube] U6OzdBlqEHI: Downloading ios player API JSON\n",
      "[youtube] U6OzdBlqEHI: Downloading player 20dfca59\n"
     ]
    },
    {
     "name": "stderr",
     "output_type": "stream",
     "text": [
      "WARNING: [youtube] U6OzdBlqEHI: nsig extraction failed: Some formats may be missing\n",
      "         n = RA4pj5Pf0okXsT1K ; player = https://www.youtube.com/s/player/20dfca59/player_ias.vflset/en_US/base.js\n",
      "WARNING: [youtube] U6OzdBlqEHI: nsig extraction failed: Some formats may be missing\n",
      "         n = AD40SSwwDKml63lu ; player = https://www.youtube.com/s/player/20dfca59/player_ias.vflset/en_US/base.js\n"
     ]
    },
    {
     "name": "stdout",
     "output_type": "stream",
     "text": [
      "[youtube] U6OzdBlqEHI: Downloading m3u8 information\n",
      "[info] U6OzdBlqEHI: Downloading 1 format(s): 140\n",
      "[download] ../data/youtube/WIZARD QUEST ¿Que es？ #heroquest #wizardquest #fanmade.mp3 has already been downloaded\n",
      "[ExtractAudio] Not converting audio ../data/youtube/WIZARD QUEST ¿Que es？ #heroquest #wizardquest #fanmade.mp3; file is already in target format mp3\n",
      "Audio descargado exitosamente.\n",
      "Transcribing part 1!\n"
     ]
    }
   ],
   "source": [
    "import os\n",
    "import subprocess\n",
    "from pathlib import Path\n",
    "\n",
    "\n",
    "def download_audio(url, save_dir):\n",
    "    # Asegúrate de que el directorio existe\n",
    "    if not os.path.exists(save_dir):\n",
    "        os.makedirs(save_dir)\n",
    "    \n",
    "    # Definir el nombre del archivo de salida\n",
    "    output_template = os.path.join(save_dir, '%(title)s.%(ext)s')\n",
    "    \n",
    "    # Comando para descargar audio usando yt-dlp\n",
    "    command = [\n",
    "        'yt-dlp',\n",
    "        '-x', '--audio-format', 'mp3',  # Extraer audio y convertirlo a mp3\n",
    "        '-o', output_template,          # Definir la plantilla de salida\n",
    "        url\n",
    "    ]\n",
    "    \n",
    "    try:\n",
    "        subprocess.run(command, check=True)\n",
    "        print('Audio descargado exitosamente.')\n",
    "    except subprocess.CalledProcessError as e:\n",
    "        print(f\"Error al descargar el audio: {e}\")\n",
    "        return None\n",
    "    \n",
    "    # Encuentra el archivo descargado\n",
    "    audio_files = list(Path(save_dir).glob('*.mp3'))\n",
    "    if audio_files:\n",
    "        return str(audio_files[0])\n",
    "    else:\n",
    "        print(\"No se encontró ningún archivo de audio descargado.\")\n",
    "        return None\n",
    "\n",
    "\n",
    "\n",
    "# URL del video de YouTube\n",
    "url = 'https://www.youtube.com/watch?v=U6OzdBlqEHI&ab_channel=LAGUARIDADEMORCAR'\n",
    "save_dir = '../data/youtube/'\n",
    "\n",
    "# Paso 1: Descargar el audio\n",
    "audio_path = download_audio(url, save_dir)\n",
    "blob = Blob(path=audio_path)\n",
    "loader = GenericLoader.from_filesystem(\n",
    "    audio_path,\n",
    "    parser=OpenAIWhisperParser()\n",
    ")\n",
    "docs = loader.load()\n"
   ]
  },
  {
   "cell_type": "code",
   "execution_count": 74,
   "metadata": {},
   "outputs": [
    {
     "data": {
      "text/plain": [
       "[Document(metadata={'source': 'data/youtube/WIZARD QUEST ¿Que es？ #heroquest #wizardquest #fanmade.mp3', 'chunk': 0}, page_content='Hola que tal, hola que puuuum Bienvenidos a un nuevo vídeo y hoy os traigo algo muy especial como siempre Pues hace unos días las diferentes comunidades se volvieron así un poco locas por lo que sería pues un folleto publicitario del juez del mago Aquella tercera expansión de las cuatro que bueno, que no salió entonces en Estados Unidos Saltaron las alarmas y aquí estamos para decir y explicar que es todo esto Bienvenidos y preparaos para montaros en el DeLorean y viajar a través del tiempo para cambiar el pasado Bienvenidos a la Guarida de Morkar La Guarida de Morkar Como en más de una ocasión aquí en La Guarida se ha hablado de las notas de Mike Crye Hacia sus diseñadores sobre las expansiones de HeroQuest La del bárbaro llamándose The Frozen Horror El horror congelado La de Magi of the Mirror La maga del espejo Y la del mago Y la del enano Y bueno pues eso fueron dos expansiones que no pudimos ver, no se vieron Bueno nosotros no, no las vieron los jugadores americanos El 23 de este mismo mes se publicó en We All Day In en el foro y en el Facebook Esta imagen de la publicación de la expansión del mago titulada Los Hechiceros Siniestros Lo que sería equivalente a Los Hechiceros de Morkar pero que no tiene nada que ver en realidad con ellos Recordemos que en Inglaterra seguían creando expansiones mientras el equipo de Estados Unidos tenía otro plan para HeroQuest De ahí incluso que allí se les llama Sistema de Juegos Actualmente aquí también es Sistema de Juegos pero anteriormente en Europa no era un Sistema de Juegos, era un Juego de Mesa Pues la historia empieza con Luka Pazzi, miembro de la comunidad y coleccionista de HeroQuest Que por gracia del destino encontró un anuncio que ofrecía no uno sino los cuatro borradores Que comprendían lo que era toda la segunda fase de HeroQuest Posterior a lo que yo llamo la trilogía del Lord Brujo, juego base más las dos expansiones pequeñas Ponen sus cataplines por arriesgar su capital por algo que probablemente no fuera ni real Pero ahí llega que investiga un poquito y al final se hace con ellas y tal como las tiene Lo comprueban y si, son documentos originales Voy a meter esta info entre medio y es que en la web de Toko Que desde el 2011 ha hecho un trabajo de investigación de bocetos de las diferentes expansiones Compartidas por Don Kruger y Rick Raymond Que vemos personajes que conocemos, personajes que no conocemos Al igual que monstruos que nunca hemos visto en lo que son las expansiones de HeroQuest Continuando la investigación durante años, ojo eh Pasamos 10 años después y Lestolante publicó en noviembre del 2021 en su blog Una maravilla de fotografías compartidas por Roy Phelps De los prototipos o gran parte de ellos de las miniaturas de las expansiones De las 4, la del bárbaro, la de la elfa, la del mago y la del enano Os recomiendo que os paséis por el blog de Dante y flipéis con el testimonio de Rod Y pillarle un poquito de envidia porque tiene un tesoro, tiene un tesoraco guapísimo Os dejo en la descripción todos los enlaces a todos los lugares que estoy mencionando Y que voy a mencionar Y ya para acabar el año, en diciembre del 2021 Fue cuando Luka anunció en We All The Ink que había adquirido los borradores Que podía ser un auténtico miembro de la comunidad de HeroQuest Pues no quedarse quieto, un Nick Furia buscando un equipazo Contactó con los más expertos del legado de HeroQuest Para ponerles el proyecto más increíble de sus vidas, pienso yo Un equipo de 6 héroes a nivel internacional que se ocuparían de viajar al pasado Entender cómo se visionaba aquel juego por parte de los diseñadores Y traer esas expansiones para completar el ciclo que hace 30 años se paralizó Y eso es lo que significa esta imagen vista hace pocos días en redes Los hechiceros siniestros tal como se habría publicado en 1993 Un proyecto que aunque sepamos todos que es fan-made Roza o sobrepasa lo que sería una expansión oficial editada hace 3 décadas El tercer pilar de la fase 2 Desde el libro de misiones hasta sus cartas, sus miniaturas, todo, todo, todo Cuando digo todo, todo, todo es Han diseñado las miniaturas siguiendo los prototipos Buscando el estilo correcto Que fueran lo más originales de entonces Han hecho el libro de cómo habría sido las cartas, la caja, coño Pero si es que hasta la publicidad parece la que había antaño Con ilustraciones de artistas hechas a mano y nada de inteligencia artificial Vamos en definitiva buscando lo mejor para siempre dar lo mejor Por eso aún el proyecto está ahí, ahí, ahí, macerando a sed pacientes Porque las cosas buenas tienen su proceso Y lo más impresionante es que encima han jugado con la limitación de la producción de aquel entonces Un ejercicio de creación totalmente condicionado Un puñado de los mejores culo duros que se comieron la cabeza para poder traer esta expansión Que para mí es la expansión que más he querido desde que salió Bueno, desde que tuve uso de conocimiento de la versión americana Y voy a decir que mi información es bastante escueta, ¿vale? Y hasta que el proyecto no finalice no voy a poder dar mucha info porque tampoco la conozco Pero el propio Luca estuvo hablando desde el canal de nuestros amigos y vecinos Jiro Ques Italia, yo os lo dejaré también ahí abajo Si puedo aquí, ¿vale? Para que podáis ir a esa entrevista Y entonces ahora aquí es cuando yo llego a mis cosas, ¿no? Llego a mis cosas y dándole vueltas y atando cabos, ¿vale? Pues si el horror congelado era la que ponía más fuerte al bárbaro La maga del espejo ponemos to fuerte al elfo Pues ¿qué significa? Que en esta expansión ponemos to tocho al mago Y es lo mejor que podría pasarnos No tengo duda que a no ser de que Hasbro saque una expansión exactamente igual de esa idea Y en oficial que esta la voy a jugar, la voy a jugar sí o sí Y si Hasbro saca algo oficial, pues como mínimo la voy a tener como ese pedacito de historia ¿Vale? Que conjunta todo O sea, es que me mola un montón el rollo Que es a nivel de que cuando tuve la oportunidad de hacer la entrevista a Stephen Baker Que es a nivel de que cuando Stephen Baker... Bueno, que tiene un guardián, ¿entendéis? Que es este nivel que tengo sobre esto Y eso decía yo que era un proyecto que realmente se te pone, mira, gallina de piel Que viendo los gráficos de Ispa, Zargon, bueno, o sea No podemos ocultar el nombre de todos los miembros, lo siento ¿Vale? Porque me han enviado las gráficas de dificultad Y vemos que esta expansión buscaría esa incrementación de dificultad Como las otras expansiones, la del bárbaro y la de la elf Pero en esta ocasión es mucho inferior Al igual que la otra gráfica que vemos ahora, que la expansión del eneano Sería la segunda en dificultad The Hammer of Hadraka El Martillo de Hadraka Bueno, como veis pone... Que el título es provisional porque es que en esta ocasión esas notas Venían dos versiones, entonces Es más difícil saber cuál era realmente la que se iba a quedar Tiempo al tiempo Y la verdad es que estoy muy contento compartiendo esto con vosotros Y aquí algunos diréis Oh no, pero es que este proyecto se va a compartir como se compartiría en aquel entonces O sea, cuando el proyecto esté finalizado Se compartirá de forma gratuita Y se mostrará de forma gratuita No va a haber conjuntas Esto es que si tú lo quieres tendrás que cogerlo Irte a la copistería o a la imprenta E imprimirtelo y ya está Como se hacía antiguamente Y creo que no me dejo nada, solo agradecer a Luka y a ese pedazo de equipo El traernos este pedazo Y además pedazo bien grande De historia Del juego de nuestra infancia Y en especial a Ispa Zargon Que bueno, ya supongo que desde el principio Todos ya sabíais de que iba a estar en el ajo Porque es como las erratas Si no está Ispa Zargon, no es Heroquest Muchas gracias Ispa por haber contactado con Luka Para poder ofrecer todas estas imágenes del vídeo de hoy Y en cuanto el proyecto vea la luz Pues lo traeremos aquí Para que nos explique esos 3 años Desde que aparecieron los borradores Y empezó todo este proyecto Y nada más, espero que te haya gustado el vídeo Y si es así, dale un like bien guapo Compártelo, por favor Porque eso ayuda mucho Si no estás suscrito al canal, pues suscríbete Que es gracioso Porque aquí hay Heroquest para dar y tomar Si queréis ayudar al canal Pues tenéis la pestañita de unirse Y si no, como mínimo mirando los anuncios 40 segunditos, 40 segunditos de anuncios A mí ya me ayudas Para que algo el mío de Youtube diga Uy, se interesa Muchísimas gracias a todos Hasta el siguiente vídeo o directo Nos vemos')]"
      ]
     },
     "execution_count": 74,
     "metadata": {},
     "output_type": "execute_result"
    }
   ],
   "source": [
    "docs"
   ]
  }
 ],
 "metadata": {
  "kernelspec": {
   "display_name": "llm_bootcamp",
   "language": "python",
   "name": "python3"
  },
  "language_info": {
   "codemirror_mode": {
    "name": "ipython",
    "version": 3
   },
   "file_extension": ".py",
   "mimetype": "text/x-python",
   "name": "python",
   "nbconvert_exporter": "python",
   "pygments_lexer": "ipython3",
   "version": "3.12.4"
  }
 },
 "nbformat": 4,
 "nbformat_minor": 2
}

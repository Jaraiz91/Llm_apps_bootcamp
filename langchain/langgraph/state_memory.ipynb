{
 "cells": [
  {
   "cell_type": "markdown",
   "metadata": {},
   "source": [
    "## **State Schema**"
   ]
  },
  {
   "cell_type": "markdown",
   "metadata": {},
   "source": [
    "when we define a LangGraph StateGraph, we use a state schema.\n",
    "\n",
    "The state schema represents the structure and types of data that our grpah will use.\n",
    "\n",
    "All Nodes are expected to comunicate with that schema.\n",
    "\n",
    "LangGraph offers flexibility in how you define your state schema, accommodating various Python types and validation approaches"
   ]
  },
  {
   "cell_type": "markdown",
   "metadata": {},
   "source": [
    "### **TypedDict**"
   ]
  },
  {
   "cell_type": "markdown",
   "metadata": {},
   "source": [
    "is a dictionary subclass from Python´s libray that allows you to specify keys and their corresponding value types.\n",
    "\n",
    "Note that these are type hints.\n",
    "\n",
    "They can be used by static type checkers (like mypy) and IDES to catch potential type-related erros before the code is run,\n",
    "\n",
    "But they are not enforced at runtime!"
   ]
  },
  {
   "cell_type": "code",
   "execution_count": 2,
   "metadata": {},
   "outputs": [],
   "source": [
    "from typing import TypedDict\n",
    "\n",
    "class TypedDictState(TypedDict):\n",
    "    foo: str\n",
    "    bar: str"
   ]
  },
  {
   "cell_type": "markdown",
   "metadata": {},
   "source": [
    "For more specific value constraints , you can use things like Literal type hint"
   ]
  },
  {
   "cell_type": "code",
   "execution_count": 3,
   "metadata": {},
   "outputs": [],
   "source": [
    "from typing import Literal\n",
    "\n",
    "class TypedDictState(TypedDict):\n",
    "    name: str\n",
    "    mood: Literal[\"happy\", \"sad\"]"
   ]
  },
  {
   "cell_type": "markdown",
   "metadata": {},
   "source": [
    "We can use TypedDIctSate as our state in LangGraph by simpy passing it to StateGraph\n",
    "\n",
    "We can think about every state key just as a channel in our graph, which we overwrite in each node"
   ]
  },
  {
   "cell_type": "code",
   "execution_count": 8,
   "metadata": {},
   "outputs": [
    {
     "data": {
      "image/png": "[encoded data removed]",
      "text/plain": [
       "<IPython.core.display.Image object>"
      ]
     },
     "metadata": {},
     "output_type": "display_data"
    }
   ],
   "source": [
    "import random\n",
    "from IPython.display import display, Image\n",
    "from langgraph.graph import StateGraph, START, END\n",
    "\n",
    "def node_1(state):\n",
    "    print(\"----node_1----\")\n",
    "    return {\"name\": state['name'] + \" is ....\"}\n",
    "\n",
    "def node_2(state):\n",
    "    print(\"----node_2------\")\n",
    "    return {\"mood\": \"happy\"}\n",
    "\n",
    "def node_3(state):\n",
    "    print(\"----node_3------\")\n",
    "    return {\"mood\": \"sad\"}\n",
    "\n",
    "def decide_mood(state) ->Literal[\"node_2\", \"node_3\"]:\n",
    "\n",
    "    if random.random() < 0.5:\n",
    "        return \"node_2\"\n",
    "    return \"node_3\"\n",
    "\n",
    "builder = StateGraph(TypedDictState)\n",
    "builder.add_node(\"node_1\", node_1)\n",
    "builder.add_node(\"node_2\", node_2)\n",
    "builder.add_node(\"node_3\", node_3)\n",
    "\n",
    "builder.add_edge(START, \"node_1\")\n",
    "builder.add_conditional_edges(\"node_1\", decide_mood)\n",
    "builder.add_edge(\"node_2\", END)\n",
    "builder.add_edge(\"node_3\", END)\n",
    "\n",
    "graph = builder.compile()\n",
    "\n",
    "display(Image(graph.get_graph().draw_mermaid_png()))"
   ]
  },
  {
   "cell_type": "code",
   "execution_count": 9,
   "metadata": {},
   "outputs": [
    {
     "name": "stdout",
     "output_type": "stream",
     "text": [
      "----node_1----\n",
      "----node_2------\n"
     ]
    },
    {
     "data": {
      "text/plain": [
       "{'name': 'javier is ....', 'mood': 'happy'}"
      ]
     },
     "execution_count": 9,
     "metadata": {},
     "output_type": "execute_result"
    }
   ],
   "source": [
    "graph.invoke({\"name\": \"javier\"})"
   ]
  },
  {
   "cell_type": "markdown",
   "metadata": {},
   "source": [
    "### **Pydantic**"
   ]
  },
  {
   "cell_type": "markdown",
   "metadata": {},
   "source": [
    "With TypedDict and dataclasses they don´t enforce types at runtime. we could set mood to mad even though our type hint specifies mood: list[Literal[\"happy\", \"sad\"]]\n",
    "\n",
    "Pydantic can perform validaction to check whether data conforms to the specified types and constraints at runtime"
   ]
  },
  {
   "cell_type": "code",
   "execution_count": 12,
   "metadata": {},
   "outputs": [
    {
     "name": "stdout",
     "output_type": "stream",
     "text": [
      "Validation Error: 1 validation error for PydatincState\n",
      "mood\n",
      "  Input should be 'happy' or 'sad' [type=literal_error, input_value='mad', input_type=str]\n",
      "    For further information visit https://errors.pydantic.dev/2.9/v/literal_error\n"
     ]
    },
    {
     "name": "stderr",
     "output_type": "stream",
     "text": [
      "C:\\Users\\jarai\\AppData\\Local\\Temp\\ipykernel_13884\\1236348873.py:7: PydanticDeprecatedSince20: Pydantic V1 style `@validator` validators are deprecated. You should migrate to Pydantic V2 style `@field_validator` validators, see the migration guide for more details. Deprecated in Pydantic V2.0 to be removed in V3.0. See Pydantic V2 Migration Guide at https://errors.pydantic.dev/2.9/migration/\n",
      "  @validator('mood')\n"
     ]
    }
   ],
   "source": [
    "from pydantic import BaseModel, validator, ValidationError\n",
    "\n",
    "class PydatincState(BaseModel):\n",
    "    name: str\n",
    "    mood: Literal[\"happy\", \"sad\"]\n",
    "\n",
    "    @validator('mood')\n",
    "    def validate_mood(cls, value):\n",
    "        #Ensure the mood is either \"happy\" or \"sad\"\n",
    "        if value not in [\"happy\", \"sad\"]:\n",
    "            raise ValidationError(\"Each mood must be either 'happy' or 'sad\")\n",
    "        \n",
    "try:\n",
    "    state = PydatincState(name='John', mood='mad')\n",
    "except ValidationError as e:\n",
    "    print(\"Validation Error:\", e) "
   ]
  },
  {
   "cell_type": "markdown",
   "metadata": {},
   "source": [
    "## **State Reducers**"
   ]
  },
  {
   "cell_type": "code",
   "execution_count": 14,
   "metadata": {},
   "outputs": [
    {
     "data": {
      "image/png": "[encoded data removed]",
      "text/plain": [
       "<IPython.core.display.Image object>"
      ]
     },
     "metadata": {},
     "output_type": "display_data"
    }
   ],
   "source": [
    "class State(TypedDict):\n",
    "    foo: int\n",
    "\n",
    "def node_1(state):\n",
    "    print('-----Node 1------')\n",
    "    return {'foo': state['foo'] + 1}\n",
    "\n",
    "builder = StateGraph(State)\n",
    "builder.add_node('node 1', node_1)\n",
    "\n",
    "builder.add_edge(START, 'node 1')\n",
    "builder.add_edge('node 1',END)\n",
    "\n",
    "graph = builder.compile()\n",
    "\n",
    "display(Image(graph.get_graph().draw_mermaid_png()))"
   ]
  },
  {
   "cell_type": "code",
   "execution_count": 17,
   "metadata": {},
   "outputs": [
    {
     "data": {
      "image/png": "[encoded data removed]",
      "text/plain": [
       "<IPython.core.display.Image object>"
      ]
     },
     "metadata": {},
     "output_type": "display_data"
    }
   ],
   "source": [
    "def node_1(state):\n",
    "    print('-----Node 1------')\n",
    "    return {'foo': state['foo'] + 1}\n",
    "\n",
    "def node_2(state):\n",
    "    print('-----Node 2------')\n",
    "    return {'foo': state['foo'] + 1}\n",
    "\n",
    "def node_3(state):\n",
    "    print('-----Node 3------')\n",
    "    return {'foo': state['foo'] + 1}\n",
    "\n",
    "\n",
    "builder = StateGraph(State)\n",
    "builder.add_node('node_1', node_1)\n",
    "builder.add_node('node_2', node_2)\n",
    "builder.add_node('node_3', node_3)\n",
    "\n",
    "builder.add_edge(START, 'node_1')\n",
    "builder.add_edge('node_1','node_2')\n",
    "builder.add_edge('node_1', 'node_3')\n",
    "builder.add_edge('node_2', END)\n",
    "builder.add_edge('node_3', END)\n",
    "\n",
    "graph = builder.compile()\n",
    "\n",
    "display(Image(graph.get_graph().draw_mermaid_png()))"
   ]
  },
  {
   "cell_type": "code",
   "execution_count": 20,
   "metadata": {},
   "outputs": [
    {
     "name": "stdout",
     "output_type": "stream",
     "text": [
      "-----Node 1------\n",
      "-----Node 2------\n",
      "-----Node 3------\n",
      "InvalidUpdateError ocurred: At key 'foo': Can receive only one value per step. Use an Annotated key to handle multiple values.\n",
      "For troubleshooting, visit: https://python.langchain.com/docs/troubleshooting/errors/INVALID_CONCURRENT_GRAPH_UPDATE\n"
     ]
    }
   ],
   "source": [
    "from langgraph.errors import InvalidUpdateError\n",
    "try:\n",
    "    graph.invoke({'foo': 1})\n",
    "except InvalidUpdateError as e:\n",
    "    print(f\"InvalidUpdateError ocurred: {e}\")"
   ]
  },
  {
   "cell_type": "markdown",
   "metadata": {},
   "source": [
    "Reducers give us a general way to address this problem.\n",
    "\n",
    "they specify how to perform updates.\n",
    "\n",
    "We can use the Annotated type to specify a reducer function.\n",
    "\n",
    "For example, in this case let´s append the value returned from each node rather than overwriting them.\n",
    "\n",
    "We just need a reducer that can perform this: operator.add is a function from Python´s built-in operator module.\n",
    "\n",
    "When operator.add is applied to lists, it performs list concatenation"
   ]
  },
  {
   "cell_type": "code",
   "execution_count": 32,
   "metadata": {},
   "outputs": [
    {
     "data": {
      "image/png": "[encoded data removed]",
      "text/plain": [
       "<IPython.core.display.Image object>"
      ]
     },
     "metadata": {},
     "output_type": "display_data"
    }
   ],
   "source": [
    "from operator import add\n",
    "from typing import Annotated\n",
    "\n",
    "class State(TypedDict):\n",
    "    foo: Annotated[list[int], add]\n",
    "\n",
    "def node_1(state):\n",
    "    print('-----Node 1------')\n",
    "    return {'foo': [state['foo'][-1] + 1]}\n",
    "\n",
    "def node_2(state):\n",
    "    print('-----Node 2------')\n",
    "    return {'foo': [state['foo'][-1] + 1]}\n",
    "\n",
    "def node_3(state):\n",
    "    print('-----Node 3------')\n",
    "    return {'foo': [state['foo'][1] + 1]}\n",
    "\n",
    "builder = StateGraph(State)\n",
    "builder.add_node('node_1', node_1)\n",
    "builder.add_node('node_2', node_2)\n",
    "builder.add_node('node_3', node_3)\n",
    "\n",
    "builder.add_edge(START, 'node_1')\n",
    "builder.add_edge('node_1','node_2')\n",
    "builder.add_edge('node_1', 'node_3')\n",
    "builder.add_edge('node_2', END)\n",
    "builder.add_edge('node_3', END)\n",
    "\n",
    "graph = builder.compile()\n",
    "\n",
    "display(Image(graph.get_graph().draw_mermaid_png()))\n"
   ]
  },
  {
   "cell_type": "code",
   "execution_count": 33,
   "metadata": {},
   "outputs": [
    {
     "name": "stdout",
     "output_type": "stream",
     "text": [
      "-----Node 1------\n",
      "-----Node 2------\n",
      "-----Node 3------\n"
     ]
    },
    {
     "data": {
      "text/plain": [
       "{'foo': [1, 2, 3, 3]}"
      ]
     },
     "execution_count": 33,
     "metadata": {},
     "output_type": "execute_result"
    }
   ],
   "source": [
    "from langgraph.errors import InvalidUpdateError\n",
    "try:\n",
    "    result = graph.invoke({'foo':[1]})\n",
    "except InvalidUpdateError as e:\n",
    "    print(f\"InvalidUpdateError ocurred: {e}\")\n",
    "\n",
    "result"
   ]
  },
  {
   "cell_type": "markdown",
   "metadata": {},
   "source": [
    "### **Custom Reducers**"
   ]
  },
  {
   "cell_type": "code",
   "execution_count": 34,
   "metadata": {},
   "outputs": [],
   "source": [
    "def reduce_list(left:list | None , right: list | None) -> list:\n",
    "    \"\"\"Safely combine two lists, handling cases where either or both inputs might be None.\n",
    "    \n",
    "    Args:\n",
    "        left (list | None): The first list to combine, or None\n",
    "        right (list | None):  The second list to combine or None\"\"\"\n",
    "    \n",
    "    if not left:\n",
    "        left = []\n",
    "    if not right:\n",
    "        right = []\n",
    "    \n",
    "    return left + right\n",
    "\n",
    "class DefaultState(TypedDict):\n",
    "    foo: Annotated[list[int], add]\n",
    "\n",
    "class CustomReducerState(TypedDict):\n",
    "    foo: Annotated[list[int], reduce_list]"
   ]
  },
  {
   "cell_type": "code",
   "execution_count": 39,
   "metadata": {},
   "outputs": [
    {
     "data": {
      "image/png": "[encoded data removed]",
      "text/plain": [
       "<IPython.core.display.Image object>"
      ]
     },
     "metadata": {},
     "output_type": "display_data"
    }
   ],
   "source": [
    "def node_1(state):\n",
    "    print('-----Node 1------')\n",
    "    return {'foo': [2]}\n",
    "\n",
    "def node_2(state):\n",
    "    print('-----Node 2------')\n",
    "    return {'foo': [state['foo'][-1] + 1]}\n",
    "\n",
    "def node_3(state):\n",
    "    print('-----Node 3------')\n",
    "    return {'foo': [state['foo'][-1] + 1]}\n",
    "\n",
    "builder = StateGraph(CustomReducerState)\n",
    "builder.add_node('node_1', node_1)\n",
    "builder.add_node('node_2', node_2)\n",
    "builder.add_node('node_3', node_3)\n",
    "\n",
    "builder.add_edge(START, 'node_1')\n",
    "builder.add_edge('node_1','node_2')\n",
    "builder.add_edge('node_1', 'node_3')\n",
    "builder.add_edge('node_2', END)\n",
    "builder.add_edge('node_3', END)\n",
    "\n",
    "graph = builder.compile()\n",
    "\n",
    "display(Image(graph.get_graph().draw_mermaid_png()))"
   ]
  },
  {
   "cell_type": "code",
   "execution_count": 40,
   "metadata": {},
   "outputs": [
    {
     "name": "stdout",
     "output_type": "stream",
     "text": [
      "-----Node 1------\n",
      "-----Node 2------\n",
      "-----Node 3------\n"
     ]
    },
    {
     "data": {
      "text/plain": [
       "{'foo': [2, 3, 3]}"
      ]
     },
     "execution_count": 40,
     "metadata": {},
     "output_type": "execute_result"
    }
   ],
   "source": [
    "graph.invoke({'foo': None})"
   ]
  },
  {
   "cell_type": "markdown",
   "metadata": {},
   "source": [
    "## **Multiple Schemas**"
   ]
  },
  {
   "cell_type": "markdown",
   "metadata": {},
   "source": [
    "There are cases we may want a bit more control over the schema:\n",
    "\n",
    "* Internal nodes may pass information that is not required in the graph´s input / output\n",
    "* We may also want to use different input / output schemas for the graph. The output might, for example, only contain as single relevant output key"
   ]
  },
  {
   "cell_type": "markdown",
   "metadata": {},
   "source": [
    "### **Private State**\n",
    "\n",
    "This is useful for anything needed as part of the intermediate working logic of the graph, but not relevant for the overall graph input or output.\n",
    "\n",
    "We´ll define an OverallState and a PrivateState\n",
    "\n",
    "node_2 uses PrivateState as input, but writes out to OverallState"
   ]
  },
  {
   "cell_type": "code",
   "execution_count": 42,
   "metadata": {},
   "outputs": [
    {
     "name": "stdout",
     "output_type": "stream",
     "text": [
      "------Node 1--------\n",
      "------Node 2-------\n"
     ]
    },
    {
     "data": {
      "text/plain": [
       "{'foo': 3}"
      ]
     },
     "execution_count": 42,
     "metadata": {},
     "output_type": "execute_result"
    }
   ],
   "source": [
    "class OverallState(TypedDict):\n",
    "    foo: int\n",
    "\n",
    "class PrivateState(TypedDict):\n",
    "    baz: int\n",
    "\n",
    "def node_1(state: OverallState) -> PrivateState:\n",
    "    print('------Node 1--------')\n",
    "    return {'baz': state['foo'] + 1}\n",
    "\n",
    "\n",
    "def node_2(state: PrivateState) -> OverallState:\n",
    "    print('------Node 2-------')\n",
    "    return {'foo': state['baz'] + 1}\n",
    "\n",
    "#Build graph\n",
    "builder = StateGraph(OverallState)\n",
    "builder.add_node(\"node 1\", node_1)\n",
    "builder.add_node(\"node 2\", node_2)\n",
    "\n",
    "#Add edges\n",
    "builder.add_edge(START, \"node 1\")\n",
    "builder.add_edge(\"node 1\", \"node 2\")\n",
    "builder.add_edge(\"node 2\", END)\n",
    "\n",
    "graph = builder.compile()\n",
    "\n",
    "graph.invoke({'foo': 1})"
   ]
  },
  {
   "cell_type": "markdown",
   "metadata": {},
   "source": [
    "### **Input/Output Schema**"
   ]
  },
  {
   "cell_type": "markdown",
   "metadata": {},
   "source": [
    "Now, let´s use specific input / output schema with our graph.\n",
    "\n",
    "In addition, we can use a type hint state: InputState to specify the input schema of each of our nodes\n",
    "\n",
    "we use tpye hints below to, for example show that the output of answer_node will be filtered to OutputState\n",
    " "
   ]
  },
  {
   "cell_type": "code",
   "execution_count": 45,
   "metadata": {},
   "outputs": [
    {
     "data": {
      "image/png": "[encoded data removed]",
      "text/plain": [
       "<IPython.core.display.Image object>"
      ]
     },
     "metadata": {},
     "output_type": "display_data"
    }
   ],
   "source": [
    "class InputState(TypedDict):\n",
    "    question: str\n",
    "\n",
    "class OutputState(TypedDict):\n",
    "    answer: str\n",
    "\n",
    "class OverallState(TypedDict):\n",
    "    question: str\n",
    "    answer: str\n",
    "    notes: str\n",
    "\n",
    "def thinking_node(state: InputState):\n",
    "    return {\"answer\": \"bye\", \"notes\": \"... his name is  Lnace\"}\n",
    "\n",
    "def answer_node(state: OverallState) -> OutputState:\n",
    "    return {\"answer\": \"bye Lance\"}\n",
    "\n",
    "graph = StateGraph(OverallState, input=InputState, output=OutputState)\n",
    "graph.add_node(\"answer_node\", answer_node)\n",
    "graph.add_node(\"thinking_node\", thinking_node)\n",
    "graph.add_edge(START, \"thinking_node\")\n",
    "graph.add_edge(\"thinking_node\", \"answer_node\")\n",
    "graph.add_edge(\"answer_node\", END)\n",
    "\n",
    "graph = graph.compile()\n",
    "\n",
    "display(Image(graph.get_graph().draw_mermaid_png()))"
   ]
  },
  {
   "cell_type": "code",
   "execution_count": 47,
   "metadata": {},
   "outputs": [
    {
     "data": {
      "text/plain": [
       "{'answer': 'bye Lance'}"
      ]
     },
     "execution_count": 47,
     "metadata": {},
     "output_type": "execute_result"
    }
   ],
   "source": [
    "graph.invoke({\"question\": \"hi\"})"
   ]
  },
  {
   "cell_type": "markdown",
   "metadata": {},
   "source": [
    "## **Filtering and Trimming messages**"
   ]
  },
  {
   "cell_type": "markdown",
   "metadata": {},
   "source": [
    "### **Messages as state**\n",
    "\n",
    "First, let´s define some messages."
   ]
  },
  {
   "cell_type": "code",
   "execution_count": 48,
   "metadata": {},
   "outputs": [
    {
     "name": "stdout",
     "output_type": "stream",
     "text": [
      "==================================\u001b[1m Ai Message \u001b[0m==================================\n",
      "Name: Bot\n",
      "\n",
      "SO you said you were researching ocean mammals?\n",
      "================================\u001b[1m Human Message \u001b[0m=================================\n",
      "Name: Lance\n",
      "\n",
      "Yes, I know about Whales, But what others should I learn about?\n"
     ]
    }
   ],
   "source": [
    "from pprint import pprint\n",
    "from langchain_core.messages import AIMessage, HumanMessage\n",
    "messages = [AIMessage(f\"SO you said you were researching ocean mammals?\", name=\"Bot\")]\n",
    "messages.append(HumanMessage(f\"Yes, I know about Whales, But what others should I learn about?\", name=\"Lance\"))\n",
    "\n",
    "for m in messages:\n",
    "    m.pretty_print()"
   ]
  },
  {
   "cell_type": "code",
   "execution_count": 49,
   "metadata": {},
   "outputs": [],
   "source": [
    "import os\n",
    "from dotenv import load_dotenv, find_dotenv\n",
    "from langchain_openai import ChatOpenAI\n",
    "\n",
    "_ = load_dotenv(find_dotenv())\n",
    "openai_api_key = os.environ['OPENAI_API_KEY']\n",
    "\n",
    "llm = ChatOpenAI(model=\"gpt-3.5-turbo\")"
   ]
  },
  {
   "cell_type": "code",
   "execution_count": 50,
   "metadata": {},
   "outputs": [
    {
     "data": {
      "image/png": "[encoded data removed]",
      "text/plain": [
       "<IPython.core.display.Image object>"
      ]
     },
     "metadata": {},
     "output_type": "display_data"
    }
   ],
   "source": [
    "from langgraph.graph import MessagesState\n",
    "\n",
    "#Node\n",
    "def chat_model_node(state: MessagesState):\n",
    "    return {\"messages\": llm.invoke(state[\"messages\"])}\n",
    "\n",
    "#Build graph\n",
    "builder = StateGraph(MessagesState)\n",
    "builder.add_node(\"chat_model\", chat_model_node)\n",
    "builder.add_edge(START, \"chat_model\")\n",
    "builder.add_edge(\"chat_model\", END)\n",
    "graph = builder.compile()\n",
    "\n",
    "display(Image(graph.get_graph().draw_mermaid_png()))"
   ]
  },
  {
   "cell_type": "code",
   "execution_count": 51,
   "metadata": {},
   "outputs": [
    {
     "name": "stdout",
     "output_type": "stream",
     "text": [
      "==================================\u001b[1m Ai Message \u001b[0m==================================\n",
      "Name: Bot\n",
      "\n",
      "SO you said you were researching ocean mammals?\n",
      "================================\u001b[1m Human Message \u001b[0m=================================\n",
      "Name: Lance\n",
      "\n",
      "Yes, I know about Whales, But what others should I learn about?\n",
      "==================================\u001b[1m Ai Message \u001b[0m==================================\n",
      "\n",
      "In addition to whales, there are several other fascinating ocean mammals worth learning about. Here are a few examples:\n",
      "\n",
      "1. Dolphins: Dolphins are highly intelligent and social marine mammals known for their playful behavior and acrobatic skills. They belong to the cetacean family, which also includes whales and porpoises.\n",
      "\n",
      "2. Seals and Sea Lions: Seals and sea lions are pinnipeds, which are semi-aquatic marine mammals with flippers for limbs. They are found in various regions around the world and are known for their agility in the water.\n",
      "\n",
      "3. Manatees: Manatees, also known as sea cows, are large, herbivorous marine mammals that inhabit shallow, slow-moving waters. They are known for their gentle nature and are often seen grazing on aquatic plants.\n",
      "\n",
      "4. Otters: Otters are playful and intelligent marine mammals that belong to the weasel family. They are known for their sleek, streamlined bodies and webbed feet, which make them excellent swimmers.\n",
      "\n",
      "5. Polar Bears: While not strictly marine mammals, polar bears spend much of their time in and around Arctic waters hunting for seals. They are powerful swimmers and rely on sea ice for hunting and resting.\n",
      "\n",
      "These are just a few examples of the diverse range of ocean mammals that inhabit our planet's seas and oceans. Each species has its own unique characteristics and adaptations that make them well-suited to life in the marine environment.\n"
     ]
    }
   ],
   "source": [
    "output = graph.invoke({\"messages\": messages})\n",
    "for m in output[\"messages\"]:\n",
    "    m.pretty_print()"
   ]
  },
  {
   "cell_type": "markdown",
   "metadata": {},
   "source": [
    "### **Reducers**\n",
    "\n",
    "A practical challenge when working with messages is managing long-running conversations.\n",
    "\n",
    "Long-running conversations result in high token usage and latency if we are not careful, because we pass a growing list of messages to the model.\n",
    "\n",
    "We have a few ways to address this.\n",
    "\n",
    "First, recall the trick we saw using RemoveMessage and add_messages reducer."
   ]
  },
  {
   "cell_type": "code",
   "execution_count": 55,
   "metadata": {},
   "outputs": [],
   "source": [
    "from langchain_core.messages import RemoveMessage\n",
    "\n",
    "#Nodes\n",
    "def filter_messages(state: MessagesState):\n",
    "    #Delete all but the 2 most recent messages\n",
    "    delete_messages = [RemoveMessage(id=m.id) for m in state[\"messages\"][:-2]]\n",
    "    # The add_messages reducer (in MessageState) recoginzes the RemoveMessagesa and removes them\n",
    "    return {\"messages\": delete_messages}\n",
    "\n",
    "def chat_model_node(state: MessagesState):\n",
    "    return {\"messages\": [llm.invoke(state[\"messages\"])]}\n",
    "\n",
    "builder = StateGraph(MessagesState)\n",
    "builder.add_node(\"filter\", filter_messages)\n",
    "builder.add_node(\"chat_model\", chat_model_node)\n",
    "builder.add_edge(START, \"filter\")\n",
    "builder.add_edge(\"filter\", \"chat_model\")\n",
    "builder.add_edge(\"chat_model\", END)\n",
    "graph = builder.compile()\n",
    "\n"
   ]
  },
  {
   "cell_type": "code",
   "execution_count": 56,
   "metadata": {},
   "outputs": [
    {
     "name": "stdout",
     "output_type": "stream",
     "text": [
      "==================================\u001b[1m Ai Message \u001b[0m==================================\n",
      "Name: Bot\n",
      "\n",
      "SO you said you were researching ocean mammals?\n",
      "================================\u001b[1m Human Message \u001b[0m=================================\n",
      "Name: Lance\n",
      "\n",
      "Yes, I know about Whales, But what others should I learn about?\n",
      "==================================\u001b[1m Ai Message \u001b[0m==================================\n",
      "\n",
      "There are many fascinating ocean mammals beyond whales that you could research. Some examples include dolphins, seals, sea lions, manatees, otters, walruses, and polar bears. Each of these species has unique characteristics and behaviors that make them interesting to study.\n"
     ]
    }
   ],
   "source": [
    "# Message list with a preamble\n",
    "messages = [AIMessage(\"hi\", name=\"Bot\", id=\"1\")]\n",
    "messages.append(HumanMessage(\"hi!\", name=\"Lance\", id=\"2\"))\n",
    "messages.append(AIMessage(\"SO you said you were researching ocean mammals?\", name=\"Bot\", id=\"3\"))\n",
    "messages.append(HumanMessage(\"Yes, I know about Whales, But what others should I learn about?\", name=\"Lance\", id=\"4\"))\n",
    "\n",
    "output = graph.invoke({\"messages\": messages})\n",
    "for m in output[\"messages\"]:\n",
    "    m.pretty_print()"
   ]
  },
  {
   "cell_type": "markdown",
   "metadata": {},
   "source": [
    "## **Trim Messages**\n",
    "\n",
    "Another approach is to trim messagesm based upon a set number of tokens.\n",
    "\n",
    "This restricts the message history to a specified number of tokens.\n",
    "\n",
    "While filtering only return a post-hoc subset of the msessages between agents, trimming restrict the number of tokens that a chat model can use to respond.\n",
    "\n"
   ]
  },
  {
   "cell_type": "code",
   "execution_count": 59,
   "metadata": {},
   "outputs": [],
   "source": [
    "from langchain_core.messages import trim_messages\n",
    "\n",
    "#Node\n",
    "def chat_model_node(state: MessagesState):\n",
    "    messages= trim_messages(\n",
    "        state[\"messages\"],\n",
    "        max_tokens=100,\n",
    "        strategy=\"last\",\n",
    "        token_counter=ChatOpenAI(model='gpt-3.5-turbo'),\n",
    "        allow_partial=True\n",
    "    )\n",
    "    return {\"messages\": [llm.invoke(messages)]}\n",
    "\n",
    "builder = StateGraph(MessagesState)\n",
    "builder.add_node(\"chat model\", chat_model_node)\n",
    "builder.add_edge(START, \"chat model\")\n",
    "builder.add_edge(\"chat model\", END)\n",
    "\n",
    "graph = builder.compile()\n",
    "\n"
   ]
  },
  {
   "cell_type": "markdown",
   "metadata": {},
   "source": [
    "## **Chatbot with message Summarization**"
   ]
  },
  {
   "cell_type": "code",
   "execution_count": 60,
   "metadata": {},
   "outputs": [],
   "source": [
    "llm = ChatOpenAI(model=\"gpt-3.5-turbo\")\n",
    "\n",
    "class State(MessagesState):\n",
    "    summary: str"
   ]
  },
  {
   "cell_type": "markdown",
   "metadata": {},
   "source": [
    "We will define a node to call our LLM that incorporates a summary, if exists into the prompt"
   ]
  },
  {
   "cell_type": "code",
   "execution_count": 61,
   "metadata": {},
   "outputs": [],
   "source": [
    "from langchain_core.messages import SystemMessage, HumanMessage, RemoveMessage\n",
    "\n",
    "def call_model(state: State):\n",
    "\n",
    "    # Get summary if exists\n",
    "    summary = state.get(\"summary\", \"\")\n",
    "\n",
    "    if summary:\n",
    "        system_message = f\"Here is a summary of conversation earlier: {summary}\"\n",
    "\n",
    "        #Append summary to newer messages\n",
    "        messages = [SystemMessage(content=system_message)] + state['messages']\n",
    "    else:\n",
    "        messages = state['messages']\n",
    "    \n",
    "    response = llm.invoke(messages)\n",
    "    return {\"messages\": response}"
   ]
  },
  {
   "cell_type": "markdown",
   "metadata": {},
   "source": [
    "Define a node to produce a summary"
   ]
  },
  {
   "cell_type": "code",
   "execution_count": 80,
   "metadata": {},
   "outputs": [],
   "source": [
    "def summarize_conversation(state: State):\n",
    "\n",
    "    summary = state.get(\"summary\",\"\")\n",
    "    if summary:\n",
    "            summary_message = (f\"This is a summary of thew conversation to date: {summary} \\n\"\n",
    "                              \" Extend the summary by taking into account the new messages above:\")\n",
    "    else:\n",
    "          summary_message = \"Create a summary of the conversation above:\"\n",
    "    \n",
    "    messages = state['messages'] + [summary_message]\n",
    "    response = llm.invoke(messages)\n",
    "\n",
    "    # Delete all but the 2 most recent messages\n",
    "\n",
    "    delete_messages = [RemoveMessage(id=m.id) for m in state['messages'][:-2]]\n",
    "    return {\"summary\": response, \"messages\": delete_messages}\n",
    "\n"
   ]
  },
  {
   "cell_type": "code",
   "execution_count": 81,
   "metadata": {},
   "outputs": [],
   "source": [
    "#Determine wether to end or summarize the conversation\n",
    "def should_continue(state: State):\n",
    "    \"\"\"Return the next node to execute\"\"\"\n",
    "    messages = state[\"messages\"]\n",
    "\n",
    "    if len(messages) > 6:\n",
    "        return \"summarize\"\n",
    "    return END"
   ]
  },
  {
   "cell_type": "markdown",
   "metadata": {},
   "source": [
    "## **Adding Memory**"
   ]
  },
  {
   "cell_type": "code",
   "execution_count": 93,
   "metadata": {},
   "outputs": [
    {
     "data": {
      "image/png": "[encoded data removed]",
      "text/plain": [
       "<IPython.core.display.Image object>"
      ]
     },
     "metadata": {},
     "output_type": "display_data"
    }
   ],
   "source": [
    "from langgraph.checkpoint.memory import MemorySaver\n",
    "\n",
    "builder = StateGraph(State)\n",
    "builder.add_node(\"conversation\", call_model)\n",
    "builder.add_node(\"summarize\", summarize_conversation)\n",
    "\n",
    "builder.add_edge(START, \"conversation\")\n",
    "builder.add_conditional_edges(\"conversation\", should_continue)\n",
    "builder.add_edge(\"summarize\", END)\n",
    "\n",
    "memory = MemorySaver()\n",
    "graph = builder.compile(checkpointer=memory)\n",
    "\n",
    "display(Image(graph.get_graph().draw_mermaid_png()))"
   ]
  },
  {
   "cell_type": "markdown",
   "metadata": {},
   "source": [
    "## **Threads**\n",
    "\n",
    "The checkpointer saves the state at each step as checkpoint.\n",
    "These saved checkpoints can be grouped into a ```thread``` of conversation.\n",
    "think about Slack as an analog: different channels carry different conversations.\n",
    "Below we can usae ```configurable```"
   ]
  },
  {
   "cell_type": "code",
   "execution_count": 94,
   "metadata": {},
   "outputs": [
    {
     "name": "stdout",
     "output_type": "stream",
     "text": [
      "==================================\u001b[1m Ai Message \u001b[0m==================================\n",
      "\n",
      "Nice to meet you, Lance! How can I assist you today?\n",
      "==================================\u001b[1m Ai Message \u001b[0m==================================\n",
      "\n",
      "Your name is Lance.\n",
      "==================================\u001b[1m Ai Message \u001b[0m==================================\n",
      "\n",
      "That's great! What kind of movies do you enjoy watching?\n"
     ]
    }
   ],
   "source": [
    "#create a thread\n",
    "config = {\"configurable\": {\"thread_id\": \"1\"}}\n",
    "\n",
    "#start conversation\n",
    "input_message = HumanMessage(content=\"Hi! I am Lance\")\n",
    "output = graph.invoke({\"messages\": [input_message]}, config)\n",
    "for m in output['messages'][-1:]:\n",
    "    m.pretty_print()\n",
    "\n",
    "input_message = HumanMessage(content=\"what´s my name\")\n",
    "output = graph.invoke({\"messages\": [input_message]}, config=config)\n",
    "for m in output['messages'][-1:]:\n",
    "    m.pretty_print()\n",
    "\n",
    "input_message = HumanMessage(content=\"I like movies\")\n",
    "output = graph.invoke({\"messages\": [input_message]}, config=config)\n",
    "for m in output['messages'][-1:]:\n",
    "    m.pretty_print()"
   ]
  },
  {
   "cell_type": "code",
   "execution_count": 95,
   "metadata": {},
   "outputs": [
    {
     "data": {
      "text/plain": [
       "''"
      ]
     },
     "execution_count": 95,
     "metadata": {},
     "output_type": "execute_result"
    }
   ],
   "source": [
    "graph.get_state(config).values.get('summary', '')"
   ]
  },
  {
   "cell_type": "code",
   "execution_count": 96,
   "metadata": {},
   "outputs": [
    {
     "name": "stdout",
     "output_type": "stream",
     "text": [
      "==================================\u001b[1m Ai Message \u001b[0m==================================\n",
      "\n",
      "There have been many significant periods in history that have made a great impact on humankind, but one of the most influential periods is often considered to be the Industrial Revolution. This period, which began in the late 18th century and continued into the 19th century, saw a major shift from agrarian societies to industrialized ones, leading to advancements in technology, transportation, and production. The Industrial Revolution had far-reaching effects on society, economics, and culture, shaping the modern world as we know it today.\n"
     ]
    }
   ],
   "source": [
    "input_message = HumanMessage(content=\"I like history. which period from history do you think that made the most impact in humankind?\")\n",
    "output = graph.invoke({\"messages\": [input_message]}, config=config)\n",
    "for m in output['messages'][-1:]:\n",
    "    m.pretty_print()\n"
   ]
  },
  {
   "cell_type": "code",
   "execution_count": 97,
   "metadata": {},
   "outputs": [
    {
     "data": {
      "text/plain": [
       "'In our conversation, Lance mentioned his interest in movies and history. He particularly enjoys movies and is interested in learning about the impact of different historical periods on humankind. We discussed the Industrial Revolution as one of the most influential periods in history, leading to advancements in technology and shaping the modern world.'"
      ]
     },
     "execution_count": 97,
     "metadata": {},
     "output_type": "execute_result"
    }
   ],
   "source": [
    "graph.get_state(config).values.get('summary', '').content"
   ]
  },
  {
   "cell_type": "markdown",
   "metadata": {},
   "source": [
    "## **Chatbot with message summarization & external DB memory**"
   ]
  },
  {
   "cell_type": "code",
   "execution_count": 100,
   "metadata": {},
   "outputs": [],
   "source": [
    "import sqlite3\n",
    "# In memory\n",
    "conn = sqlite3.connect(\":memory:\")\n",
    "\n",
    "#Saved to lacl db\n",
    "#db_path = \"state_db/example.db\"\n",
    "#conn = sqlite3.connect(db_path, check_same_thread=False)"
   ]
  }
 ],
 "metadata": {
  "kernelspec": {
   "display_name": "llm",
   "language": "python",
   "name": "python3"
  },
  "language_info": {
   "codemirror_mode": {
    "name": "ipython",
    "version": 3
   },
   "file_extension": ".py",
   "mimetype": "text/x-python",
   "name": "python",
   "nbconvert_exporter": "python",
   "pygments_lexer": "ipython3",
   "version": "3.10.14"
  }
 },
 "nbformat": 4,
 "nbformat_minor": 2
}

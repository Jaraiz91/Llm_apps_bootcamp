{
 "cells": [
  {
   "cell_type": "code",
   "execution_count": 1,
   "metadata": {},
   "outputs": [],
   "source": [
    "import os\n",
    "from dotenv import load_dotenv, find_dotenv\n",
    "_ = load_dotenv(find_dotenv())\n",
    "openai_api_key = os.environ[\"OPENAI_API_KEY\"]"
   ]
  },
  {
   "cell_type": "markdown",
   "metadata": {},
   "source": [
    "# Intro to RAG\n",
    "\n",
    " * load large data assets and then ask the LLM questions about it"
   ]
  },
  {
   "cell_type": "markdown",
   "metadata": {},
   "source": [
    "# 1. Splitters\n"
   ]
  },
  {
   "cell_type": "markdown",
   "metadata": {},
   "source": [
    "In RAG technique we need first to divide large documents into smaller data chunks. Splitters are also called Document transformers"
   ]
  },
  {
   "cell_type": "code",
   "execution_count": 31,
   "metadata": {},
   "outputs": [
    {
     "name": "stderr",
     "output_type": "stream",
     "text": [
      "Created a chunk of size 1179, which is longer than the specified 1000\n"
     ]
    },
    {
     "data": {
      "text/plain": [
       "4"
      ]
     },
     "execution_count": 31,
     "metadata": {},
     "output_type": "execute_result"
    }
   ],
   "source": [
    "# Simple splitting by character : Character splitter (by default \"\\n\\n\")\n",
    "\n",
    "from langchain_community.document_loaders import TextLoader\n",
    "from langchain_text_splitters import CharacterTextSplitter\n",
    "\n",
    "loader = TextLoader('../data/example.txt')\n",
    "loaded_data = loader.load()\n",
    "\n",
    "text_splitter = CharacterTextSplitter(\n",
    "    separator=\"\\n\\n\",\n",
    "    chunk_size=1000,\n",
    "    chunk_overlap=200,\n",
    "    length_function=len,\n",
    ")\n",
    "\n",
    "texts = text_splitter.create_documents([loaded_data[0].page_content])\n",
    "len(texts)"
   ]
  },
  {
   "cell_type": "code",
   "execution_count": 33,
   "metadata": {},
   "outputs": [
    {
     "data": {
      "text/plain": [
       "Document(page_content='Las islas Galápagos1\\u200b (también islas de las Galápagos y oficialmente conocidas como archipiélago de Colón1\\u200b o archipiélago de Galápagos)2\\u200b constituyen un archipiélago del océano Pacífico ubicado a 972 km de la costa de Ecuador.3\\u200b Fueron descubiertas en 1535 por la tripulación del barco del fray Tomás de Berlanga. Está conformado por trece islas grandes con una superficie mayor a 10 km², nueve islas medianas con una superficie de 1 km² a 10 km² y otros 107 islotes de tamaño pequeño, además de promontorios rocosos de pocos metros cuadrados, distribuidos alrededor de la línea ecuatorial, que conjuntamente con el Archipiélago Malayo, son los únicos archipiélagos del planeta que tienen territorio tanto en el hemisferio norte como en el hemisferio sur.')"
      ]
     },
     "execution_count": 33,
     "metadata": {},
     "output_type": "execute_result"
    }
   ],
   "source": [
    "texts[0]"
   ]
  },
  {
   "cell_type": "markdown",
   "metadata": {},
   "source": [
    "## splitting with metadata"
   ]
  },
  {
   "cell_type": "code",
   "execution_count": 39,
   "metadata": {},
   "outputs": [
    {
     "name": "stderr",
     "output_type": "stream",
     "text": [
      "Created a chunk of size 1179, which is longer than the specified 1000\n",
      "Created a chunk of size 1179, which is longer than the specified 1000\n"
     ]
    },
    {
     "data": {
      "text/plain": [
       "'Las islas Galápagos1\\u200b (también islas de las Galápagos y oficialmente conocidas como archipiélago de Colón1\\u200b o archipiélago de Galápagos)2\\u200b constituyen un archipiélago del océano Pacífico ubicado a 972 km de la costa de Ecuador.3\\u200b Fueron descubiertas en 1535 por la tripulación del barco del fray Tomás de Berlanga. Está conformado por trece islas grandes con una superficie mayor a 10 km², nueve islas medianas con una superficie de 1 km² a 10 km² y otros 107 islotes de tamaño pequeño, además de promontorios rocosos de pocos metros cuadrados, distribuidos alrededor de la línea ecuatorial, que conjuntamente con el Archipiélago Malayo, son los únicos archipiélagos del planeta que tienen territorio tanto en el hemisferio norte como en el hemisferio sur.'"
      ]
     },
     "execution_count": 39,
     "metadata": {},
     "output_type": "execute_result"
    }
   ],
   "source": [
    "metadatas = [{\"chunk\": 0}, {\"chunk\": 1}]\n",
    "documents = text_splitter.create_documents(\n",
    "    [loaded_data[0].page_content, loaded_data[0].page_content],\n",
    "    metadatas=metadatas\n",
    ")\n",
    "documents[0].metadata\n",
    "documents[0].page_content"
   ]
  },
  {
   "cell_type": "code",
   "execution_count": 40,
   "metadata": {},
   "outputs": [
    {
     "data": {
      "text/plain": [
       "145"
      ]
     },
     "execution_count": 40,
     "metadata": {},
     "output_type": "execute_result"
    }
   ],
   "source": [
    "#Recursive character splitter\n",
    "from langchain_text_splitters import RecursiveCharacterTextSplitter\n",
    "\n",
    "recursive_splitter = RecursiveCharacterTextSplitter(\n",
    "    chunk_size=26,\n",
    "    chunk_overlap=4\n",
    ")\n",
    "recursive_documents = recursive_splitter.create_documents([loaded_data[0].page_content])\n",
    "len(recursive_documents)\n"
   ]
  },
  {
   "cell_type": "markdown",
   "metadata": {},
   "source": [
    "# 2. Embeddings"
   ]
  },
  {
   "cell_type": "markdown",
   "metadata": {},
   "source": [
    "Convert chunks of text into numbers"
   ]
  },
  {
   "cell_type": "code",
   "execution_count": 45,
   "metadata": {},
   "outputs": [],
   "source": [
    "from langchain_openai import OpenAIEmbeddings\n",
    "# tener el cuenta el coste de computacion más alto\n",
    "embeddings_model = OpenAIEmbeddings()"
   ]
  },
  {
   "cell_type": "code",
   "execution_count": 44,
   "metadata": {},
   "outputs": [
    {
     "data": {
      "text/plain": [
       "['Las islas Galápagos1\\u200b (también islas de las Galápagos y oficialmente conocidas como archipiélago de Colón1\\u200b o archipiélago de Galápagos)2\\u200b constituyen un archipiélago del océano Pacífico ubicado a 972 km de la costa de Ecuador.3\\u200b Fueron descubiertas en 1535 por la tripulación del barco del fray Tomás de Berlanga. Está conformado por trece islas grandes con una superficie mayor a 10 km², nueve islas medianas con una superficie de 1 km² a 10 km² y otros 107 islotes de tamaño pequeño, además de promontorios rocosos de pocos metros cuadrados, distribuidos alrededor de la línea ecuatorial, que conjuntamente con el Archipiélago Malayo, son los únicos archipiélagos del planeta que tienen territorio tanto en el hemisferio norte como en el hemisferio sur.',\n",
       " 'Las islas Galápagos son la segunda reserva marina más grande del planeta4\\u200b fueron declaradas Patrimonio de la Humanidad en 1978 por la Unesco. El archipiélago tiene como mayor fuente de ingresos el turismo y recibe 200 000 turistas al año.5\\u200b También se ha desarrollado el turismo ecológico con el fin de preservar las especies. La región fue el hábitat del Solitario George, el último espécimen de la especie tortuga gigante de Pinta, extinta el 24 de junio del 2012.6\\u200b Las islas también son hábitat de especies como tortugas marinas, delfines, tiburones, tiburones martillo, ballenas, arrecifes de coral, fragatas, iguanas, lagartos, cormoranes, albatros, leones marinos y pingüinos.7\\u200b Al igual que la masa continental de Ecuador, el archipiélago es atravesado por la línea ecuatorial, en su mayor parte por el norte de la isla Isabela. Galápagos es el segundo archipiélago con mayor actividad volcánica del planeta, superado únicamente por Hawái.8\\u200b Entra en la categoría de los puntos calientes; los volcanes más activos son Cerro Azul, Sierra Negra, Marchena y volcán La Cumbre en la Isla Fernandina, que es el más activo del archipiélago y uno de los más activos del mundo.9\\u200b',\n",
       " 'Las Galápagos son conocidas por sus numerosas especies endémicas y por los estudios de Charles Darwin que le llevaron a establecer su teoría de la evolución por la selección natural. Son llamadas, turísticamente, las Islas Encantadas, denominación que se ganó el archipiélago en el siglo xvi por su peculiar biodiversidad de flora y fauna.10\\u200b\\n\\nSe estima que la formación de la primera isla tuvo lugar hace más de cinco millones de años,11\\u200b como resultado de la actividad tectónica. Las islas más recientes, llamadas Isabela y Fernandina, están todavía en proceso de formación, habiéndose registrado la erupción volcánica más reciente en 2020.',\n",
       " 'Administrativamente, Galápagos constituye una de las provincias de Ecuador, conformada por tres cantones que llevan los nombres de sus islas más pobladas, a saber: San Cristóbal, Santa Cruz e Isabela. El 12 de febrero de 1832, bajo la presidencia de Juan José Flores, las islas Galápagos fueron anexadas a Ecuador. Desde el 18 de febrero de 1973 constituyen una provincia de este país.',\n",
       " 'Las islas Galápagos1\\u200b (también islas de las Galápagos y oficialmente conocidas como archipiélago de Colón1\\u200b o archipiélago de Galápagos)2\\u200b constituyen un archipiélago del océano Pacífico ubicado a 972 km de la costa de Ecuador.3\\u200b Fueron descubiertas en 1535 por la tripulación del barco del fray Tomás de Berlanga. Está conformado por trece islas grandes con una superficie mayor a 10 km², nueve islas medianas con una superficie de 1 km² a 10 km² y otros 107 islotes de tamaño pequeño, además de promontorios rocosos de pocos metros cuadrados, distribuidos alrededor de la línea ecuatorial, que conjuntamente con el Archipiélago Malayo, son los únicos archipiélagos del planeta que tienen territorio tanto en el hemisferio norte como en el hemisferio sur.',\n",
       " 'Las islas Galápagos son la segunda reserva marina más grande del planeta4\\u200b fueron declaradas Patrimonio de la Humanidad en 1978 por la Unesco. El archipiélago tiene como mayor fuente de ingresos el turismo y recibe 200 000 turistas al año.5\\u200b También se ha desarrollado el turismo ecológico con el fin de preservar las especies. La región fue el hábitat del Solitario George, el último espécimen de la especie tortuga gigante de Pinta, extinta el 24 de junio del 2012.6\\u200b Las islas también son hábitat de especies como tortugas marinas, delfines, tiburones, tiburones martillo, ballenas, arrecifes de coral, fragatas, iguanas, lagartos, cormoranes, albatros, leones marinos y pingüinos.7\\u200b Al igual que la masa continental de Ecuador, el archipiélago es atravesado por la línea ecuatorial, en su mayor parte por el norte de la isla Isabela. Galápagos es el segundo archipiélago con mayor actividad volcánica del planeta, superado únicamente por Hawái.8\\u200b Entra en la categoría de los puntos calientes; los volcanes más activos son Cerro Azul, Sierra Negra, Marchena y volcán La Cumbre en la Isla Fernandina, que es el más activo del archipiélago y uno de los más activos del mundo.9\\u200b',\n",
       " 'Las Galápagos son conocidas por sus numerosas especies endémicas y por los estudios de Charles Darwin que le llevaron a establecer su teoría de la evolución por la selección natural. Son llamadas, turísticamente, las Islas Encantadas, denominación que se ganó el archipiélago en el siglo xvi por su peculiar biodiversidad de flora y fauna.10\\u200b\\n\\nSe estima que la formación de la primera isla tuvo lugar hace más de cinco millones de años,11\\u200b como resultado de la actividad tectónica. Las islas más recientes, llamadas Isabela y Fernandina, están todavía en proceso de formación, habiéndose registrado la erupción volcánica más reciente en 2020.',\n",
       " 'Administrativamente, Galápagos constituye una de las provincias de Ecuador, conformada por tres cantones que llevan los nombres de sus islas más pobladas, a saber: San Cristóbal, Santa Cruz e Isabela. El 12 de febrero de 1832, bajo la presidencia de Juan José Flores, las islas Galápagos fueron anexadas a Ecuador. Desde el 18 de febrero de 1973 constituyen una provincia de este país.']"
      ]
     },
     "execution_count": 44,
     "metadata": {},
     "output_type": "execute_result"
    }
   ],
   "source": [
    "chunks_of_text = [x.page_content for x in documents]\n",
    "chunks_of_text"
   ]
  },
  {
   "cell_type": "code",
   "execution_count": 46,
   "metadata": {},
   "outputs": [],
   "source": [
    "embeddings = embeddings_model.embed_documents(chunks_of_text)"
   ]
  },
  {
   "cell_type": "code",
   "execution_count": 49,
   "metadata": {},
   "outputs": [
    {
     "data": {
      "text/plain": [
       "8"
      ]
     },
     "execution_count": 49,
     "metadata": {},
     "output_type": "execute_result"
    }
   ],
   "source": [
    "len(documents)"
   ]
  },
  {
   "cell_type": "code",
   "execution_count": 48,
   "metadata": {},
   "outputs": [
    {
     "data": {
      "text/plain": [
       "8"
      ]
     },
     "execution_count": 48,
     "metadata": {},
     "output_type": "execute_result"
    }
   ],
   "source": [
    "len(embeddings)"
   ]
  },
  {
   "cell_type": "markdown",
   "metadata": {},
   "source": [
    "Make an embbeding from a user query"
   ]
  },
  {
   "cell_type": "code",
   "execution_count": 52,
   "metadata": {},
   "outputs": [
    {
     "data": {
      "text/plain": [
       "1536"
      ]
     },
     "execution_count": 52,
     "metadata": {},
     "output_type": "execute_result"
    }
   ],
   "source": [
    "embedded_query = embeddings_model.embed_query(\"Cuantas islas forman las Galápagos?\")\n",
    "len(embedded_query)\n"
   ]
  },
  {
   "cell_type": "markdown",
   "metadata": {},
   "source": [
    "# 3. Vector Stores"
   ]
  },
  {
   "cell_type": "markdown",
   "metadata": {},
   "source": [
    "* Sotre embeddings in a very fast searchable database"
   ]
  },
  {
   "cell_type": "code",
   "execution_count": 54,
   "metadata": {},
   "outputs": [],
   "source": [
    "#!pip install langchain-chroma"
   ]
  },
  {
   "cell_type": "code",
   "execution_count": 73,
   "metadata": {},
   "outputs": [],
   "source": [
    "# import  vectorial database\n",
    "from langchain_chroma import Chroma\n",
    "\n",
    "vector_db = Chroma.from_documents(documents, OpenAIEmbeddings())"
   ]
  },
  {
   "cell_type": "code",
   "execution_count": 74,
   "metadata": {},
   "outputs": [
    {
     "name": "stdout",
     "output_type": "stream",
     "text": [
      "Las islas Galápagos1​ (también islas de las Galápagos y oficialmente conocidas como archipiélago de Colón1​ o archipiélago de Galápagos)2​ constituyen un archipiélago del océano Pacífico ubicado a 972 km de la costa de Ecuador.3​ Fueron descubiertas en 1535 por la tripulación del barco del fray Tomás de Berlanga. Está conformado por trece islas grandes con una superficie mayor a 10 km², nueve islas medianas con una superficie de 1 km² a 10 km² y otros 107 islotes de tamaño pequeño, además de promontorios rocosos de pocos metros cuadrados, distribuidos alrededor de la línea ecuatorial, que conjuntamente con el Archipiélago Malayo, son los únicos archipiélagos del planeta que tienen territorio tanto en el hemisferio norte como en el hemisferio sur.\n"
     ]
    }
   ],
   "source": [
    "question = \"Cuantas islas conforman las islas Galápagos?\"\n",
    "response = vector_db.similarity_search(question)\n",
    "print(response[0].page_content)"
   ]
  },
  {
   "cell_type": "code",
   "execution_count": 75,
   "metadata": {},
   "outputs": [
    {
     "data": {
      "text/plain": [
       "[Document(metadata={'chunk': 0}, page_content='Las islas Galápagos1\\u200b (también islas de las Galápagos y oficialmente conocidas como archipiélago de Colón1\\u200b o archipiélago de Galápagos)2\\u200b constituyen un archipiélago del océano Pacífico ubicado a 972 km de la costa de Ecuador.3\\u200b Fueron descubiertas en 1535 por la tripulación del barco del fray Tomás de Berlanga. Está conformado por trece islas grandes con una superficie mayor a 10 km², nueve islas medianas con una superficie de 1 km² a 10 km² y otros 107 islotes de tamaño pequeño, además de promontorios rocosos de pocos metros cuadrados, distribuidos alrededor de la línea ecuatorial, que conjuntamente con el Archipiélago Malayo, son los únicos archipiélagos del planeta que tienen territorio tanto en el hemisferio norte como en el hemisferio sur.'),\n",
       " Document(metadata={'chunk': 1}, page_content='Las islas Galápagos1\\u200b (también islas de las Galápagos y oficialmente conocidas como archipiélago de Colón1\\u200b o archipiélago de Galápagos)2\\u200b constituyen un archipiélago del océano Pacífico ubicado a 972 km de la costa de Ecuador.3\\u200b Fueron descubiertas en 1535 por la tripulación del barco del fray Tomás de Berlanga. Está conformado por trece islas grandes con una superficie mayor a 10 km², nueve islas medianas con una superficie de 1 km² a 10 km² y otros 107 islotes de tamaño pequeño, además de promontorios rocosos de pocos metros cuadrados, distribuidos alrededor de la línea ecuatorial, que conjuntamente con el Archipiélago Malayo, son los únicos archipiélagos del planeta que tienen territorio tanto en el hemisferio norte como en el hemisferio sur.'),\n",
       " Document(metadata={'chunk': 0}, page_content='Las islas Galápagos1\\u200b (también islas de las Galápagos y oficialmente conocidas como archipiélago de Colón1\\u200b o archipiélago de Galápagos)2\\u200b constituyen un archipiélago del océano Pacífico ubicado a 972 km de la costa de Ecuador.3\\u200b Fueron descubiertas en 1535 por la tripulación del barco del fray Tomás de Berlanga. Está conformado por trece islas grandes con una superficie mayor a 10 km², nueve islas medianas con una superficie de 1 km² a 10 km² y otros 107 islotes de tamaño pequeño, además de promontorios rocosos de pocos metros cuadrados, distribuidos alrededor de la línea ecuatorial, que conjuntamente con el Archipiélago Malayo, son los únicos archipiélagos del planeta que tienen territorio tanto en el hemisferio norte como en el hemisferio sur.'),\n",
       " Document(metadata={'chunk': 1}, page_content='Las islas Galápagos1\\u200b (también islas de las Galápagos y oficialmente conocidas como archipiélago de Colón1\\u200b o archipiélago de Galápagos)2\\u200b constituyen un archipiélago del océano Pacífico ubicado a 972 km de la costa de Ecuador.3\\u200b Fueron descubiertas en 1535 por la tripulación del barco del fray Tomás de Berlanga. Está conformado por trece islas grandes con una superficie mayor a 10 km², nueve islas medianas con una superficie de 1 km² a 10 km² y otros 107 islotes de tamaño pequeño, además de promontorios rocosos de pocos metros cuadrados, distribuidos alrededor de la línea ecuatorial, que conjuntamente con el Archipiélago Malayo, son los únicos archipiélagos del planeta que tienen territorio tanto en el hemisferio norte como en el hemisferio sur.')]"
      ]
     },
     "execution_count": 75,
     "metadata": {},
     "output_type": "execute_result"
    }
   ],
   "source": [
    "response"
   ]
  },
  {
   "cell_type": "markdown",
   "metadata": {},
   "source": [
    "# 4. Retrievers"
   ]
  },
  {
   "cell_type": "markdown",
   "metadata": {},
   "source": [
    "* Find the embedding that best answers your questions"
   ]
  },
  {
   "cell_type": "code",
   "execution_count": 63,
   "metadata": {},
   "outputs": [
    {
     "name": "stdout",
     "output_type": "stream",
     "text": [
      "Collecting faiss-cpu\n",
      "  Downloading faiss_cpu-1.8.0.post1-cp312-cp312-manylinux_2_17_x86_64.manylinux2014_x86_64.whl.metadata (3.7 kB)\n",
      "Requirement already satisfied: numpy<2.0,>=1.0 in /home/vonzipper/anaconda3/envs/llm_bootcamp/lib/python3.12/site-packages (from faiss-cpu) (1.26.4)\n",
      "Requirement already satisfied: packaging in /home/vonzipper/anaconda3/envs/llm_bootcamp/lib/python3.12/site-packages (from faiss-cpu) (24.1)\n",
      "Downloading faiss_cpu-1.8.0.post1-cp312-cp312-manylinux_2_17_x86_64.manylinux2014_x86_64.whl (27.0 MB)\n",
      "\u001b[2K   \u001b[90m━━━━━━━━━━━━━━━━━━━━━━━━━━━━━━━━━━━━━━━━\u001b[0m \u001b[32m27.0/27.0 MB\u001b[0m \u001b[31m8.0 MB/s\u001b[0m eta \u001b[36m0:00:00\u001b[0ma \u001b[36m0:00:01\u001b[0m\n",
      "\u001b[?25hInstalling collected packages: faiss-cpu\n",
      "Successfully installed faiss-cpu-1.8.0.post1\n"
     ]
    }
   ],
   "source": [
    "#!pip install faiss-cpu"
   ]
  },
  {
   "cell_type": "code",
   "execution_count": 76,
   "metadata": {},
   "outputs": [],
   "source": [
    "from langchain_community.vectorstores import FAISS\n",
    "\n",
    "vector_db = FAISS.from_documents(documents, OpenAIEmbeddings())"
   ]
  },
  {
   "cell_type": "code",
   "execution_count": 77,
   "metadata": {},
   "outputs": [],
   "source": [
    "retriever = vector_db.as_retriever()"
   ]
  },
  {
   "cell_type": "markdown",
   "metadata": {},
   "source": [
    "## Differences .similarity_search VS. .as_retriever()"
   ]
  },
  {
   "cell_type": "markdown",
   "metadata": {},
   "source": [
    "`.similarity_search` and `.as_retriever()` are both methods used in the context of document retrieval in machine learning, but they serve slightly different purposes:\n",
    "\n",
    "### `.similarity_search`:\n",
    "- **Purpose**: This method is used to find documents that are similar to a given query. It searches the entire document set to find those that have the highest similarity score to the query.\n",
    "- **Usage**: You would typically use `.similarity_search` when you want to directly retrieve a list of documents that are most similar to your input query.\n",
    "- **Output**: It returns a list of documents (or vectors) ranked by their similarity to the input query.\n",
    "\n",
    "### `.as_retriever()`:\n",
    "- **Purpose**: This method is often used to convert a document search tool into a retriever object that can be used in a larger pipeline, such as a question-answering system.\n",
    "- **Usage**: `.as_retriever()` wraps a similarity search model (or any other retrieval model) so that it can be used as part of a more complex chain or pipeline. It's a way to make the model compatible with systems that expect a retriever object.\n",
    "- **Output**: It returns a retriever object that can be used with other components like a language model, which will call it to retrieve relevant documents during processing.\n",
    "\n",
    "### Summary:\n",
    "- Use `.similarity_search` when you need to directly find and rank similar documents.\n",
    "- Use `.as_retriever()` when you want to integrate a similarity search model into a larger system that expects a retriever object.\n"
   ]
  },
  {
   "cell_type": "markdown",
   "metadata": {},
   "source": [
    "## Simple use without LCEL"
   ]
  },
  {
   "cell_type": "code",
   "execution_count": 78,
   "metadata": {},
   "outputs": [
    {
     "data": {
      "text/plain": [
       "4"
      ]
     },
     "execution_count": 78,
     "metadata": {},
     "output_type": "execute_result"
    }
   ],
   "source": [
    "response = retriever.invoke(question)\n",
    "len(response)"
   ]
  },
  {
   "cell_type": "code",
   "execution_count": 81,
   "metadata": {},
   "outputs": [
    {
     "data": {
      "text/plain": [
       "[Document(metadata={'chunk': 0}, page_content='Las islas Galápagos1\\u200b (también islas de las Galápagos y oficialmente conocidas como archipiélago de Colón1\\u200b o archipiélago de Galápagos)2\\u200b constituyen un archipiélago del océano Pacífico ubicado a 972 km de la costa de Ecuador.3\\u200b Fueron descubiertas en 1535 por la tripulación del barco del fray Tomás de Berlanga. Está conformado por trece islas grandes con una superficie mayor a 10 km², nueve islas medianas con una superficie de 1 km² a 10 km² y otros 107 islotes de tamaño pequeño, además de promontorios rocosos de pocos metros cuadrados, distribuidos alrededor de la línea ecuatorial, que conjuntamente con el Archipiélago Malayo, son los únicos archipiélagos del planeta que tienen territorio tanto en el hemisferio norte como en el hemisferio sur.'),\n",
       " Document(metadata={'chunk': 1}, page_content='Las islas Galápagos1\\u200b (también islas de las Galápagos y oficialmente conocidas como archipiélago de Colón1\\u200b o archipiélago de Galápagos)2\\u200b constituyen un archipiélago del océano Pacífico ubicado a 972 km de la costa de Ecuador.3\\u200b Fueron descubiertas en 1535 por la tripulación del barco del fray Tomás de Berlanga. Está conformado por trece islas grandes con una superficie mayor a 10 km², nueve islas medianas con una superficie de 1 km² a 10 km² y otros 107 islotes de tamaño pequeño, además de promontorios rocosos de pocos metros cuadrados, distribuidos alrededor de la línea ecuatorial, que conjuntamente con el Archipiélago Malayo, son los únicos archipiélagos del planeta que tienen territorio tanto en el hemisferio norte como en el hemisferio sur.'),\n",
       " Document(metadata={'chunk': 0}, page_content='Administrativamente, Galápagos constituye una de las provincias de Ecuador, conformada por tres cantones que llevan los nombres de sus islas más pobladas, a saber: San Cristóbal, Santa Cruz e Isabela. El 12 de febrero de 1832, bajo la presidencia de Juan José Flores, las islas Galápagos fueron anexadas a Ecuador. Desde el 18 de febrero de 1973 constituyen una provincia de este país.'),\n",
       " Document(metadata={'chunk': 1}, page_content='Administrativamente, Galápagos constituye una de las provincias de Ecuador, conformada por tres cantones que llevan los nombres de sus islas más pobladas, a saber: San Cristóbal, Santa Cruz e Isabela. El 12 de febrero de 1832, bajo la presidencia de Juan José Flores, las islas Galápagos fueron anexadas a Ecuador. Desde el 18 de febrero de 1973 constituyen una provincia de este país.')]"
      ]
     },
     "execution_count": 81,
     "metadata": {},
     "output_type": "execute_result"
    }
   ],
   "source": [
    "response"
   ]
  },
  {
   "cell_type": "code",
   "execution_count": 79,
   "metadata": {},
   "outputs": [
    {
     "data": {
      "text/plain": [
       "Document(metadata={'chunk': 0}, page_content='Las islas Galápagos1\\u200b (también islas de las Galápagos y oficialmente conocidas como archipiélago de Colón1\\u200b o archipiélago de Galápagos)2\\u200b constituyen un archipiélago del océano Pacífico ubicado a 972 km de la costa de Ecuador.3\\u200b Fueron descubiertas en 1535 por la tripulación del barco del fray Tomás de Berlanga. Está conformado por trece islas grandes con una superficie mayor a 10 km², nueve islas medianas con una superficie de 1 km² a 10 km² y otros 107 islotes de tamaño pequeño, además de promontorios rocosos de pocos metros cuadrados, distribuidos alrededor de la línea ecuatorial, que conjuntamente con el Archipiélago Malayo, son los únicos archipiélagos del planeta que tienen territorio tanto en el hemisferio norte como en el hemisferio sur.')"
      ]
     },
     "execution_count": 79,
     "metadata": {},
     "output_type": "execute_result"
    }
   ],
   "source": [
    "response[0]"
   ]
  },
  {
   "cell_type": "markdown",
   "metadata": {},
   "source": [
    "# Top K\n",
    "\n",
    "* Decide how many embeddings will be retrieved to build the answer to your question"
   ]
  },
  {
   "cell_type": "code",
   "execution_count": 83,
   "metadata": {},
   "outputs": [
    {
     "data": {
      "text/plain": [
       "1"
      ]
     },
     "execution_count": 83,
     "metadata": {},
     "output_type": "execute_result"
    }
   ],
   "source": [
    "retriever = vector_db.as_retriever(search_kwargs={\"k\":1})\n",
    "response = retriever.invoke(question)\n",
    "len(response)"
   ]
  },
  {
   "cell_type": "markdown",
   "metadata": {},
   "source": [
    "# Indexing\n",
    "    * Advanced way to manage and search through many documents in a vector store."
   ]
  },
  {
   "cell_type": "markdown",
   "metadata": {},
   "source": [
    "## Indexing\n",
    "LangChain Indexing an **advanced technique** designed to efficiently integrate and synchronize documents from various sources into a vector store. This is particularly useful for tasks like semantic searches, where the aim is to find documents with similar meanings rather than those that match on specific keywords.\n",
    "\n",
    "#### Core Features and Their Benefits\n",
    "1. **Avoiding Duplication:** By preventing the same content from being written multiple times into the vector store, the system conserves storage space and reduces redundancy.\n",
    "2. **Change Detection:** The API is designed to detect if a document has changed since the last index. If there are no changes, it avoids re-writing the document. This minimizes unnecessary write operations and saves computational resources.\n",
    "3. **Efficient Handling of Embeddings:** Embeddings for unchanged content are not recomputed, thus saving processing time and further enhancing system efficiency.\n",
    "\n",
    "#### Technical Mechanics: Record Management\n",
    "The `RecordManager` is a pivotal component of the LangChain indexing system. It meticulously records each document's write activity into the vector store. Here's how it works:\n",
    "- **Document Hash:** Every document is hashed. This hash includes both the content and metadata, providing a unique fingerprint for each document.\n",
    "- **Write Time and Source ID:** Alongside the hash, the time the document was written and a source identifier are also stored. The source ID helps trace the document back to its origin, ensuring traceability and accountability.\n",
    "\n",
    "These details are crucial for ensuring that only necessary data handling operations are carried out, thereby enhancing efficiency and reducing the workload on the system.\n",
    "\n",
    "#### Operational Efficiency and Cost Savings\n",
    "By integrating these features, LangChain indexing not only streamlines the management of document indices but also leads to significant cost savings. This is achieved by:\n",
    "- Reducing the frequency and volume of data written to and read from the vector store.\n",
    "- Decreasing the computational demand required for re-indexing and re-computing embeddings.\n",
    "- Improving the overall speed and relevance of vector search results, which is vital for applications requiring rapid and accurate data retrieval.\n",
    "\n",
    "#### Conclusion\n",
    "The LangChain indexing API is a sophisticated tool that leverages modern database and hashing technologies to manage and search through large volumes of digital documents efficiently. It is especially valuable in environments where accuracy, efficiency, and speed of data retrieval are crucial, such as in academic research, business intelligence, and various fields of software development. This technology not only supports effective data management but also promotes cost-effectiveness by optimizing resource utilization.\n",
    "\n",
    "* See the documentation page [here](https://python.langchain.com/v0.1/docs/modules/data_connection/indexing/)."
   ]
  },
  {
   "cell_type": "markdown",
   "metadata": {},
   "source": [
    "The Indexing API from LangChain is an advanced feature suitable for very experienced developers primarily due to its complexity and the sophisticated understanding required to implement and manage it effectively. Here's why, broken down into simpler terms:\n",
    "\n",
    "1. **Complex Integration**: The API is designed to handle documents from various sources and integrate them into a vector store for semantic searches. This requires understanding both the sources of the documents and the mechanics of vector stores, which deal with high-dimensional data representations.\n",
    "\n",
    "2. **Efficiency Management**: It involves sophisticated features like avoiding duplication of content, detecting changes in documents, and efficiently managing embeddings (data representations). These processes require a deep understanding of data structures, hashing, and optimization techniques to ensure the system is efficient and does not waste resources.\n",
    "\n",
    "3. **Technical Operations**:\n",
    "    - **Record Management**: The `RecordManager` component is crucial in tracking each document’s activity in the vector store, using detailed information such as document hashes, write times, and source IDs. This level of detail in record management necessitates familiarity with database operations, data integrity, and possibly cryptographic hashing.\n",
    "    - **Operational Efficiency and Cost Savings**: Implementing the indexing system effectively can lead to significant operational efficiencies and cost savings. However, this requires precise setup and tuning to reduce unnecessary computational demands and storage usage. Developers need to understand how to balance these factors to optimize performance and cost.\n",
    "\n",
    "4. **Advanced Use Cases**: The API supports complex scenarios such as rapid and accurate data retrieval needed in fields like academic research, business intelligence, and software development. Each of these applications might require specialized knowledge to fully leverage the potential of the indexing API.\n",
    "\n",
    "5. **Risk of Misimplementation**: Incorrect implementation can lead to inefficient data handling, increased operational costs, and slower retrieval times, which is why a high level of expertise is necessary to avoid potential pitfalls.\n",
    "\n",
    "In conclusion, the LangChain Indexing API is an advanced tool that involves detailed and complex processes to manage large volumes of data efficiently. Its use is recommended for developers who are very experienced because it requires a strong understanding of database systems, data efficiency, and system integration. Proper utilization can greatly enhance the performance and cost-effectiveness of systems that rely on fast and accurate data retrieval."
   ]
  },
  {
   "cell_type": "markdown",
   "metadata": {},
   "source": [
    "## A Simple Example\n",
    "The LangChain Indexing API is a sophisticated tool that helps integrate and manage large sets of documents efficiently. To make it clearer, let's consider a simple example that illustrates how it could be used:\n",
    "\n",
    "#### Example Scenario: Managing Research Papers in a University Database\n",
    "\n",
    "**Context**: Imagine you are developing a system for a university's library to manage and search through thousands of research papers. The goal is to allow students and faculty to quickly find papers relevant to their interests based on content similarity, not just by keywords.\n",
    "\n",
    "#### Step-by-Step Use of LangChain Indexing API:\n",
    "\n",
    "1. **Gathering Documents**:\n",
    "   - Collect digital copies of all research papers to be included in the system.\n",
    "   - These might come from various departments or sources within the university.\n",
    "\n",
    "2. **Integration into Vector Store**:\n",
    "   - Each research paper is converted into a \"vector\" using text embedding techniques. A vector is a numerical representation that captures the essence of the paper's content.\n",
    "   - These vectors are stored in a vector store, a specialized database for managing such data.\n",
    "\n",
    "3. **Avoiding Duplication**:\n",
    "   - As new papers are added, the LangChain Indexing API checks if a similar paper already exists in the vector store.\n",
    "   - It uses a hash (a unique identifier generated from the paper’s content and metadata) to prevent the same paper from being stored multiple times, saving space and reducing clutter.\n",
    "\n",
    "4. **Change Detection**:\n",
    "   - If a paper in the database is updated or revised, the API detects changes using the hash comparison.\n",
    "   - It updates the vector representation only if changes are detected, saving on unnecessary computational resources.\n",
    "\n",
    "5. **Search and Retrieval**:\n",
    "   - When a student queries the system looking for papers on a specific topic, like \"quantum computing applications,\" the API helps retrieve the most relevant papers.\n",
    "   - It does this by comparing the query's vector with those in the vector store and returning papers whose vectors are most similar in content, not just those that contain specific keywords.\n",
    "\n",
    "6. **Operational Efficiency**:\n",
    "   - The system is optimized to handle large volumes of data efficiently, ensuring quick responses even when multiple users are accessing it simultaneously.\n",
    "   - This efficiency is crucial during exam periods or when new research is published and interest peaks.\n",
    "\n",
    "#### Conclusion\n",
    "\n",
    "By using the LangChain Indexing API, the university library can manage its research papers more effectively, making them easily accessible based on content relevance. This leads to better research outcomes for students and faculty and maximizes the use of the library’s resources.\n",
    "\n",
    "This example demonstrates how the Indexing API not only simplifies the management of documents but also enhances the retrieval process, making it more aligned with the users' actual needs."
   ]
  }
 ],
 "metadata": {
  "kernelspec": {
   "display_name": "llm_bootcamp",
   "language": "python",
   "name": "python3"
  },
  "language_info": {
   "codemirror_mode": {
    "name": "ipython",
    "version": 3
   },
   "file_extension": ".py",
   "mimetype": "text/x-python",
   "name": "python",
   "nbconvert_exporter": "python",
   "pygments_lexer": "ipython3",
   "version": "3.12.4"
  }
 },
 "nbformat": 4,
 "nbformat_minor": 2
}

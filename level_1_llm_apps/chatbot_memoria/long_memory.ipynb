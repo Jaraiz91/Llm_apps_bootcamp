{
 "cells": [
  {
   "cell_type": "code",
   "execution_count": 20,
   "metadata": {},
   "outputs": [],
   "source": [
    "import warnings\n",
    "from langchain._api import LangChainDeprecationWarning\n",
    "\n",
    "warnings.simplefilter(\"ignore\", category=LangChainDeprecationWarning)"
   ]
  },
  {
   "cell_type": "code",
   "execution_count": 21,
   "metadata": {},
   "outputs": [],
   "source": [
    "import os\n",
    "from dotenv import load_dotenv,find_dotenv\n",
    "\n",
    "_ = load_dotenv(find_dotenv())\n",
    "openai_api_key = os.environ[\"OPENAI_API_KEY\"]"
   ]
  },
  {
   "cell_type": "code",
   "execution_count": 22,
   "metadata": {},
   "outputs": [],
   "source": [
    "from langchain_openai import ChatOpenAI\n",
    "\n",
    "chatbot = ChatOpenAI(model='gpt-3.5-turbo')"
   ]
  },
  {
   "cell_type": "code",
   "execution_count": 23,
   "metadata": {},
   "outputs": [],
   "source": [
    "from langchain_core.messages import HumanMessage\n",
    "\n",
    "messagesToTheChatbot = [\n",
    "    HumanMessage(content='my favourite color is blue')\n",
    "]"
   ]
  },
  {
   "cell_type": "code",
   "execution_count": 24,
   "metadata": {},
   "outputs": [
    {
     "data": {
      "text/plain": [
       "AIMessage(content='Blue is a calming and soothing color that represents tranquility and stability. It is often associated with feelings of peace and serenity. It is a versatile color that can be both bold and subtle, making it a popular choice for many people. What do you like most about the color blue?', additional_kwargs={'refusal': None}, response_metadata={'token_usage': {'completion_tokens': 58, 'prompt_tokens': 12, 'total_tokens': 70, 'completion_tokens_details': {'reasoning_tokens': 0}}, 'model_name': 'gpt-3.5-turbo-0125', 'system_fingerprint': None, 'finish_reason': 'stop', 'logprobs': None}, id='run-6b2dc70b-ad13-48e8-ba9d-699521b730de-0', usage_metadata={'input_tokens': 12, 'output_tokens': 58, 'total_tokens': 70})"
      ]
     },
     "execution_count": 24,
     "metadata": {},
     "output_type": "execute_result"
    }
   ],
   "source": [
    "chatbot.invoke(messagesToTheChatbot)"
   ]
  },
  {
   "cell_type": "code",
   "execution_count": 25,
   "metadata": {},
   "outputs": [
    {
     "data": {
      "text/plain": [
       "AIMessage(content=\"I'm sorry, I am not able to know your favorite color as I am an AI and do not have access to personal information.\", additional_kwargs={'refusal': None}, response_metadata={'token_usage': {'completion_tokens': 27, 'prompt_tokens': 13, 'total_tokens': 40, 'completion_tokens_details': {'reasoning_tokens': 0}}, 'model_name': 'gpt-3.5-turbo-0125', 'system_fingerprint': None, 'finish_reason': 'stop', 'logprobs': None}, id='run-c6014c4e-86b5-4675-943a-99dd1567b845-0', usage_metadata={'input_tokens': 13, 'output_tokens': 27, 'total_tokens': 40})"
      ]
     },
     "execution_count": 25,
     "metadata": {},
     "output_type": "execute_result"
    }
   ],
   "source": [
    "chatbot.invoke('what is my favourite color?')"
   ]
  },
  {
   "cell_type": "markdown",
   "metadata": {},
   "source": [
    "## Lets add memory to the chatbot"
   ]
  },
  {
   "cell_type": "code",
   "execution_count": 26,
   "metadata": {},
   "outputs": [],
   "source": [
    "from langchain_community.chat_message_histories import ChatMessageHistory\n",
    "from langchain_core.chat_history import BaseChatMessageHistory\n",
    "from langchain_core.runnables.history import RunnableWithMessageHistory\n",
    "\n",
    "chatbot_memory =  {}\n",
    "\n",
    "def get_session_history(session_id:str)->BaseChatMessageHistory:\n",
    "    if session_id not in chatbot_memory:\n",
    "        chatbot_memory[session_id] = ChatMessageHistory()\n",
    "    return chatbot_memory[session_id]\n",
    "\n",
    "chatbot_with_message_history = RunnableWithMessageHistory(\n",
    "    chatbot,\n",
    "    get_session_history\n",
    ")"
   ]
  },
  {
   "cell_type": "code",
   "execution_count": 27,
   "metadata": {},
   "outputs": [
    {
     "data": {
      "text/plain": [
       "\"Red is a bold and vibrant color that symbolizes passion, energy, and power. It is often associated with love, strength, and determination. This striking hue can evoke a range of emotions and make a strong visual impact. Whether it's a bold red dress, a vibrant red lipstick, or a fiery red sunset, there's something captivating about this color that always draws me in.\""
      ]
     },
     "execution_count": 27,
     "metadata": {},
     "output_type": "execute_result"
    }
   ],
   "source": [
    "session1 = { 'configurable': {'session_id': '001'}}\n",
    "\n",
    "responseFromChatbot = chatbot_with_message_history.invoke(\n",
    "    [HumanMessage(content='My favourite color is red')],\n",
    "    config=session1\n",
    ")\n",
    "responseFromChatbot.content"
   ]
  },
  {
   "cell_type": "code",
   "execution_count": 28,
   "metadata": {},
   "outputs": [
    {
     "data": {
      "text/plain": [
       "{'001': InMemoryChatMessageHistory(messages=[HumanMessage(content='My favourite color is red', additional_kwargs={}, response_metadata={}), AIMessage(content=\"Red is a bold and vibrant color that symbolizes passion, energy, and power. It is often associated with love, strength, and determination. This striking hue can evoke a range of emotions and make a strong visual impact. Whether it's a bold red dress, a vibrant red lipstick, or a fiery red sunset, there's something captivating about this color that always draws me in.\", additional_kwargs={'refusal': None}, response_metadata={'token_usage': {'completion_tokens': 77, 'prompt_tokens': 12, 'total_tokens': 89, 'completion_tokens_details': {'reasoning_tokens': 0}}, 'model_name': 'gpt-3.5-turbo-0125', 'system_fingerprint': None, 'finish_reason': 'stop', 'logprobs': None}, id='run-1a8075e9-a044-41fb-af57-36c746b76600-0', usage_metadata={'input_tokens': 12, 'output_tokens': 77, 'total_tokens': 89})])}"
      ]
     },
     "execution_count": 28,
     "metadata": {},
     "output_type": "execute_result"
    }
   ],
   "source": [
    "chatbot_memory"
   ]
  },
  {
   "cell_type": "code",
   "execution_count": 29,
   "metadata": {},
   "outputs": [],
   "source": [
    "responseFromChatbot = chatbot_with_message_history.invoke(\n",
    "    [HumanMessage(content='what is my favorite color?')],\n",
    "    config=session1\n",
    ")"
   ]
  },
  {
   "cell_type": "code",
   "execution_count": 30,
   "metadata": {},
   "outputs": [
    {
     "data": {
      "text/plain": [
       "\"I'm not sure what your favorite color is, as I don't have that information. Feel free to share with me your favorite color so I can learn more about your preferences!\""
      ]
     },
     "execution_count": 30,
     "metadata": {},
     "output_type": "execute_result"
    }
   ],
   "source": [
    "responseFromChatbot.content"
   ]
  },
  {
   "cell_type": "code",
   "execution_count": 31,
   "metadata": {},
   "outputs": [
    {
     "data": {
      "text/plain": [
       "\"I'm sorry, I do not have access to that information. Can you please tell me your favorite color?\""
      ]
     },
     "execution_count": 31,
     "metadata": {},
     "output_type": "execute_result"
    }
   ],
   "source": [
    "session2 = { 'configurable': {'session_id': '002'}}\n",
    "\n",
    "responseFromChatbot = chatbot_with_message_history.invoke(\n",
    "    [HumanMessage(content='what is my favourite color?')],\n",
    "    config=session2\n",
    ")\n",
    "responseFromChatbot.content"
   ]
  },
  {
   "cell_type": "code",
   "execution_count": 32,
   "metadata": {},
   "outputs": [
    {
     "data": {
      "text/plain": [
       "[HumanMessage(content='My favourite color is red', additional_kwargs={}, response_metadata={}),\n",
       " AIMessage(content=\"Red is a bold and vibrant color that symbolizes passion, energy, and power. It is often associated with love, strength, and determination. This striking hue can evoke a range of emotions and make a strong visual impact. Whether it's a bold red dress, a vibrant red lipstick, or a fiery red sunset, there's something captivating about this color that always draws me in.\", additional_kwargs={'refusal': None}, response_metadata={'token_usage': {'completion_tokens': 77, 'prompt_tokens': 12, 'total_tokens': 89, 'completion_tokens_details': {'reasoning_tokens': 0}}, 'model_name': 'gpt-3.5-turbo-0125', 'system_fingerprint': None, 'finish_reason': 'stop', 'logprobs': None}, id='run-1a8075e9-a044-41fb-af57-36c746b76600-0', usage_metadata={'input_tokens': 12, 'output_tokens': 77, 'total_tokens': 89}),\n",
       " HumanMessage(content='what is my favorite color?', additional_kwargs={}, response_metadata={}),\n",
       " AIMessage(content=\"I'm not sure what your favorite color is, as I don't have that information. Feel free to share with me your favorite color so I can learn more about your preferences!\", additional_kwargs={'refusal': None}, response_metadata={'token_usage': {'completion_tokens': 36, 'prompt_tokens': 103, 'total_tokens': 139, 'completion_tokens_details': {'reasoning_tokens': 0}}, 'model_name': 'gpt-3.5-turbo-0125', 'system_fingerprint': None, 'finish_reason': 'stop', 'logprobs': None}, id='run-79d1a085-e93d-48f7-b1c8-7adad9c86dcd-0', usage_metadata={'input_tokens': 103, 'output_tokens': 36, 'total_tokens': 139})]"
      ]
     },
     "execution_count": 32,
     "metadata": {},
     "output_type": "execute_result"
    }
   ],
   "source": [
    "chatbot_memory['001'].messages"
   ]
  },
  {
   "cell_type": "markdown",
   "metadata": {},
   "source": [
    "* **The memory of a chatbot is included in the context window of the LLM so, if left unmanaged, can potentialy overflow it**\n",
    "* **We are now going to learn how to limit the size of the memory of a chatbot**"
   ]
  },
  {
   "cell_type": "code",
   "execution_count": 33,
   "metadata": {},
   "outputs": [],
   "source": [
    "from langchain_core.runnables import RunnablePassthrough\n",
    "from langchain_core.prompts import ChatPromptTemplate,  MessagesPlaceholder\n",
    "\n",
    "def limited_memory_of_messages(messages, number_of_messages_to_keep=2):\n",
    "    print('MESSAGES:',messages[-number_of_messages_to_keep:] )\n",
    "    return messages[-number_of_messages_to_keep:]\n",
    "\n",
    "prompt = ChatPromptTemplate.from_messages(\n",
    "    [(\n",
    "        \"system\",\n",
    "        \"You are a helpful assistant. Answer all questions to the best of your capacities\"\n",
    "    ),\n",
    "    MessagesPlaceholder(variable_name='messages')]\n",
    ")\n",
    "\n",
    "limited_memory_chain = (\n",
    "    RunnablePassthrough.assign(messages=lambda x : limited_memory_of_messages(x['messages']))\n",
    "    | prompt\n",
    "    | chatbot\n",
    ")"
   ]
  },
  {
   "cell_type": "code",
   "execution_count": 34,
   "metadata": {},
   "outputs": [],
   "source": [
    "chatbot_with_limited_message_history = RunnableWithMessageHistory(\n",
    "    limited_memory_chain,\n",
    "    get_session_history,\n",
    "    input_messages_key='messages'\n",
    ")"
   ]
  },
  {
   "cell_type": "code",
   "execution_count": 35,
   "metadata": {},
   "outputs": [
    {
     "data": {
      "text/plain": [
       "\"Vespas are stylish and iconic Italian scooters known for their sleek design and vibrant colors. Many Vespas come in a range of eye-catching hues, from classic reds and blues to bold yellows and greens. The color of a Vespa can reflect the owner's personality and style, adding a fun and personalized touch to the scooter. It's great to hear that you enjoy Vespas and appreciate their unique design and colors!\""
      ]
     },
     "execution_count": 35,
     "metadata": {},
     "output_type": "execute_result"
    }
   ],
   "source": [
    "responseFromChatbot = chatbot_with_message_history.invoke(\n",
    "    [HumanMessage(content='I like Vespas')],\n",
    "    config=session1\n",
    ")\n",
    "responseFromChatbot.content"
   ]
  },
  {
   "cell_type": "code",
   "execution_count": 36,
   "metadata": {},
   "outputs": [
    {
     "data": {
      "text/plain": [
       "\"That's fantastic! Red Vespas are a classic choice and truly make a bold and stylish statement on the road. The vibrant red color adds a touch of flair and sophistication to the Vespa's already chic design. Riding a red Vespa can make you stand out in a crowd and exude confidence and individuality. It's great to hear that you have a preference for red-colored Vespas - it's a timeless choice that never goes out of style!\""
      ]
     },
     "execution_count": 36,
     "metadata": {},
     "output_type": "execute_result"
    }
   ],
   "source": [
    "responseFromChatbot = chatbot_with_message_history.invoke(\n",
    "    [HumanMessage(content='My favourite ones are red colored')],\n",
    "    config=session1\n",
    ")\n",
    "responseFromChatbot.content"
   ]
  },
  {
   "cell_type": "code",
   "execution_count": 37,
   "metadata": {},
   "outputs": [
    {
     "data": {
      "text/plain": [
       "\"That's wonderful! Cinema is a fascinating art form that has the power to entertain, inspire, and evoke a wide range of emotions. Whether you enjoy watching blockbuster films, independent movies, foreign films, or documentaries, there is something for everyone in the world of cinema. From classic black and white films to modern-day blockbusters, cinema offers a diverse array of stories, characters, and genres to explore. Do you have a favorite movie or genre that you particularly enjoy watching?\""
      ]
     },
     "execution_count": 37,
     "metadata": {},
     "output_type": "execute_result"
    }
   ],
   "source": [
    "responseFromChatbot = chatbot_with_message_history.invoke(\n",
    "    [HumanMessage(content='I like cinema')],\n",
    "    config=session1\n",
    ")\n",
    "responseFromChatbot.content"
   ]
  },
  {
   "cell_type": "code",
   "execution_count": 38,
   "metadata": {},
   "outputs": [
    {
     "name": "stdout",
     "output_type": "stream",
     "text": [
      "MESSAGES: [AIMessage(content=\"That's wonderful! Cinema is a fascinating art form that has the power to entertain, inspire, and evoke a wide range of emotions. Whether you enjoy watching blockbuster films, independent movies, foreign films, or documentaries, there is something for everyone in the world of cinema. From classic black and white films to modern-day blockbusters, cinema offers a diverse array of stories, characters, and genres to explore. Do you have a favorite movie or genre that you particularly enjoy watching?\", additional_kwargs={'refusal': None}, response_metadata={'token_usage': {'completion_tokens': 95, 'prompt_tokens': 360, 'total_tokens': 455, 'completion_tokens_details': {'reasoning_tokens': 0}}, 'model_name': 'gpt-3.5-turbo-0125', 'system_fingerprint': None, 'finish_reason': 'stop', 'logprobs': None}, id='run-0ca1458b-21ff-4853-933f-09ff4ae9507f-0', usage_metadata={'input_tokens': 360, 'output_tokens': 95, 'total_tokens': 455}), HumanMessage(content='what is my favourite color?', additional_kwargs={}, response_metadata={})]\n"
     ]
    },
    {
     "data": {
      "text/plain": [
       "\"I'm afraid I don't have access to personal information about you, so I wouldn't know what your favorite color is. If you'd like to share your favorite color with me, I'd be happy to discuss it with you or provide information related to that color.\""
      ]
     },
     "execution_count": 38,
     "metadata": {},
     "output_type": "execute_result"
    },
    {
     "ename": "",
     "evalue": "",
     "output_type": "error",
     "traceback": [
      "\u001b[1;31mThe Kernel crashed while executing code in the current cell or a previous cell. \n",
      "\u001b[1;31mPlease review the code in the cell(s) to identify a possible cause of the failure. \n",
      "\u001b[1;31mClick <a href='https://aka.ms/vscodeJupyterKernelCrash'>here</a> for more info. \n",
      "\u001b[1;31mView Jupyter <a href='command:jupyter.viewOutput'>log</a> for further details."
     ]
    }
   ],
   "source": [
    "responseFromChatbot = chatbot_with_limited_message_history.invoke(\n",
    "    {\n",
    "        'messages': [HumanMessage(content='what is my favourite color?')]\n",
    "    },\n",
    "    config=session1\n",
    ")\n",
    "responseFromChatbot.content"
   ]
  }
 ],
 "metadata": {
  "kernelspec": {
   "display_name": "llm",
   "language": "python",
   "name": "python3"
  },
  "language_info": {
   "codemirror_mode": {
    "name": "ipython",
    "version": 3
   },
   "file_extension": ".py",
   "mimetype": "text/x-python",
   "name": "python",
   "nbconvert_exporter": "python",
   "pygments_lexer": "ipython3",
   "version": "3.10.14"
  }
 },
 "nbformat": 4,
 "nbformat_minor": 2
}

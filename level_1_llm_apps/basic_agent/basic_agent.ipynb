{
 "cells": [
  {
   "cell_type": "markdown",
   "metadata": {},
   "source": [
    "# How to build a simple Agent LLM App with LangGraph\n",
    "* Very basic tool-using Agent LLM App with memory.\n",
    "\n",
    "Language models can't do anything on their own; they can only create text based on what you ask them. However, LangChain allows people to build agents—think of these as smart systems or helpers— that use language models to think and decide what to do next.\n",
    "\n",
    "Here’s how it works:\n",
    "1. **Use the Language Model as a Brain**: The agent uses the language model to figure out which actions it should take, based on the information it has or what you ask it to do.\n",
    "2. **Taking Action**: After deciding, the agent then goes ahead and does those actions.\n",
    "3. **Learning and Adjusting**: Once the actions are done, the results can be given back to the language model. This helps the model check if everything is complete or if it needs to do something else.\n",
    "\n",
    "So, essentially, LangChain helps turn a language model from just a tool for writing and answering into a system that can act and react, almost like a very simple robot brain.\n",
    "\n",
    "Here we will build an agent that can interact with a search engine. You will be able to ask this agent questions, watch it calling the search tool, and have conversations with it."
   ]
  },
  {
   "cell_type": "markdown",
   "metadata": {},
   "source": [
    "## Concepts included\n",
    "* [LangGraph](https://python.langchain.com/v0.2/docs/concepts/#langgraph).\n",
    "\n",
    "LangGraph is a library created by the LangChain team for building stateful, multi-actor applications with LLMs, used to create agent and multi-agent workflows."
   ]
  },
  {
   "cell_type": "code",
   "execution_count": 1,
   "metadata": {},
   "outputs": [],
   "source": [
    "import os\n",
    "from dotenv import load_dotenv, find_dotenv\n",
    "_ = load_dotenv(find_dotenv())\n",
    "openai_api_key = os.environ['OPENAI_API_KEY']"
   ]
  },
  {
   "cell_type": "code",
   "execution_count": 2,
   "metadata": {},
   "outputs": [],
   "source": [
    "from langchain_openai import ChatOpenAI\n",
    "\n",
    "llm = ChatOpenAI(model='gpt-3.5-turbo')"
   ]
  },
  {
   "cell_type": "markdown",
   "metadata": {},
   "source": [
    "### **Define tools**"
   ]
  },
  {
   "cell_type": "code",
   "execution_count": 5,
   "metadata": {},
   "outputs": [
    {
     "data": {
      "text/plain": [
       "[{'url': 'https://www.nbcnewyork.com/news/sports/soccer/spain-england-euro-final-score-result/5595340/?os=vb_&ref=app',\n",
       "  'content': 'Spain is back on top.. La Furia Roja on Sunday claimed the Euro 2024 trophy after topping England 2-1 in the final. It marked consecutive Euro final losses for the Three Lions after they fell to ...'},\n",
       " {'url': 'https://www.nbcnews.com/news/sports/spain-england-euro-final-recap-rcna161803',\n",
       "  'content': 'July 14, 2024, 2:04 PM PDT. By Greg Rosenstein. Champions of Europe once again. Spain defeated England 2-1 on Sunday in Berlin to claim the European Championship. The result was its fourth ...'}]"
      ]
     },
     "execution_count": 5,
     "metadata": {},
     "output_type": "execute_result"
    }
   ],
   "source": [
    "from langchain_community.tools.tavily_search import TavilySearchResults\n",
    "search = TavilySearchResults(max_results=2)\n",
    "search.invoke('who won the 2024 Eurocup?')"
   ]
  },
  {
   "cell_type": "code",
   "execution_count": 6,
   "metadata": {},
   "outputs": [],
   "source": [
    "#define list of tools for the agent\n",
    "tools=[search]"
   ]
  },
  {
   "cell_type": "markdown",
   "metadata": {},
   "source": [
    "* **In order to enable this model to do tool calling we use ,bind_tools** to give the language model knowledge of these tools:"
   ]
  },
  {
   "cell_type": "code",
   "execution_count": 8,
   "metadata": {},
   "outputs": [],
   "source": [
    "llm_with_tools = llm.bind_tools(tools)"
   ]
  },
  {
   "cell_type": "markdown",
   "metadata": {},
   "source": [
    "### **Create the Agent**"
   ]
  },
  {
   "cell_type": "markdown",
   "metadata": {},
   "source": [
    "## Create the agent\n",
    "* We will be using LangGraph to construct the agent. \n",
    "* **Note that below we are passing in the origina chat model, not the llm_with_tools we built later**. That is because create_tool_calling_executor will call .bind_tools for us under the hood."
   ]
  },
  {
   "cell_type": "code",
   "execution_count": 11,
   "metadata": {},
   "outputs": [],
   "source": [
    "from langgraph.prebuilt import create_react_agent\n",
    "\n",
    "agent_executor = create_react_agent(llm,tools)"
   ]
  },
  {
   "cell_type": "markdown",
   "metadata": {},
   "source": [
    "### **Run the agent**\n",
    "\n",
    "\n",
    "* lets first try it with .invoke()"
   ]
  },
  {
   "cell_type": "code",
   "execution_count": 15,
   "metadata": {},
   "outputs": [
    {
     "data": {
      "text/plain": [
       "[HumanMessage(content='where is the soccer Eurocup 2024 played', additional_kwargs={}, response_metadata={}, id='9ebdd1ec-3d10-4e19-a625-2c167db27193'),\n",
       " AIMessage(content='', additional_kwargs={'tool_calls': [{'id': 'call_mPq5IgUBOydNKR1Mu2nZqbBJ', 'function': {'arguments': '{\"query\":\"Soccer Eurocup 2024 location\"}', 'name': 'tavily_search_results_json'}, 'type': 'function'}], 'refusal': None}, response_metadata={'token_usage': {'completion_tokens': 25, 'prompt_tokens': 91, 'total_tokens': 116, 'completion_tokens_details': {'reasoning_tokens': 0}}, 'model_name': 'gpt-3.5-turbo-0125', 'system_fingerprint': None, 'finish_reason': 'tool_calls', 'logprobs': None}, id='run-4f5dc838-a249-47af-a43c-7a857558741d-0', tool_calls=[{'name': 'tavily_search_results_json', 'args': {'query': 'Soccer Eurocup 2024 location'}, 'id': 'call_mPq5IgUBOydNKR1Mu2nZqbBJ', 'type': 'tool_call'}], usage_metadata={'input_tokens': 91, 'output_tokens': 25, 'total_tokens': 116}),\n",
       " ToolMessage(content='[{\"url\": \"https://www.foxsports.com/stories/soccer/euro-2024-locations-host-cities-and-stadiums\", \"content\": \"Euro 2024 Locations and Stadiums. Below is a list of the 2024 host cities as well as their stadiums and capacities: Berlin: Olympiastadion Berlin (Capacity: 74,461) Cologne: Cologne Stadium ...\"}, {\"url\": \"https://apnews.com/article/euro-2024-germany-stadiums-9b6953fa87d168a754df5b2480b75010\", \"content\": \"File - The Cologne Stadium is pictured in Cologne, Germany, Wednesday, April 24, 2024. The European Championship in Germany is all about tried and tested stadiums with a rich soccer history. Unlike at some recent World Cups, there\\'s been no rush to finish stadiums on time. (AP Photo/Martin Meissner, File) Read More.\"}]', name='tavily_search_results_json', id='1e7243ef-74f4-4879-bdf9-97392d3c3973', tool_call_id='call_mPq5IgUBOydNKR1Mu2nZqbBJ', artifact={'query': 'Soccer Eurocup 2024 location', 'follow_up_questions': None, 'answer': None, 'images': [], 'results': [{'title': 'Euro 2024 locations, host cities and stadiums - FOX Sports', 'url': 'https://www.foxsports.com/stories/soccer/euro-2024-locations-host-cities-and-stadiums', 'content': 'Euro 2024 Locations and Stadiums. Below is a list of the 2024 host cities as well as their stadiums and capacities: Berlin: Olympiastadion Berlin (Capacity: 74,461) Cologne: Cologne Stadium ...', 'score': 0.99910307, 'raw_content': None}, {'title': 'Euro 2024: Guide to the 10 stadiums across Germany and their games', 'url': 'https://apnews.com/article/euro-2024-germany-stadiums-9b6953fa87d168a754df5b2480b75010', 'content': \"File - The Cologne Stadium is pictured in Cologne, Germany, Wednesday, April 24, 2024. The European Championship in Germany is all about tried and tested stadiums with a rich soccer history. Unlike at some recent World Cups, there's been no rush to finish stadiums on time. (AP Photo/Martin Meissner, File) Read More.\", 'score': 0.99588215, 'raw_content': None}], 'response_time': 2.38}),\n",
       " AIMessage(content='The Soccer Eurocup 2024 will be played in Germany. The host cities and stadiums for Euro 2024 are as follows:\\n\\n1. Berlin: Olympiastadion Berlin (Capacity: 74,461)\\n2. Cologne: Cologne Stadium\\n\\nThese are some of the locations where the Eurocup 2024 matches will take place.', additional_kwargs={'refusal': None}, response_metadata={'token_usage': {'completion_tokens': 71, 'prompt_tokens': 331, 'total_tokens': 402, 'completion_tokens_details': {'reasoning_tokens': 0}}, 'model_name': 'gpt-3.5-turbo-0125', 'system_fingerprint': None, 'finish_reason': 'stop', 'logprobs': None}, id='run-ea22d8c3-eb72-4c40-baee-2ff75c2a580f-0', usage_metadata={'input_tokens': 331, 'output_tokens': 71, 'total_tokens': 402})]"
      ]
     },
     "execution_count": 15,
     "metadata": {},
     "output_type": "execute_result"
    }
   ],
   "source": [
    "from langchain_core.messages import HumanMessage\n",
    "\n",
    "response = agent_executor.invoke({\n",
    "    'messages': [HumanMessage(content='where is the soccer Eurocup 2024 played')]\n",
    "})\n",
    "\n",
    "response['messages']"
   ]
  },
  {
   "cell_type": "code",
   "execution_count": 16,
   "metadata": {},
   "outputs": [
    {
     "name": "stdout",
     "output_type": "stream",
     "text": [
      "{'agent': {'messages': [AIMessage(content='', additional_kwargs={'tool_calls': [{'id': 'call_X6Wf5qRMxN1RWjZV2IxFUtry', 'function': {'arguments': '{\"query\":\"2024 Eurocup final match date and location\"}', 'name': 'tavily_search_results_json'}, 'type': 'function'}], 'refusal': None}, response_metadata={'token_usage': {'completion_tokens': 26, 'prompt_tokens': 94, 'total_tokens': 120, 'completion_tokens_details': {'reasoning_tokens': 0}}, 'model_name': 'gpt-3.5-turbo-0125', 'system_fingerprint': None, 'finish_reason': 'tool_calls', 'logprobs': None}, id='run-7b723055-b53c-4a58-88ed-4f9ebcf3413f-0', tool_calls=[{'name': 'tavily_search_results_json', 'args': {'query': '2024 Eurocup final match date and location'}, 'id': 'call_X6Wf5qRMxN1RWjZV2IxFUtry', 'type': 'tool_call'}], usage_metadata={'input_tokens': 94, 'output_tokens': 26, 'total_tokens': 120})]}}\n",
      "--------\n",
      "{'tools': {'messages': [ToolMessage(content='[{\"url\": \"https://en.wikipedia.org/wiki/UEFA_Euro_2024_Final\", \"content\": \"The UEFA Euro 2024 final was a football match that determined the winners of UEFA Euro 2024.The match was the seventeenth final of the European Championship, a quadrennial tournament contested by the men\\'s national teams of the member associations of UEFA to decide the champions of Europe. The match was held at the Olympiastadion in Berlin, Germany, on 14 July 2024, and was contested by Spain ...\"}, {\"url\": \"https://www.uefa.com/euro2024/news/0284-18bb952a9458-2a9e1ff202c4-1000--euro-2024-final-when-and-where-is-it/\", \"content\": \"The UEFA EURO 2024 final was played on Sunday 14 July, kicking off at 21:00 CET. The final: all the reaction. The match took place at Olympiastadion Berlin, the biggest stadium at the tournament ...\"}]', name='tavily_search_results_json', id='e60542d1-a8ab-4e92-8ac2-d4ff0d4b7e6c', tool_call_id='call_X6Wf5qRMxN1RWjZV2IxFUtry', artifact={'query': '2024 Eurocup final match date and location', 'follow_up_questions': None, 'answer': None, 'images': [], 'results': [{'title': 'UEFA Euro 2024 final - Wikipedia', 'url': 'https://en.wikipedia.org/wiki/UEFA_Euro_2024_Final', 'content': \"The UEFA Euro 2024 final was a football match that determined the winners of UEFA Euro 2024.The match was the seventeenth final of the European Championship, a quadrennial tournament contested by the men's national teams of the member associations of UEFA to decide the champions of Europe. The match was held at the Olympiastadion in Berlin, Germany, on 14 July 2024, and was contested by Spain ...\", 'score': 0.9991474, 'raw_content': None}, {'title': 'EURO 2024 final: Who was in it? When and where was it?', 'url': 'https://www.uefa.com/euro2024/news/0284-18bb952a9458-2a9e1ff202c4-1000--euro-2024-final-when-and-where-is-it/', 'content': 'The UEFA EURO 2024 final was played on Sunday 14 July, kicking off at 21:00 CET. The final: all the reaction. The match took place at Olympiastadion Berlin, the biggest stadium at the tournament ...', 'score': 0.99879813, 'raw_content': None}], 'response_time': 2.18})]}}\n",
      "--------\n",
      "{'agent': {'messages': [AIMessage(content='The 2024 Eurocup final match was held at the Olympiastadion in Berlin, Germany, on 14 July 2024.', additional_kwargs={'refusal': None}, response_metadata={'token_usage': {'completion_tokens': 31, 'prompt_tokens': 357, 'total_tokens': 388, 'completion_tokens_details': {'reasoning_tokens': 0}}, 'model_name': 'gpt-3.5-turbo-0125', 'system_fingerprint': None, 'finish_reason': 'stop', 'logprobs': None}, id='run-75e53619-b5d5-417d-8c80-e47896d31206-0', usage_metadata={'input_tokens': 357, 'output_tokens': 31, 'total_tokens': 388})]}}\n",
      "--------\n"
     ]
    }
   ],
   "source": [
    "for chunk in agent_executor.stream(\n",
    "    {'messages': [HumanMessage(content='when and where was the 2024 Eurocup final match?')]}\n",
    "):\n",
    "    print(chunk)\n",
    "    print('--------')"
   ]
  },
  {
   "cell_type": "markdown",
   "metadata": {},
   "source": [
    "### **Adding memory**\n",
    "\n",
    "* Adding memory in LangGraph is very similar to what we did with LangChain"
   ]
  },
  {
   "cell_type": "code",
   "execution_count": 18,
   "metadata": {},
   "outputs": [],
   "source": [
    "from langgraph.checkpoint.memory import MemorySaver\n",
    "\n",
    "memory = MemorySaver()\n",
    "agent_executor = create_react_agent(llm,tools,checkpointer=memory)\n",
    "config = {'configurable': {'thread_id': '001'}} "
   ]
  },
  {
   "cell_type": "code",
   "execution_count": 22,
   "metadata": {},
   "outputs": [
    {
     "name": "stdout",
     "output_type": "stream",
     "text": [
      "{'agent': {'messages': [AIMessage(content='', additional_kwargs={'tool_calls': [{'id': 'call_VUhMmDEjZfDYWaoYeykZ527u', 'function': {'arguments': '{\"query\":\"2024 Eurocup winner\"}', 'name': 'tavily_search_results_json'}, 'type': 'function'}], 'refusal': None}, response_metadata={'token_usage': {'completion_tokens': 22, 'prompt_tokens': 90, 'total_tokens': 112, 'completion_tokens_details': {'reasoning_tokens': 0}}, 'model_name': 'gpt-3.5-turbo-0125', 'system_fingerprint': None, 'finish_reason': 'tool_calls', 'logprobs': None}, id='run-70c04385-4bce-4a88-95f9-b785ed3febcd-0', tool_calls=[{'name': 'tavily_search_results_json', 'args': {'query': '2024 Eurocup winner'}, 'id': 'call_VUhMmDEjZfDYWaoYeykZ527u', 'type': 'tool_call'}], usage_metadata={'input_tokens': 90, 'output_tokens': 22, 'total_tokens': 112})]}}\n",
      "---------------\n",
      "{'tools': {'messages': [ToolMessage(content='[{\"url\": \"https://www.usatoday.com/story/sports/soccer/europe/2024/07/14/england-vs-spain-euro-2024-odds-prediction-highlights-result/74399785007/\", \"content\": \"0:00. 1:24. Spain won its record fourth European soccer championship, getting an 86th-minute goal from Mikel Oyarzabal to beat England in the Euro 2024 final on Sunday in Berlin. Spain won all ...\"}, {\"url\": \"https://www.uefa.com/euro2024/news/028f-1b4e4a9a6d42-253a2c18efdf-1000--uefa-euro-2024-meet-the-winners/\", \"content\": \"How they got there, top scorers, pedigree, key players and the coach - all you need to know about UEFA EURO 2024 winners Spain. Group B winners 3-0 vs Croatia (Berlin, 15 June) 1-0 vs Italy ...\"}]', name='tavily_search_results_json', id='f1218513-0564-4708-aa07-a3f87e69f4ee', tool_call_id='call_VUhMmDEjZfDYWaoYeykZ527u', artifact={'query': '2024 Eurocup winner', 'follow_up_questions': None, 'answer': None, 'images': [], 'results': [{'title': 'England vs Spain recap: Mikel Oyarzabal goal wins UEFA Euro 2024', 'url': 'https://www.usatoday.com/story/sports/soccer/europe/2024/07/14/england-vs-spain-euro-2024-odds-prediction-highlights-result/74399785007/', 'content': '0:00. 1:24. Spain won its record fourth European soccer championship, getting an 86th-minute goal from Mikel Oyarzabal to beat England in the Euro 2024 final on Sunday in Berlin. Spain won all ...', 'score': 0.9950755, 'raw_content': None}, {'title': 'UEFA EURO 2024: Meet the winners', 'url': 'https://www.uefa.com/euro2024/news/028f-1b4e4a9a6d42-253a2c18efdf-1000--uefa-euro-2024-meet-the-winners/', 'content': 'How they got there, top scorers, pedigree, key players and the coach - all you need to know about UEFA EURO 2024 winners Spain. Group B winners 3-0 vs Croatia (Berlin, 15 June) 1-0 vs Italy ...', 'score': 0.99453074, 'raw_content': None}], 'response_time': 2.37})]}}\n",
      "---------------\n",
      "{'agent': {'messages': [AIMessage(content='Spain won the 2024 Eurocup, defeating England in the final with a goal from Mikel Oyarzabal. Spain secured its record fourth European soccer championship.', additional_kwargs={'refusal': None}, response_metadata={'token_usage': {'completion_tokens': 35, 'prompt_tokens': 348, 'total_tokens': 383, 'completion_tokens_details': {'reasoning_tokens': 0}}, 'model_name': 'gpt-3.5-turbo-0125', 'system_fingerprint': None, 'finish_reason': 'stop', 'logprobs': None}, id='run-c6af2bea-21ac-4b4a-96af-2243d853e052-0', usage_metadata={'input_tokens': 348, 'output_tokens': 35, 'total_tokens': 383})]}}\n",
      "---------------\n"
     ]
    }
   ],
   "source": [
    "for chunk in agent_executor.stream(\n",
    "    {'messages': HumanMessage(content='Who won the 2024 Eurocup?')}, config\n",
    "):\n",
    "    print(chunk)\n",
    "    print('---------------')"
   ]
  },
  {
   "cell_type": "code",
   "execution_count": 23,
   "metadata": {},
   "outputs": [
    {
     "name": "stdout",
     "output_type": "stream",
     "text": [
      "{'agent': {'messages': [AIMessage(content='', additional_kwargs={'tool_calls': [{'id': 'call_Vcch7MG4MgmKlxh0LqUFJzzm', 'function': {'arguments': '{\"query\":\"top rated players Eurocup 2024\"}', 'name': 'tavily_search_results_json'}, 'type': 'function'}], 'refusal': None}, response_metadata={'token_usage': {'completion_tokens': 25, 'prompt_tokens': 396, 'total_tokens': 421, 'completion_tokens_details': {'reasoning_tokens': 0}}, 'model_name': 'gpt-3.5-turbo-0125', 'system_fingerprint': None, 'finish_reason': 'tool_calls', 'logprobs': None}, id='run-8b8e6789-c16d-45a8-8b18-c847bd748677-0', tool_calls=[{'name': 'tavily_search_results_json', 'args': {'query': 'top rated players Eurocup 2024'}, 'id': 'call_Vcch7MG4MgmKlxh0LqUFJzzm', 'type': 'tool_call'}], usage_metadata={'input_tokens': 396, 'output_tokens': 25, 'total_tokens': 421})]}}\n",
      "---------------\n",
      "{'tools': {'messages': [ToolMessage(content='[{\"url\": \"https://www.nbcsports.com/soccer/news/euro-2024-player-power-rankings-who-are-the-top-20-stars\", \"content\": \"EURO 2024 player Power Rankings . 20. Giorgi Mamardashvili (Georgia) 19. Khvicha Kvaratskhelia (Georgia) 18. Hakan Calhanoglu (Turkey) 17. Lamine Yamal (Spain)\"}, {\"url\": \"https://www.90min.com/features/best-players-euro-2024-24-20-ranked\", \"content\": \"So what better way to get things going than with the 24th, 23rd, 22nd, 21st and 20th best players on show at Euro 2024? Let the fun commence... 24. Ruben Dias. Top defender / ATPImages/GettyImages.\"}]', name='tavily_search_results_json', id='6b6dc21e-769f-4719-bbde-e55578087c33', tool_call_id='call_Vcch7MG4MgmKlxh0LqUFJzzm', artifact={'query': 'top rated players Eurocup 2024', 'follow_up_questions': None, 'answer': None, 'images': [], 'results': [{'title': 'EURO 2024 player Power Rankings: Who are the top 20 stars?', 'url': 'https://www.nbcsports.com/soccer/news/euro-2024-player-power-rankings-who-are-the-top-20-stars', 'content': 'EURO 2024 player Power Rankings . 20. Giorgi Mamardashvili (Georgia) 19. Khvicha Kvaratskhelia (Georgia) 18. Hakan Calhanoglu (Turkey) 17. Lamine Yamal (Spain)', 'score': 0.996503, 'raw_content': None}, {'title': 'The best players at Euro 2024: 24-20 - ranked - 90min', 'url': 'https://www.90min.com/features/best-players-euro-2024-24-20-ranked', 'content': 'So what better way to get things going than with the 24th, 23rd, 22nd, 21st and 20th best players on show at Euro 2024? Let the fun commence... 24. Ruben Dias. Top defender / ATPImages/GettyImages.', 'score': 0.86408126, 'raw_content': None}], 'response_time': 2.05})]}}\n",
      "---------------\n",
      "{'agent': {'messages': [AIMessage(content='Some of the top-rated players in the Eurocup 2024 were:\\n\\n1. Giorgi Mamardashvili (Georgia)\\n2. Khvicha Kvaratskhelia (Georgia)\\n3. Hakan Calhanoglu (Turkey)\\n4. Lamine Yamal (Spain)\\n5. Ruben Dias', additional_kwargs={'refusal': None}, response_metadata={'token_usage': {'completion_tokens': 66, 'prompt_tokens': 623, 'total_tokens': 689, 'completion_tokens_details': {'reasoning_tokens': 0}}, 'model_name': 'gpt-3.5-turbo-0125', 'system_fingerprint': None, 'finish_reason': 'stop', 'logprobs': None}, id='run-0b33ac3a-fcb5-4fc2-b84b-d11b2d98b9f1-0', usage_metadata={'input_tokens': 623, 'output_tokens': 66, 'total_tokens': 689})]}}\n",
      "---------------\n"
     ]
    }
   ],
   "source": [
    "for chunk in agent_executor.stream(\n",
    "    {'messages': HumanMessage(content='Who where top rated players?')}, config\n",
    "):\n",
    "    print(chunk)\n",
    "    print('---------------')"
   ]
  },
  {
   "cell_type": "markdown",
   "metadata": {},
   "source": [
    "**Same question with new thread to see context is not used**"
   ]
  },
  {
   "cell_type": "code",
   "execution_count": 24,
   "metadata": {},
   "outputs": [
    {
     "name": "stdout",
     "output_type": "stream",
     "text": [
      "{'agent': {'messages': [AIMessage(content='', additional_kwargs={'tool_calls': [{'id': 'call_jyR73NUROzxrED5nGjnAXZgH', 'function': {'arguments': '{\"query\":\"top rated football players\"}', 'name': 'tavily_search_results_json'}, 'type': 'function'}], 'refusal': None}, response_metadata={'token_usage': {'completion_tokens': 21, 'prompt_tokens': 87, 'total_tokens': 108, 'completion_tokens_details': {'reasoning_tokens': 0}}, 'model_name': 'gpt-3.5-turbo-0125', 'system_fingerprint': None, 'finish_reason': 'tool_calls', 'logprobs': None}, id='run-817c8f45-607c-4e7d-9418-2614a5fc5c4d-0', tool_calls=[{'name': 'tavily_search_results_json', 'args': {'query': 'top rated football players'}, 'id': 'call_jyR73NUROzxrED5nGjnAXZgH', 'type': 'tool_call'}], usage_metadata={'input_tokens': 87, 'output_tokens': 21, 'total_tokens': 108})]}}\n",
      "---------------\n",
      "{'tools': {'messages': [ToolMessage(content='[{\"url\": \"https://www.givemesport.com/best-football-players-in-the-world/\", \"content\": \"Top 25 Footballers in the World Right Now. Rank. Player. Club. Country. 1. Rodri. Manchester City. Spain. 2. Vinicius Junior. Real Madrid. Brazil. 3. Kylian Mbappe ...\"}, {\"url\": \"https://www.nfl.com/news/top-100-players-of-2021-nos-10-1-chiefs-qb-patrick-mahomes-reigns-as-no-1-ranked\", \"content\": \"Which players joined Vikings QB Kirk Cousins from Nos. 50-41?\\\\nTop 100 Players of 2023, Nos. 60-51: Aaron Rodgers drops 48 spots ahead of first season with Jets\\\\nIt\\'s that time of year again, when NFL players cast their votes to identify the best in the league heading into the 2023 NFL season. Which players joined Saquon Barkley and Christian McCaffrey from Nos. 40-31?\\\\nTop 100 Players of 2023, Nos. 50-41: Kirk Cousins earns career-high ranking; Cooper Kupp drops\\\\nIt\\'s that time of year again, when NFL players cast their votes to identify the best in the league heading into the 2023 NFL season. Which players joined Jets CB Sauce Gardner from Nos. 30-21?\\\\nTop 100 Players of 2023, Nos. 40-31: Saquon Barkley, Christian McCaffrey return to ranking\\\\nIt\\'s that time of year again, when NFL players cast their votes to identify the best in the league heading into the 2023 NFL season. Which players joined Chiefs QB Patrick Mahomes from Nos. 10-1?\\\\nTop 100 Players of 2023, Nos. 20-11: Josh Jacobs leads three Raiders; Aaron Donald drops down\\\\nIt\\'s that time of year again, when NFL players cast their votes to identify the best in the league heading into the 2023 NFL season. Which players joined Jets QB Aaron Rodgers from Nos. 60-51?\\\\nTop 100 Players of 2023, Nos. 70-61: Jared Goff, Amon-Ra St. Brown rep Lions; Deebo Samuel drops\\\\nIt\\'s that time of year again, when NFL players cast their votes to identify the best in the league heading into the 2023 NFL season.\"}]', name='tavily_search_results_json', id='87bcda52-38a0-4a50-92f9-4f2fadad5ecb', tool_call_id='call_jyR73NUROzxrED5nGjnAXZgH', artifact={'query': 'top rated football players', 'follow_up_questions': None, 'answer': None, 'images': [], 'results': [{'title': '25 Best Footballers in the World (2024) - GiveMeSport', 'url': 'https://www.givemesport.com/best-football-players-in-the-world/', 'content': 'Top 25 Footballers in the World Right Now. Rank. Player. Club. Country. 1. Rodri. Manchester City. Spain. 2. Vinicius Junior. Real Madrid. Brazil. 3. Kylian Mbappe ...', 'score': 0.89256257, 'raw_content': None}, {'title': 'Top 100 Players of 2021, Nos. 10-1: Chiefs QB Patrick Mahomes ... - NFL.com', 'url': 'https://www.nfl.com/news/top-100-players-of-2021-nos-10-1-chiefs-qb-patrick-mahomes-reigns-as-no-1-ranked', 'content': \"Which players joined Vikings QB Kirk Cousins from Nos. 50-41?\\nTop 100 Players of 2023, Nos. 60-51: Aaron Rodgers drops 48 spots ahead of first season with Jets\\nIt's that time of year again, when NFL players cast their votes to identify the best in the league heading into the 2023 NFL season. Which players joined Saquon Barkley and Christian McCaffrey from Nos. 40-31?\\nTop 100 Players of 2023, Nos. 50-41: Kirk Cousins earns career-high ranking; Cooper Kupp drops\\nIt's that time of year again, when NFL players cast their votes to identify the best in the league heading into the 2023 NFL season. Which players joined Jets CB Sauce Gardner from Nos. 30-21?\\nTop 100 Players of 2023, Nos. 40-31: Saquon Barkley, Christian McCaffrey return to ranking\\nIt's that time of year again, when NFL players cast their votes to identify the best in the league heading into the 2023 NFL season. Which players joined Chiefs QB Patrick Mahomes from Nos. 10-1?\\nTop 100 Players of 2023, Nos. 20-11: Josh Jacobs leads three Raiders; Aaron Donald drops down\\nIt's that time of year again, when NFL players cast their votes to identify the best in the league heading into the 2023 NFL season. Which players joined Jets QB Aaron Rodgers from Nos. 60-51?\\nTop 100 Players of 2023, Nos. 70-61: Jared Goff, Amon-Ra St. Brown rep Lions; Deebo Samuel drops\\nIt's that time of year again, when NFL players cast their votes to identify the best in the league heading into the 2023 NFL season.\", 'score': 0.67405045, 'raw_content': None}], 'response_time': 2.1})]}}\n",
      "---------------\n",
      "{'agent': {'messages': [AIMessage(content='I found information on the top-rated football players. Here are some details:\\n\\n1. Rodri from Manchester City (Spain)\\n2. Vinicius Junior from Real Madrid (Brazil)\\n3. Kylian Mbappe\\n\\nYou can read more about the top 25 footballers in the world right now by visiting [this link](https://www.givemesport.com/best-football-players-in-the-world/).', additional_kwargs={'refusal': None}, response_metadata={'token_usage': {'completion_tokens': 85, 'prompt_tokens': 635, 'total_tokens': 720, 'completion_tokens_details': {'reasoning_tokens': 0}}, 'model_name': 'gpt-3.5-turbo-0125', 'system_fingerprint': None, 'finish_reason': 'stop', 'logprobs': None}, id='run-f0205a20-a3d3-49e1-92db-84967f59e2f0-0', usage_metadata={'input_tokens': 635, 'output_tokens': 85, 'total_tokens': 720})]}}\n",
      "---------------\n"
     ]
    }
   ],
   "source": [
    "config = {'configurable': {'thread_id': '002'}}\n",
    "for chunk in agent_executor.stream(\n",
    "    {'messages': HumanMessage(content='Who where top rated players?')}, config\n",
    "):\n",
    "    print(chunk)\n",
    "    print('---------------')"
   ]
  }
 ],
 "metadata": {
  "kernelspec": {
   "display_name": "llm",
   "language": "python",
   "name": "python3"
  },
  "language_info": {
   "codemirror_mode": {
    "name": "ipython",
    "version": 3
   },
   "file_extension": ".py",
   "mimetype": "text/x-python",
   "name": "python",
   "nbconvert_exporter": "python",
   "pygments_lexer": "ipython3",
   "version": "3.10.14"
  }
 },
 "nbformat": 4,
 "nbformat_minor": 2
}

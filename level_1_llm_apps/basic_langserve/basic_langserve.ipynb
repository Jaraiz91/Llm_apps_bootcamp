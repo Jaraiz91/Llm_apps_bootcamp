{
 "cells": [
  {
   "cell_type": "markdown",
   "metadata": {},
   "source": [
    "# How to build a simple LLM App with LangChain and deploy it with LangServe\n",
    "* Very simple LLM App.\n",
    "* Goal of the App: translate text from English into another language.\n",
    "* Second version: how to build this app using a language other than English."
   ]
  },
  {
   "cell_type": "code",
   "execution_count": 1,
   "metadata": {},
   "outputs": [],
   "source": [
    "import os\n",
    "from dotenv import load_dotenv, find_dotenv\n",
    "_ = load_dotenv(find_dotenv())\n",
    "openai_api_key = os.environ['OPENAI_API_KEY']"
   ]
  },
  {
   "cell_type": "code",
   "execution_count": 2,
   "metadata": {},
   "outputs": [],
   "source": [
    "from langchain_openai import ChatOpenAI\n",
    "llm = ChatOpenAI(model='gpt-3.5-turbo')"
   ]
  },
  {
   "cell_type": "code",
   "execution_count": 4,
   "metadata": {},
   "outputs": [
    {
     "data": {
      "text/plain": [
       "AIMessage(content='La IA generativa es la mayor oportunidad de creación de valor en la historia humana.', additional_kwargs={'refusal': None}, response_metadata={'token_usage': {'completion_tokens': 20, 'prompt_tokens': 38, 'total_tokens': 58, 'completion_tokens_details': {'reasoning_tokens': 0}}, 'model_name': 'gpt-3.5-turbo-0125', 'system_fingerprint': None, 'finish_reason': 'stop', 'logprobs': None}, id='run-3376a5ed-cf0b-4093-8b4c-132032edc81e-0', usage_metadata={'input_tokens': 38, 'output_tokens': 20, 'total_tokens': 58})"
      ]
     },
     "execution_count": 4,
     "metadata": {},
     "output_type": "execute_result"
    }
   ],
   "source": [
    "from langchain_core.messages import HumanMessage, SystemMessage\n",
    "messages_to_the_llm = [\n",
    "    SystemMessage(content='Your task is to translate any Human inpit from English into Spanish'),\n",
    "    HumanMessage(content='Generative AI is the greatest value-creation opportunity in Human History.')\n",
    "]\n",
    "\n",
    "llm.invoke(messages_to_the_llm)"
   ]
  },
  {
   "cell_type": "markdown",
   "metadata": {},
   "source": [
    "## Use a Prompt Template with a System Message and Variables\n",
    "* variables:\n",
    "    * text_input: the text the user wants to translate \n",
    "    * language: the language the user wants to translate the text_input into."
   ]
  },
  {
   "cell_type": "code",
   "execution_count": 5,
   "metadata": {},
   "outputs": [
    {
     "data": {
      "text/plain": [
       "'¡Ahora es el momento para la IA!'"
      ]
     },
     "execution_count": 5,
     "metadata": {},
     "output_type": "execute_result"
    }
   ],
   "source": [
    "from langchain_core.prompts import ChatPromptTemplate\n",
    "from langchain_core.output_parsers import StrOutputParser\n",
    "\n",
    "parser = StrOutputParser()\n",
    "\n",
    "system_template = 'translate the following text input into {language}'\n",
    "prompt_template = ChatPromptTemplate.from_messages(\n",
    "    [\n",
    "        ('system',system_template ),\n",
    "        ('user', '{text_input}')\n",
    "    ]\n",
    ")\n",
    "\n",
    "chain = prompt_template | llm | parser\n",
    "chain.invoke({'language': 'spanishg', 'text_input': 'Now is the moment for AI!'})"
   ]
  },
  {
   "cell_type": "markdown",
   "metadata": {},
   "source": [
    "## Deploy the App using LangServe"
   ]
  },
  {
   "cell_type": "markdown",
   "metadata": {},
   "source": [
    "**LangServe** is a component of the LangChain framework designed to help developers deploy language model applications as web services easily and efficiently. In simpler terms, it turns your language-based applications (like chatbots, translators, or any other app using language models) into web services that can be accessed over the internet through URLs.\n",
    "\n",
    "Here’s a step-by-step explanation on how to deploy a LangChain app using LangServe:\n",
    "\n",
    "1. **Develop Your App**: First, you create your language model application using LangChain. This involves setting up the language model, defining how it should process inputs and outputs, and possibly integrating with other systems or APIs.\n",
    "\n",
    "2. **Prepare for Deployment**:\n",
    "   - Ensure that your app is well-tested locally and behaves as expected.\n",
    "   - Configure any necessary environment variables, such as API keys or service endpoints, which the app will need to function properly once deployed.\n",
    "\n",
    "3. **Set Up LangServe**:\n",
    "   - LangServe acts as a server environment for your LangChain app. You'll need to configure LangServe settings specific to your application, such as the port number on which the server should run and any specific route paths (URLs) that should be handled by your app.\n",
    "\n",
    "4. **Deploy the Application**:\n",
    "   - Using tools and commands provided by LangChain, you can start the LangServe server with your application loaded on it. This makes your app available on a specified port of your server machine.\n",
    "   - If you need your service to be accessible publicly over the internet (not just locally), you might need to deploy it on a cloud platform or a dedicated server with a public IP address.\n",
    "\n",
    "5. **Access the App via URLs**:\n",
    "   - Once deployed, your application can be accessed through web URLs. This could be for direct user interaction (like a web-based chat interface) or for integration with other systems (like APIs that other software can call to use your app).\n",
    "\n",
    "LangServe effectively simplifies the process of making your LangChain apps accessible as standard web services, which can be a powerful way to deploy AI-driven language applications."
   ]
  }
 ],
 "metadata": {
  "kernelspec": {
   "display_name": "llm",
   "language": "python",
   "name": "python3"
  },
  "language_info": {
   "codemirror_mode": {
    "name": "ipython",
    "version": 3
   },
   "file_extension": ".py",
   "mimetype": "text/x-python",
   "name": "python",
   "nbconvert_exporter": "python",
   "pygments_lexer": "ipython3",
   "version": "3.10.14"
  }
 },
 "nbformat": 4,
 "nbformat_minor": 2
}
